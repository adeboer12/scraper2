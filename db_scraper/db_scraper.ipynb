{
 "cells": [
  {
   "cell_type": "code",
   "execution_count": null,
   "metadata": {
    "collapsed": false
   },
   "outputs": [],
   "source": [
    "# This is a test script for the rental listing scraper\n",
    "from datetime import datetime as dt\n",
    "from datetime import timedelta\n",
    "import time\n",
    "import sys\n",
    "import os\n",
    "import multiprocessing\n",
    "import shutil\n",
    "import subprocess\n",
    "import glob\n",
    "sys.path.insert(0, './shared_room_scraper')\n",
    "import roodata_to_database"
   ]
  },
  {
   "cell_type": "code",
   "execution_count": null,
   "metadata": {
    "collapsed": false
   },
   "outputs": [],
   "source": [
    "sys.path"
   ]
  },
  {
   "cell_type": "code",
   "execution_count": null,
   "metadata": {
    "collapsed": true
   },
   "outputs": [],
   "source": [
    "domains = []\n",
    "with open('./domains_roo_test.txt', 'r') as f:\n",
    "    for line in f.readlines():\n",
    "        domains.append((line.strip()))\n",
    "        "
   ]
  },
  {
   "cell_type": "code",
   "execution_count": null,
   "metadata": {
    "collapsed": false
   },
   "outputs": [],
   "source": [
    "domains"
   ]
  },
  {
   "cell_type": "code",
   "execution_count": null,
   "metadata": {
    "collapsed": true
   },
   "outputs": [],
   "source": [
    "lookback = 1  # hours\n",
    "\n",
    "earliest_ts = dt.now() - timedelta(hours=lookback)\n",
    "latest_ts = dt.now() + timedelta(hours=0)\n",
    "ts = dt.now().strftime('%Y%m%d-%H%M%S')\n",
    "\n",
    "jobs = []"
   ]
  },
  {
   "cell_type": "code",
   "execution_count": null,
   "metadata": {
    "collapsed": false
   },
   "outputs": [],
   "source": [
    "st_time = time.time()\n",
    "for domain in domains:\n",
    "    s = roodata_to_database.RentalListingScraper(\n",
    "        domains=[domain],\n",
    "        earliest_ts=earliest_ts,\n",
    "        latest_ts=latest_ts,\n",
    "        fname_ts=ts)\n",
    "    print ('Starting process for ' + domain)\n",
    "    p = multiprocessing.Process(target=s.run)\n",
    "    jobs.append(p)\n",
    "    p.start()"
   ]
  },
  {
   "cell_type": "code",
   "execution_count": null,
   "metadata": {
    "collapsed": false
   },
   "outputs": [],
   "source": [
    "for i, job in enumerate(jobs):\n",
    "    job.join()\n",
    "    end_time = time.time()\n",
    "    elapsed_time = end_time - st_time\n",
    "    time_per_domain = elapsed_time / (i + 1.0)\n",
    "    num_domains = len(jobs)\n",
    "    domains_left = num_domains - (i + 1.0)\n",
    "    time_left = domains_left * time_per_domain\n",
    "    print(\"Took {0} seconds for {1} regions.\".format(elapsed_time, i + 1))\n",
    "    print(\"About {0} seconds left.\".format(time_left))"
   ]
  },
  {
   "cell_type": "code",
   "execution_count": null,
   "metadata": {
    "collapsed": false
   },
   "outputs": [],
   "source": [
    "# archive the data and delete the raw files\n",
    "print(\"Archiving data.\")\n",
    "\n",
    "shutil.make_archive('./Archives/' + ts,\n",
    "                    'zip', './data')\n",
    "[os.remove(x) for x in glob.glob('./data/*' +\n",
    "                                 ts + \".csv\")]\n"
   ]
  },
  {
   "cell_type": "code",
   "execution_count": null,
   "metadata": {
    "collapsed": true
   },
   "outputs": [],
   "source": []
  }
 ],
 "metadata": {
  "anaconda-cloud": {},
  "kernelspec": {
   "display_name": "Python [Root]",
   "language": "python",
   "name": "Python [Root]"
  },
  "language_info": {
   "codemirror_mode": {
    "name": "ipython",
    "version": 3
   },
   "file_extension": ".py",
   "mimetype": "text/x-python",
   "name": "python",
   "nbconvert_exporter": "python",
   "pygments_lexer": "ipython3",
   "version": "3.5.2"
  }
 },
 "nbformat": 4,
 "nbformat_minor": 0
}
