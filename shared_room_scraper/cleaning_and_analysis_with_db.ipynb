{
 "cells": [
  {
   "cell_type": "markdown",
   "metadata": {},
   "source": [
    "# Import from Database and Analysis\n",
    "This notebook imports shared Craigslist listings from the database on Istanbul for initial data exploration and analysis."
   ]
  },
  {
   "cell_type": "code",
   "execution_count": 1,
   "metadata": {
    "collapsed": true
   },
   "outputs": [],
   "source": [
    "#import packages\n",
    "import pandas as pd\n",
    "import numpy as np\n",
    "import re as re\n",
    "import json    # library for working with JSON-formatted text strings\n",
    "import requests  # library for accessing content from web URLs\n",
    "import pprint  # library for making Python data structures readable\n",
    "import psycopg2\n",
    "import matplotlib.font_manager as fm\n",
    "import matplotlib.pyplot as plt\n",
    "import plotly as py\n",
    "from plotly.graph_objs import *\n",
    "pp = pprint.PrettyPrinter()\n",
    "pd.options.mode.chained_assignment = None #disables warnings for editing copy of a dataframe\n",
    "pd.set_option('display.float_format', lambda x: '%.3f' % x) #describe() vars are not in scientific notation\n",
    "pd.set_option('max_columns', 30)\n",
    "%matplotlib inline"
   ]
  },
  {
   "cell_type": "code",
   "execution_count": 2,
   "metadata": {
    "collapsed": true
   },
   "outputs": [],
   "source": [
    "# Defining font styles for graphics\n",
    "family = 'Arial'\n",
    "title_font = fm.FontProperties(family=family, style='normal', size=18, weight='normal', stretch='normal')\n",
    "label_font = fm.FontProperties(family=family, style='normal', size=16, weight='normal', stretch='normal')\n",
    "ticks_font = fm.FontProperties(family=family, style='normal', size=14, weight='normal', stretch='normal')"
   ]
  },
  {
   "cell_type": "code",
   "execution_count": 3,
   "metadata": {
    "collapsed": true
   },
   "outputs": [],
   "source": [
    "# Creating function for defining colors for graphics\n",
    "def get_colors(cmap, n, start=0., stop=1., alpha=1., reverse=False):\n",
    "    '''return n-length list of rgba colors from the passed colormap name and alpha,\n",
    "       limit extent by start/stop values and reverse list order if flag is true'''\n",
    "    colors = [cm.get_cmap(cmap)(x) for x in np.linspace(start, stop, n)]\n",
    "    colors = [(r, g, b, alpha) for r, g, b, _ in colors]\n",
    "    return list(reversed(colors)) if reverse else colors"
   ]
  },
  {
   "cell_type": "code",
   "execution_count": 4,
   "metadata": {
    "collapsed": true
   },
   "outputs": [],
   "source": [
    "# Read in credentials from private settings file\n",
    "with open('settings.json') as settings_file:    \n",
    "    settings = json.load(settings_file)"
   ]
  },
  {
   "cell_type": "code",
   "execution_count": 5,
   "metadata": {
    "collapsed": true
   },
   "outputs": [],
   "source": [
    "#try to connect to database on local machine\n",
    "dbname = settings['dbname']\n",
    "user = settings['user']\n",
    "host = settings['host']\n",
    "password = settings['password']\n",
    "\n",
    "conn_str = \"dbname = {0} user = {1} host = {2} password = {3}\".format(dbname, user, host, password)\n",
    "\n",
    "try:\n",
    "    conn = psycopg2.connect(conn_str)\n",
    "except:\n",
    "    print (\"I am unable to connect to the database\")"
   ]
  },
  {
   "cell_type": "code",
   "execution_count": null,
   "metadata": {
    "collapsed": true
   },
   "outputs": [],
   "source": [
    "# example dataframe with all the listings (as of 04/24, about 23k listings)\n",
    "df = pd.read_sql_query(\"select * from shared_listings;\",con=conn)\n"
   ]
  },
  {
   "cell_type": "code",
   "execution_count": null,
   "metadata": {},
   "outputs": [],
   "source": [
    "df.shape"
   ]
  },
  {
   "cell_type": "markdown",
   "metadata": {},
   "source": [
    "### April Listings"
   ]
  },
  {
   "cell_type": "code",
   "execution_count": 6,
   "metadata": {
    "collapsed": true
   },
   "outputs": [],
   "source": [
    "df_april = pd.read_sql_query(\"select * from shared_listings where dt < '2017-05-01' AND dt >= '2017-04-01';\",con=conn)\n",
    "df_april2 = pd.read_sql_query(\"select * from csv_sharedlistings where dt < '2017-05-01' AND dt >= '2017-04-01';\",con=conn)"
   ]
  },
  {
   "cell_type": "code",
   "execution_count": 7,
   "metadata": {
    "collapsed": true
   },
   "outputs": [],
   "source": [
    "df_april2.rename(columns={'price': 'rent'}, inplace=True)"
   ]
  },
  {
   "cell_type": "code",
   "execution_count": 8,
   "metadata": {
    "collapsed": true
   },
   "outputs": [],
   "source": [
    "columns = ['pid', 'dt', 'url','title', 'rent', 'neighb', 'sqft', 'lat', 'lng','accuracy', 'body_text', 'furnished', 'laundry_known',\n",
    "'laundry_onpremises', 'laundry_inunit', 'room_known', 'private_room', 'bath_known', 'parking_known', 'onsite_parking']\n",
    "df_april = df_april[columns]\n",
    "df_april2 = df_april2[columns]"
   ]
  },
  {
   "cell_type": "code",
   "execution_count": 9,
   "metadata": {
    "collapsed": true
   },
   "outputs": [],
   "source": [
    "df_april = df_april.reset_index()\n",
    "df_april2 = df_april2.reset_index()"
   ]
  },
  {
   "cell_type": "code",
   "execution_count": 10,
   "metadata": {
    "collapsed": true
   },
   "outputs": [],
   "source": [
    "df = pd.concat([df_april, df_april2], axis=0)"
   ]
  },
  {
   "cell_type": "code",
   "execution_count": 81,
   "metadata": {
    "collapsed": true
   },
   "outputs": [],
   "source": [
    "df = df.reset_index()"
   ]
  },
  {
   "cell_type": "code",
   "execution_count": 82,
   "metadata": {},
   "outputs": [
    {
     "data": {
      "text/plain": [
       "(798264, 29)"
      ]
     },
     "execution_count": 82,
     "metadata": {},
     "output_type": "execute_result"
    }
   ],
   "source": [
    "df.shape"
   ]
  },
  {
   "cell_type": "code",
   "execution_count": 12,
   "metadata": {
    "collapsed": true
   },
   "outputs": [],
   "source": [
    "#df = df_april.append(df_april2)"
   ]
  },
  {
   "cell_type": "code",
   "execution_count": 83,
   "metadata": {},
   "outputs": [],
   "source": [
    "df['dt'] = pd.to_datetime(df['dt'], format='%Y-%m-%d')\n",
    "df['region'] = df['url'].str.extract('http://(.*).craigslist.org', expand=False)\n",
    "df['day_of_week'] = df['dt'].apply(lambda x: x.weekday())"
   ]
  },
  {
   "cell_type": "code",
   "execution_count": null,
   "metadata": {},
   "outputs": [],
   "source": [
    "df.dtypes"
   ]
  },
  {
   "cell_type": "markdown",
   "metadata": {},
   "source": [
    "### Example SQL pulls"
   ]
  },
  {
   "cell_type": "code",
   "execution_count": null,
   "metadata": {
    "collapsed": true
   },
   "outputs": [],
   "source": [
    "# example syntax for pulling just those from newyork domain\n",
    "df_nyc = pd.read_sql_query(\"select * from shared_listings where region = 'newyork';\",con=conn)"
   ]
  },
  {
   "cell_type": "code",
   "execution_count": null,
   "metadata": {
    "collapsed": true
   },
   "outputs": [],
   "source": [
    "# example syntax for pulling just those on a specific date (April 22)\n",
    "df_april25 = pd.read_sql_query(\"select * from shared_listings where dt >= '2017-04-25' AND dt < '2017-04-23';\",con=conn)"
   ]
  },
  {
   "cell_type": "code",
   "execution_count": null,
   "metadata": {
    "collapsed": true
   },
   "outputs": [],
   "source": [
    "# example syntax for pulling just those on a specific date (April 22)\n",
    "df_april25 = pd.read_sql_query(\"select * from shared_listings where dt >= '2017-04-25';\",con=conn)"
   ]
  },
  {
   "cell_type": "code",
   "execution_count": null,
   "metadata": {
    "collapsed": true
   },
   "outputs": [],
   "source": [
    "df_april24 = pd.read_sql_query(\"select * from shared_listings where dt >= '2017-04-24'AND dt < '2017-04-25';\",con=conn)"
   ]
  },
  {
   "cell_type": "code",
   "execution_count": null,
   "metadata": {
    "collapsed": true
   },
   "outputs": [],
   "source": [
    "df_april23 = pd.read_sql_query(\"select * from shared_listings where dt >= '2017-04-23'AND dt < '2017-04-24';\",con=conn)"
   ]
  },
  {
   "cell_type": "code",
   "execution_count": null,
   "metadata": {
    "collapsed": true
   },
   "outputs": [],
   "source": [
    "#close database connection (no longer needed)\n",
    "conn.close()"
   ]
  },
  {
   "cell_type": "markdown",
   "metadata": {},
   "source": [
    "### De-Duplication"
   ]
  },
  {
   "cell_type": "code",
   "execution_count": 84,
   "metadata": {
    "collapsed": true
   },
   "outputs": [],
   "source": [
    "df.loc[df.lat == 99, 'lat'] = 0\n",
    "df.loc[df.lng == 99, 'lng'] = 0\n",
    "df.loc[df.sqft == 0, 'sqft'] = np.nan\n",
    "\n",
    "#For any duplicate post, we want to keep the version with the most information. Therefore, assign a score to each post and \n",
    "#give one point for square footage, lat, long and price\n",
    "\n",
    "df['price_exists'] = df['rent']>0\n",
    "df['sqft_exists'] = df['sqft']>0\n",
    "df['lat_exists'] = df['lat']>0\n",
    "df['lng_exists'] = df['lng']<0\n",
    "df['score'] = df[['price_exists','sqft_exists','lat_exists','lng_exists']].astype(bool).sum(axis=1)"
   ]
  },
  {
   "cell_type": "code",
   "execution_count": 85,
   "metadata": {
    "collapsed": true
   },
   "outputs": [],
   "source": [
    "#Sort rows by score\n",
    "df = df.sort_values(by='score',ascending=False)"
   ]
  },
  {
   "cell_type": "code",
   "execution_count": 86,
   "metadata": {
    "collapsed": true
   },
   "outputs": [],
   "source": [
    "dedupe1 = pd.DataFrame(df.drop_duplicates(subset='pid', inplace=False))"
   ]
  },
  {
   "cell_type": "code",
   "execution_count": 87,
   "metadata": {
    "scrolled": true
   },
   "outputs": [
    {
     "name": "stdout",
     "output_type": "stream",
     "text": [
      "first round of deduplication: (309162, 29)\n"
     ]
    }
   ],
   "source": [
    "print('first round of deduplication:', dedupe1.shape)"
   ]
  },
  {
   "cell_type": "code",
   "execution_count": 88,
   "metadata": {
    "collapsed": true
   },
   "outputs": [],
   "source": [
    "dedupe2 = pd.DataFrame(dedupe1.drop_duplicates(subset='body_text', inplace=False))"
   ]
  },
  {
   "cell_type": "code",
   "execution_count": 89,
   "metadata": {},
   "outputs": [
    {
     "data": {
      "text/plain": [
       "(218389, 29)"
      ]
     },
     "execution_count": 89,
     "metadata": {},
     "output_type": "execute_result"
    }
   ],
   "source": [
    "dedupe2.shape"
   ]
  },
  {
   "cell_type": "markdown",
   "metadata": {},
   "source": [
    "### Quick bar chart to see impact of deduplication on sample size"
   ]
  },
  {
   "cell_type": "code",
   "execution_count": null,
   "metadata": {
    "collapsed": true
   },
   "outputs": [],
   "source": [
    "y = [len(df),len(dedupe1), len(dedupe2)]\n",
    "labels = ['original', 'dedupe_pid', 'dedupe_body']\n",
    "x = [1,2,3]"
   ]
  },
  {
   "cell_type": "code",
   "execution_count": null,
   "metadata": {
    "scrolled": true
   },
   "outputs": [],
   "source": [
    "plt.figure(figsize=(10,6) )\n",
    "plt.suptitle('Deduplication Sample Size')\n",
    "plt.xlabel('Deduplication Phase')\n",
    "plt.ylabel('Number of Listings')\n",
    "plt.xticks(x, labels)\n",
    "ax = plt.bar(x, y, alpha=.4, color='cyan', align='center')\n",
    "plt.show()"
   ]
  },
  {
   "cell_type": "markdown",
   "metadata": {},
   "source": [
    "#### Code for plotting same histo w/Plotly"
   ]
  },
  {
   "cell_type": "code",
   "execution_count": null,
   "metadata": {
    "collapsed": true,
    "scrolled": true
   },
   "outputs": [],
   "source": [
    "#For initializing offline mode. Not working though...\n",
    "#py.offline.init_notebook_mode() "
   ]
  },
  {
   "cell_type": "code",
   "execution_count": null,
   "metadata": {
    "collapsed": true,
    "scrolled": true
   },
   "outputs": [],
   "source": [
    "data = [Bar(x=['original','dedupe_pid','dedupe_body'], y=[len(df),len(dedupe1), len(dedupe2)])]\n",
    "py.offline.plot(data)"
   ]
  },
  {
   "cell_type": "markdown",
   "metadata": {},
   "source": [
    "### More Filtering"
   ]
  },
  {
   "cell_type": "code",
   "execution_count": 90,
   "metadata": {
    "collapsed": true
   },
   "outputs": [],
   "source": [
    "# Filtering out listings that don't include rent price\n",
    "unique_wprice = dedupe2[dedupe2['rent'] > 0]"
   ]
  },
  {
   "cell_type": "code",
   "execution_count": 91,
   "metadata": {},
   "outputs": [
    {
     "data": {
      "text/plain": [
       "(184009, 29)"
      ]
     },
     "execution_count": 91,
     "metadata": {},
     "output_type": "execute_result"
    }
   ],
   "source": [
    "unique_wprice.shape"
   ]
  },
  {
   "cell_type": "code",
   "execution_count": 92,
   "metadata": {},
   "outputs": [
    {
     "name": "stdout",
     "output_type": "stream",
     "text": [
      "valid rent range: [300.0, 5495.0]\n"
     ]
    }
   ],
   "source": [
    "# in this cell, define the values by which we will filter the 3 columns. This will vary depending on the sample we're looking at. \n",
    "upper_percentile = 0.997\n",
    "lower_percentile = 0.07\n",
    "\n",
    "# how many rows would be within the upper and lower percentiles?\n",
    "upper = int(len(unique_wprice) * upper_percentile)\n",
    "lower = int(len(unique_wprice) * lower_percentile)\n",
    "\n",
    "# get the rent values at the upper and lower percentiles\n",
    "rent_sorted = unique_wprice['rent'].sort_values(ascending=True, inplace=False)\n",
    "upper_rent = rent_sorted.iloc[upper]\n",
    "lower_rent = rent_sorted.iloc[lower]\n",
    "\n",
    "print('valid rent range:', [lower_rent, upper_rent])"
   ]
  },
  {
   "cell_type": "code",
   "execution_count": 93,
   "metadata": {
    "collapsed": true
   },
   "outputs": [],
   "source": [
    "#Filtering out rows with unreasonable rent prices \n",
    "rent_mask = (unique_wprice['rent'] > lower_rent) & (unique_wprice['rent'] < upper_rent)"
   ]
  },
  {
   "cell_type": "code",
   "execution_count": 94,
   "metadata": {
    "collapsed": true
   },
   "outputs": [],
   "source": [
    "filtered_listings = pd.DataFrame(unique_wprice[rent_mask])"
   ]
  },
  {
   "cell_type": "code",
   "execution_count": 95,
   "metadata": {
    "scrolled": true
   },
   "outputs": [
    {
     "data": {
      "text/plain": [
       "(169189, 29)"
      ]
     },
     "execution_count": 95,
     "metadata": {},
     "output_type": "execute_result"
    }
   ],
   "source": [
    "filtered_listings.shape"
   ]
  },
  {
   "cell_type": "code",
   "execution_count": 96,
   "metadata": {},
   "outputs": [
    {
     "data": {
      "text/plain": [
       "(163011, 29)"
      ]
     },
     "execution_count": 96,
     "metadata": {},
     "output_type": "execute_result"
    }
   ],
   "source": [
    "#Creating dataframe that only includes shared listings that are private rooms\n",
    "filtered_private_only = filtered_listings[filtered_listings['private_room']==True]\n",
    "\n",
    "filtered_private_only.shape"
   ]
  },
  {
   "cell_type": "markdown",
   "metadata": {},
   "source": [
    "### Full Filtered Database Charts"
   ]
  },
  {
   "cell_type": "code",
   "execution_count": 27,
   "metadata": {
    "collapsed": true
   },
   "outputs": [],
   "source": [
    "listings_ratios = pd.DataFrame()\n",
    "\n",
    "#Number of total shared listings for reach region before deduplication or filtering\n",
    "listings_ratios['all_shared_listings'] = df['region'].value_counts()\n",
    "\n",
    "listings_ratios['deduplicated_pid'] = dedupe1['region'].value_counts()\n",
    "\n",
    "listings_ratios['deduplicated_text'] = dedupe2['region'].value_counts()\n",
    "\n",
    "listings_ratios['duplicate_listings'] = listings_ratios['all_shared_listings'] - listings_ratios['deduplicated_text'] \n",
    "\n",
    "listings_ratios['duplicate_ratio'] = listings_ratios['duplicate_listings']/listings_ratios['all_shared_listings']\n",
    "\n",
    "listings_ratios['unique_ratio'] = listings_ratios['deduplicated_text']/listings_ratios['all_shared_listings']"
   ]
  },
  {
   "cell_type": "code",
   "execution_count": null,
   "metadata": {},
   "outputs": [],
   "source": [
    "listings_ratios.head()"
   ]
  },
  {
   "cell_type": "code",
   "execution_count": null,
   "metadata": {},
   "outputs": [],
   "source": [
    "# plot the ratios of unique and duplicate listings, by region. This is before dropping observations without lat-lngs!\n",
    "\n",
    "countdata = listings_ratios.sort_values(by='all_shared_listings', ascending=False)[['deduplicated_text','duplicate_listings']].head(20)\n",
    "countdata.columns = ['Unique Listings', 'Duplicate Listings']\n",
    "ax = countdata.plot(kind='bar',\n",
    "                    stacked=True,\n",
    "                    figsize=[10, 6], \n",
    "                    width=0.6, \n",
    "                    alpha=0.5, \n",
    "                    color=['b','m'],\n",
    "                    edgecolor='k',\n",
    "                    grid=False)\n",
    "\n",
    "ax.yaxis.grid(True)\n",
    "ax.set_xticks(range(0, len(countdata)))\n",
    "ax.set_xticklabels(countdata.index, rotation=40, rotation_mode='anchor', ha='right', fontproperties=ticks_font)\n",
    "for label in ax.get_yticklabels():\n",
    "        label.set_fontproperties(ticks_font)\n",
    "ax.set_title('Unique and Duplicate Shared Rental Listings, by Region', fontproperties=title_font)\n",
    "ax.set_xlabel('', fontproperties=label_font)\n",
    "ax.set_ylabel('Total number of listings', fontproperties=label_font)        \n",
    "\n",
    "#save_fig(plt.gcf(), 'count_unique_duplicate_listings.png')\n",
    "plt.show()"
   ]
  },
  {
   "cell_type": "markdown",
   "metadata": {
    "collapsed": true
   },
   "source": [
    "## Spatial Join for Census Tracts"
   ]
  },
  {
   "cell_type": "code",
   "execution_count": 33,
   "metadata": {
    "collapsed": true
   },
   "outputs": [],
   "source": [
    "import geopandas as gpd\n",
    "\n",
    "from geopandas import GeoDataFrame\n",
    "from shapely.geometry import Point\n",
    "from geopy.distance import great_circle\n",
    "\n",
    "from scipy import ndimage\n",
    "\n",
    "import matplotlib.pylab as pylab\n",
    "import matplotlib.pyplot as plt\n",
    "pylab.rcParams['figure.figsize'] = 10, 8\n",
    "import fiona"
   ]
  },
  {
   "cell_type": "markdown",
   "metadata": {},
   "source": [
    "### California Regions"
   ]
  },
  {
   "cell_type": "code",
   "execution_count": 35,
   "metadata": {},
   "outputs": [
    {
     "name": "stdout",
     "output_type": "stream",
     "text": [
      "<class 'geopandas.geodataframe.GeoDataFrame'>\n",
      "{'init': 'epsg:4269'}\n"
     ]
    }
   ],
   "source": [
    "california = gpd.read_file(\"C:\\\\Users\\\\james\\\\Documents\\\\Berkeley_Docs\\\\Fall_16_Courses\\\\CP255\\\\Oct31_Geopandas_and_spatial_analysis\\\\spatial_analysis\\\\cb_2015_06_tract_500k\\\\cb_2015_06_tract_500k.shp\")\n",
    "print(type(california))\n",
    "print(california.crs)"
   ]
  },
  {
   "cell_type": "code",
   "execution_count": 36,
   "metadata": {},
   "outputs": [
    {
     "name": "stdout",
     "output_type": "stream",
     "text": [
      "{'init': 'epsg:2227'}\n"
     ]
    }
   ],
   "source": [
    "#Use California CRS\n",
    "# California.crs = {'init' :'epsg:2227'}\n",
    "#http://spatialreference.org/ref/epsg/2227/\n",
    "california_crs = {'init': 'epsg:2227'}\n",
    "california = california.to_crs(california_crs)\n",
    "print(california.crs)"
   ]
  },
  {
   "cell_type": "code",
   "execution_count": 97,
   "metadata": {
    "collapsed": true
   },
   "outputs": [],
   "source": [
    "sfbay = filtered_private_only[filtered_private_only['region']=='sfbay']"
   ]
  },
  {
   "cell_type": "code",
   "execution_count": 98,
   "metadata": {
    "collapsed": true,
    "scrolled": false
   },
   "outputs": [],
   "source": [
    "sfbay = sfbay[sfbay.lat != 0]"
   ]
  },
  {
   "cell_type": "code",
   "execution_count": 99,
   "metadata": {
    "collapsed": true
   },
   "outputs": [],
   "source": [
    "los_angeles = filtered_private_only[filtered_private_only['region']=='losangeles']"
   ]
  },
  {
   "cell_type": "code",
   "execution_count": 100,
   "metadata": {
    "collapsed": true
   },
   "outputs": [],
   "source": [
    "los_angeles = los_angeles[los_angeles.lat != 0]"
   ]
  },
  {
   "cell_type": "markdown",
   "metadata": {},
   "source": [
    "### LA GeoDF"
   ]
  },
  {
   "cell_type": "code",
   "execution_count": 101,
   "metadata": {},
   "outputs": [
    {
     "name": "stdout",
     "output_type": "stream",
     "text": [
      "<class 'geopandas.geodataframe.GeoDataFrame'>\n",
      "{'init': 'epsg:2227'}\n"
     ]
    }
   ],
   "source": [
    "geometryMapping_la = [Point(xy) for xy in zip(los_angeles.lng, los_angeles.lat)]\n",
    "geo_la = GeoDataFrame(los_angeles, crs={'init' :'epsg:4326'}, geometry=geometryMapping_la)\n",
    "geo_la=geo_la.to_crs(california_crs)\n",
    "print(type(geo_la))\n",
    "print(geo_la.crs)"
   ]
  },
  {
   "cell_type": "markdown",
   "metadata": {},
   "source": [
    "### SF GeoDF"
   ]
  },
  {
   "cell_type": "code",
   "execution_count": 102,
   "metadata": {},
   "outputs": [
    {
     "name": "stdout",
     "output_type": "stream",
     "text": [
      "<class 'geopandas.geodataframe.GeoDataFrame'>\n",
      "{'init': 'epsg:2227'}\n"
     ]
    }
   ],
   "source": [
    "geometryMapping = [Point(xy) for xy in zip(sfbay.lng, sfbay.lat)]\n",
    "geo_sf = GeoDataFrame(sfbay, crs={'init' :'epsg:4326'}, geometry=geometryMapping)\n",
    "geo_sf=geo_sf.to_crs(california_crs)\n",
    "print(type(geo_sf))\n",
    "print(geo_sf.crs)"
   ]
  },
  {
   "cell_type": "code",
   "execution_count": 43,
   "metadata": {},
   "outputs": [
    {
     "data": {
      "text/plain": [
       "index                          int64\n",
       "pid                           object\n",
       "dt                    datetime64[ns]\n",
       "url                           object\n",
       "title                         object\n",
       "rent                         float64\n",
       "neighb                        object\n",
       "sqft                         float64\n",
       "lat                          float64\n",
       "lng                          float64\n",
       "accuracy                       int64\n",
       "body_text                     object\n",
       "furnished                       bool\n",
       "laundry_known                   bool\n",
       "laundry_onpremises              bool\n",
       "laundry_inunit                  bool\n",
       "room_known                      bool\n",
       "private_room                    bool\n",
       "bath_known                      bool\n",
       "parking_known                   bool\n",
       "onsite_parking                  bool\n",
       "region                        object\n",
       "day_of_week                    int64\n",
       "price_exists                    bool\n",
       "sqft_exists                     bool\n",
       "lat_exists                      bool\n",
       "lng_exists                      bool\n",
       "score                          int64\n",
       "geometry                      object\n",
       "dtype: object"
      ]
     },
     "execution_count": 43,
     "metadata": {},
     "output_type": "execute_result"
    }
   ],
   "source": [
    "geo_la.dtypes"
   ]
  },
  {
   "cell_type": "code",
   "execution_count": 103,
   "metadata": {},
   "outputs": [],
   "source": [
    "la_joined = gpd.sjoin(geo_la, california, how=\"inner\", op='intersects')"
   ]
  },
  {
   "cell_type": "code",
   "execution_count": 104,
   "metadata": {
    "collapsed": true
   },
   "outputs": [],
   "source": [
    "sf_joined = gpd.sjoin(geo_sf, california, how=\"inner\", op='intersects')"
   ]
  },
  {
   "cell_type": "code",
   "execution_count": 105,
   "metadata": {},
   "outputs": [],
   "source": [
    "# Dropping unnecessary fields that came from Census shapefile\n",
    "la_joined.drop(['ALAND','LSAD','NAME','AWATER','AFFGEOID','STATEFP','COUNTYFP'], axis=1, inplace=True)\n",
    "sf_joined.drop(['ALAND','LSAD','NAME','AWATER','AFFGEOID','STATEFP','COUNTYFP'], axis=1, inplace=True)"
   ]
  },
  {
   "cell_type": "markdown",
   "metadata": {},
   "source": [
    "### Mapping SF and LA Listings"
   ]
  },
  {
   "cell_type": "code",
   "execution_count": null,
   "metadata": {
    "scrolled": true
   },
   "outputs": [],
   "source": [
    "base = california.plot(color='gray', linewidth=.1)\n",
    "sf_joined.plot(color='red', ax=base)\n",
    "la_joined.plot(color='b', ax=base)\n",
    "plt.show()"
   ]
  },
  {
   "cell_type": "markdown",
   "metadata": {},
   "source": [
    "### Comparing Vacant to Shared Listings"
   ]
  },
  {
   "cell_type": "code",
   "execution_count": 48,
   "metadata": {
    "collapsed": true
   },
   "outputs": [],
   "source": [
    "vacant = pd.read_csv('april_listings2.csv',dtype={'fips_block':str})"
   ]
  },
  {
   "cell_type": "code",
   "execution_count": 49,
   "metadata": {
    "collapsed": true
   },
   "outputs": [],
   "source": [
    "# Creating a GEOID field that's comparable to shared listings\n",
    "vacant['GEOID'] = vacant['fips_block'].str[:-4]"
   ]
  },
  {
   "cell_type": "code",
   "execution_count": 50,
   "metadata": {
    "collapsed": true
   },
   "outputs": [],
   "source": [
    "# Turning studios into 1BRs for calculating rent per bedroom\n",
    "vacant['beds2'] = vacant['beds']\n",
    "vacant.loc[vacant.beds2 == 0, 'beds2'] = 1\n"
   ]
  },
  {
   "cell_type": "code",
   "execution_count": 51,
   "metadata": {
    "collapsed": true
   },
   "outputs": [],
   "source": [
    "vacant['rent_per_br'] = vacant['rent']/vacant['beds2']"
   ]
  },
  {
   "cell_type": "code",
   "execution_count": 52,
   "metadata": {
    "scrolled": true
   },
   "outputs": [
    {
     "name": "stdout",
     "output_type": "stream",
     "text": [
      "valid rent_sqft range: [0.26785714285700002, 5.8333333333300006]\n",
      "valid rent range: [325.0, 6200.0]\n",
      "valid sqft range: [300.0, 3222.0]\n"
     ]
    }
   ],
   "source": [
    "# in this cell, define the values by which we will filter the 3 columns. This will vary depending on the sample we're looking at. \n",
    "upper_percentile = 0.995\n",
    "lower_percentile = 0.005\n",
    "\n",
    "# how many rows would be within the upper and lower percentiles?\n",
    "upper = int(len(vacant) * upper_percentile)\n",
    "lower = int(len(vacant) * lower_percentile)\n",
    "\n",
    "# get the rent/sqft values at the upper and lower percentiles\n",
    "rent_sqft_sorted = vacant['rent_sqft'].sort_values(ascending=True, inplace=False)\n",
    "upper_rent_sqft = rent_sqft_sorted.iloc[upper]\n",
    "lower_rent_sqft = rent_sqft_sorted.iloc[lower]\n",
    "\n",
    "# get the rent values at the upper and lower percentiles\n",
    "rent_sorted = vacant['rent'].sort_values(ascending=True, inplace=False)\n",
    "upper_rent = rent_sorted.iloc[upper]\n",
    "lower_rent = rent_sorted.iloc[lower]\n",
    "\n",
    "# get the sqft values at the upper and lower percentiles\n",
    "sqft_sorted = vacant['sqft'].sort_values(ascending=True, inplace=False)\n",
    "upper_sqft = sqft_sorted.iloc[upper]\n",
    "lower_sqft = sqft_sorted.iloc[lower]\n",
    "\n",
    "print('valid rent_sqft range:', [lower_rent_sqft, upper_rent_sqft])\n",
    "print('valid rent range:', [lower_rent, upper_rent])\n",
    "print('valid sqft range:', [lower_sqft, upper_sqft])"
   ]
  },
  {
   "cell_type": "code",
   "execution_count": 53,
   "metadata": {
    "collapsed": true
   },
   "outputs": [],
   "source": [
    "#Filtering out rows with unreasonable rent prices \n",
    "rent_mask = (vacant['rent'] > lower_rent) & (vacant['rent'] < upper_rent)"
   ]
  },
  {
   "cell_type": "code",
   "execution_count": 54,
   "metadata": {
    "collapsed": true
   },
   "outputs": [],
   "source": [
    "filtered_vacant = pd.DataFrame(vacant[rent_mask])"
   ]
  },
  {
   "cell_type": "code",
   "execution_count": 55,
   "metadata": {},
   "outputs": [
    {
     "name": "stdout",
     "output_type": "stream",
     "text": [
      "median rent for all vacant listings: 1235.0\n",
      "median rent for all vacant Studio Units: 1263.0\n",
      "median rent for all vacant 1BR Units: 1103.0\n",
      "median rent per bedroom for all vacant listings: 762.0\n",
      "median rent per bedroom for all multi-bedroom vacant listings: 565.0\n"
     ]
    }
   ],
   "source": [
    "# Snapshot of median prices for total sample\n",
    "print('median rent for all vacant listings:', filtered_vacant['rent'].median())\n",
    "print('median rent for all vacant Studio Units:',(filtered_vacant[filtered_vacant['beds']==0])['rent_per_br'].median())\n",
    "print('median rent for all vacant 1BR Units:',(filtered_vacant[filtered_vacant['beds']==1])['rent_per_br'].median())\n",
    "\n",
    "print('median rent per bedroom for all vacant listings:', filtered_vacant['rent_per_br'].median())\n",
    "print('median rent per bedroom for all multi-bedroom vacant listings:', (filtered_vacant[filtered_vacant['beds'] > 1])['rent_per_br'].median())"
   ]
  },
  {
   "cell_type": "code",
   "execution_count": 56,
   "metadata": {
    "collapsed": true
   },
   "outputs": [],
   "source": [
    "vacant_sfbay = vacant[vacant['region']=='sfbay']"
   ]
  },
  {
   "cell_type": "code",
   "execution_count": 106,
   "metadata": {},
   "outputs": [
    {
     "data": {
      "text/plain": [
       "(57269, 17)"
      ]
     },
     "execution_count": 106,
     "metadata": {},
     "output_type": "execute_result"
    }
   ],
   "source": [
    "vacant_sfbay.shape"
   ]
  },
  {
   "cell_type": "code",
   "execution_count": 107,
   "metadata": {
    "scrolled": true
   },
   "outputs": [
    {
     "name": "stdout",
     "output_type": "stream",
     "text": [
      "median rent for all SF vacant listings: 2699.0\n",
      "median rent for all SF vacant Studio Units: 2198.0\n",
      "median rent for all SF vacant 1BR Units: 2345.0\n",
      "median rent per bedroom for all SF vacant listings: 1764.0\n",
      "median rent per bedroom for all SF multi-bedroom vacant listings: 1375.0\n"
     ]
    }
   ],
   "source": [
    "# Note: If we apply a filter for individual regions, we'd probably want to adjust the parameters to account for the smaller \n",
    "# sample size and different market; for example, $5000 is not a super atypical price in the Bay Area, shouldn't be filtered out \n",
    "print('median rent for all SF vacant listings:', vacant_sfbay['rent'].median())\n",
    "print('median rent for all SF vacant Studio Units:',(vacant_sfbay[vacant_sfbay['beds']==0])['rent_per_br'].median())\n",
    "print('median rent for all SF vacant 1BR Units:',(vacant_sfbay[vacant_sfbay['beds']==1])['rent_per_br'].median())\n",
    "\n",
    "print('median rent per bedroom for all SF vacant listings:', vacant_sfbay['rent_per_br'].median())\n",
    "print('median rent per bedroom for all SF multi-bedroom vacant listings:', (vacant_sfbay[vacant_sfbay['beds'] > 1])['rent_per_br'].median())"
   ]
  },
  {
   "cell_type": "code",
   "execution_count": 59,
   "metadata": {},
   "outputs": [
    {
     "data": {
      "text/plain": [
       "(32010, 17)"
      ]
     },
     "execution_count": 59,
     "metadata": {},
     "output_type": "execute_result"
    }
   ],
   "source": [
    "(vacant_sfbay[vacant_sfbay['beds'] > 1]).shape"
   ]
  },
  {
   "cell_type": "code",
   "execution_count": 60,
   "metadata": {
    "scrolled": true
   },
   "outputs": [
    {
     "name": "stdout",
     "output_type": "stream",
     "text": [
      "median rent for room in SF shared listing: 1100.0\n"
     ]
    }
   ],
   "source": [
    "print('median rent for room in SF shared listing:', sf_joined['rent'].median())"
   ]
  },
  {
   "cell_type": "code",
   "execution_count": null,
   "metadata": {
    "collapsed": true
   },
   "outputs": [],
   "source": [
    "vacant_la = vacant[vacant['region']=='losangeles']"
   ]
  },
  {
   "cell_type": "code",
   "execution_count": null,
   "metadata": {
    "collapsed": true
   },
   "outputs": [],
   "source": [
    "#vacant2 = vacant[(vacant['GEOID'] != '')]"
   ]
  },
  {
   "cell_type": "markdown",
   "metadata": {},
   "source": [
    "### SF Comparison"
   ]
  },
  {
   "cell_type": "code",
   "execution_count": 61,
   "metadata": {
    "collapsed": true
   },
   "outputs": [],
   "source": [
    "# Grouping and aggragating by GEOID for vacant SF listings\n",
    "sf_vacant_grouped = vacant_sfbay.groupby(by='GEOID')\n",
    "sf_vacant_grouped = sf_vacant_grouped.agg({'rent_per_br':['mean','median','count']}).reset_index()"
   ]
  },
  {
   "cell_type": "code",
   "execution_count": 62,
   "metadata": {
    "collapsed": true
   },
   "outputs": [],
   "source": [
    "#Now, need to turn newly created multi-index dataframe into a single index dataframe \n",
    "sf_vacant_grouped.columns = sf_vacant_grouped.columns.get_level_values(1)\n",
    "sf_vacant_grouped.columns = ['GEOID','vacant_tract_mean','vacant_tract_median','vacant_tract_count']"
   ]
  },
  {
   "cell_type": "code",
   "execution_count": 64,
   "metadata": {
    "scrolled": false
   },
   "outputs": [
    {
     "data": {
      "text/html": [
       "<div>\n",
       "<table border=\"1\" class=\"dataframe\">\n",
       "  <thead>\n",
       "    <tr style=\"text-align: right;\">\n",
       "      <th></th>\n",
       "      <th>GEOID</th>\n",
       "      <th>vacant_tract_mean</th>\n",
       "      <th>vacant_tract_median</th>\n",
       "      <th>vacant_tract_count</th>\n",
       "    </tr>\n",
       "  </thead>\n",
       "  <tbody>\n",
       "    <tr>\n",
       "      <th>856</th>\n",
       "      <td>06075061500</td>\n",
       "      <td>3347.896</td>\n",
       "      <td>3260.500</td>\n",
       "      <td>836</td>\n",
       "    </tr>\n",
       "    <tr>\n",
       "      <th>851</th>\n",
       "      <td>06075060700</td>\n",
       "      <td>3081.371</td>\n",
       "      <td>2900.000</td>\n",
       "      <td>639</td>\n",
       "    </tr>\n",
       "    <tr>\n",
       "      <th>1193</th>\n",
       "      <td>06085505009</td>\n",
       "      <td>1973.057</td>\n",
       "      <td>1684.000</td>\n",
       "      <td>552</td>\n",
       "    </tr>\n",
       "    <tr>\n",
       "      <th>1189</th>\n",
       "      <td>06085505001</td>\n",
       "      <td>2018.453</td>\n",
       "      <td>2050.000</td>\n",
       "      <td>438</td>\n",
       "    </tr>\n",
       "    <tr>\n",
       "      <th>1192</th>\n",
       "      <td>06085505008</td>\n",
       "      <td>2133.390</td>\n",
       "      <td>2350.000</td>\n",
       "      <td>432</td>\n",
       "    </tr>\n",
       "  </tbody>\n",
       "</table>\n",
       "</div>"
      ],
      "text/plain": [
       "            GEOID  vacant_tract_mean  vacant_tract_median  vacant_tract_count\n",
       "856   06075061500           3347.896             3260.500                 836\n",
       "851   06075060700           3081.371             2900.000                 639\n",
       "1193  06085505009           1973.057             1684.000                 552\n",
       "1189  06085505001           2018.453             2050.000                 438\n",
       "1192  06085505008           2133.390             2350.000                 432"
      ]
     },
     "execution_count": 64,
     "metadata": {},
     "output_type": "execute_result"
    }
   ],
   "source": [
    "sf_vacant_grouped.sort_values(by='vacant_tract_count', ascending=False).head()"
   ]
  },
  {
   "cell_type": "code",
   "execution_count": 65,
   "metadata": {
    "collapsed": true
   },
   "outputs": [],
   "source": [
    "sf_shared_grouped = sf_joined.groupby(by='GEOID')\n",
    "sf_shared_grouped = sf_shared_grouped.agg({'rent':['mean','median','count']}).reset_index()"
   ]
  },
  {
   "cell_type": "code",
   "execution_count": 66,
   "metadata": {
    "collapsed": true
   },
   "outputs": [],
   "source": [
    "#Now, need to turn newly created multi-index \n",
    "sf_shared_grouped.columns = sf_shared_grouped.columns.get_level_values(1)"
   ]
  },
  {
   "cell_type": "code",
   "execution_count": 67,
   "metadata": {
    "collapsed": true
   },
   "outputs": [],
   "source": [
    "sf_shared_grouped.columns = ['GEOID','shared_tract_mean','shared_tract_median','shared_tract_count']"
   ]
  },
  {
   "cell_type": "code",
   "execution_count": 68,
   "metadata": {},
   "outputs": [
    {
     "data": {
      "text/html": [
       "<div>\n",
       "<table border=\"1\" class=\"dataframe\">\n",
       "  <thead>\n",
       "    <tr style=\"text-align: right;\">\n",
       "      <th></th>\n",
       "      <th>GEOID</th>\n",
       "      <th>shared_tract_mean</th>\n",
       "      <th>shared_tract_median</th>\n",
       "      <th>shared_tract_count</th>\n",
       "    </tr>\n",
       "  </thead>\n",
       "  <tbody>\n",
       "    <tr>\n",
       "      <th>662</th>\n",
       "      <td>06075022901</td>\n",
       "      <td>1119.675</td>\n",
       "      <td>1100.000</td>\n",
       "      <td>151</td>\n",
       "    </tr>\n",
       "    <tr>\n",
       "      <th>634</th>\n",
       "      <td>06075017802</td>\n",
       "      <td>1499.633</td>\n",
       "      <td>1330.000</td>\n",
       "      <td>139</td>\n",
       "    </tr>\n",
       "    <tr>\n",
       "      <th>756</th>\n",
       "      <td>06075061500</td>\n",
       "      <td>1751.000</td>\n",
       "      <td>1572.000</td>\n",
       "      <td>134</td>\n",
       "    </tr>\n",
       "    <tr>\n",
       "      <th>1169</th>\n",
       "      <td>06085509201</td>\n",
       "      <td>1222.408</td>\n",
       "      <td>1180.000</td>\n",
       "      <td>120</td>\n",
       "    </tr>\n",
       "    <tr>\n",
       "      <th>623</th>\n",
       "      <td>06075016600</td>\n",
       "      <td>1345.203</td>\n",
       "      <td>1318.500</td>\n",
       "      <td>118</td>\n",
       "    </tr>\n",
       "  </tbody>\n",
       "</table>\n",
       "</div>"
      ],
      "text/plain": [
       "            GEOID  shared_tract_mean  shared_tract_median  shared_tract_count\n",
       "662   06075022901           1119.675             1100.000                 151\n",
       "634   06075017802           1499.633             1330.000                 139\n",
       "756   06075061500           1751.000             1572.000                 134\n",
       "1169  06085509201           1222.408             1180.000                 120\n",
       "623   06075016600           1345.203             1318.500                 118"
      ]
     },
     "execution_count": 68,
     "metadata": {},
     "output_type": "execute_result"
    }
   ],
   "source": [
    "sf_shared_grouped.sort_values(by='shared_tract_count', ascending=False).head()"
   ]
  },
  {
   "cell_type": "code",
   "execution_count": 69,
   "metadata": {
    "collapsed": true
   },
   "outputs": [],
   "source": [
    "# Merging shared and vacant listings on GEOID\n",
    "sf_compare=pd.merge(sf_shared_grouped,sf_vacant_grouped,how='outer',on='GEOID')"
   ]
  },
  {
   "cell_type": "code",
   "execution_count": 70,
   "metadata": {},
   "outputs": [
    {
     "data": {
      "text/html": [
       "<div>\n",
       "<table border=\"1\" class=\"dataframe\">\n",
       "  <thead>\n",
       "    <tr style=\"text-align: right;\">\n",
       "      <th></th>\n",
       "      <th>GEOID</th>\n",
       "      <th>shared_tract_mean</th>\n",
       "      <th>shared_tract_median</th>\n",
       "      <th>shared_tract_count</th>\n",
       "      <th>vacant_tract_mean</th>\n",
       "      <th>vacant_tract_median</th>\n",
       "      <th>vacant_tract_count</th>\n",
       "    </tr>\n",
       "  </thead>\n",
       "  <tbody>\n",
       "    <tr>\n",
       "      <th>0</th>\n",
       "      <td>06001400100</td>\n",
       "      <td>1250.000</td>\n",
       "      <td>1250.000</td>\n",
       "      <td>1.000</td>\n",
       "      <td>1572.429</td>\n",
       "      <td>1633.333</td>\n",
       "      <td>14.000</td>\n",
       "    </tr>\n",
       "    <tr>\n",
       "      <th>1</th>\n",
       "      <td>06001400200</td>\n",
       "      <td>1590.000</td>\n",
       "      <td>1590.000</td>\n",
       "      <td>1.000</td>\n",
       "      <td>2073.750</td>\n",
       "      <td>2047.500</td>\n",
       "      <td>4.000</td>\n",
       "    </tr>\n",
       "    <tr>\n",
       "      <th>2</th>\n",
       "      <td>06001400300</td>\n",
       "      <td>1119.714</td>\n",
       "      <td>1100.000</td>\n",
       "      <td>7.000</td>\n",
       "      <td>2389.107</td>\n",
       "      <td>2125.000</td>\n",
       "      <td>70.000</td>\n",
       "    </tr>\n",
       "    <tr>\n",
       "      <th>3</th>\n",
       "      <td>06001400400</td>\n",
       "      <td>1344.059</td>\n",
       "      <td>1335.000</td>\n",
       "      <td>17.000</td>\n",
       "      <td>1882.754</td>\n",
       "      <td>1800.000</td>\n",
       "      <td>23.000</td>\n",
       "    </tr>\n",
       "    <tr>\n",
       "      <th>4</th>\n",
       "      <td>06001400500</td>\n",
       "      <td>875.385</td>\n",
       "      <td>900.000</td>\n",
       "      <td>13.000</td>\n",
       "      <td>1777.679</td>\n",
       "      <td>1875.000</td>\n",
       "      <td>14.000</td>\n",
       "    </tr>\n",
       "  </tbody>\n",
       "</table>\n",
       "</div>"
      ],
      "text/plain": [
       "         GEOID  shared_tract_mean  shared_tract_median  shared_tract_count  \\\n",
       "0  06001400100           1250.000             1250.000               1.000   \n",
       "1  06001400200           1590.000             1590.000               1.000   \n",
       "2  06001400300           1119.714             1100.000               7.000   \n",
       "3  06001400400           1344.059             1335.000              17.000   \n",
       "4  06001400500            875.385              900.000              13.000   \n",
       "\n",
       "   vacant_tract_mean  vacant_tract_median  vacant_tract_count  \n",
       "0           1572.429             1633.333              14.000  \n",
       "1           2073.750             2047.500               4.000  \n",
       "2           2389.107             2125.000              70.000  \n",
       "3           1882.754             1800.000              23.000  \n",
       "4           1777.679             1875.000              14.000  "
      ]
     },
     "execution_count": 70,
     "metadata": {},
     "output_type": "execute_result"
    }
   ],
   "source": [
    "sf_compare.head()"
   ]
  },
  {
   "cell_type": "code",
   "execution_count": 72,
   "metadata": {
    "scrolled": true
   },
   "outputs": [
    {
     "data": {
      "text/html": [
       "<div>\n",
       "<table border=\"1\" class=\"dataframe\">\n",
       "  <thead>\n",
       "    <tr style=\"text-align: right;\">\n",
       "      <th></th>\n",
       "      <th>GEOID</th>\n",
       "      <th>shared_tract_mean</th>\n",
       "      <th>shared_tract_median</th>\n",
       "      <th>shared_tract_count</th>\n",
       "      <th>vacant_tract_mean</th>\n",
       "      <th>vacant_tract_median</th>\n",
       "      <th>vacant_tract_count</th>\n",
       "    </tr>\n",
       "  </thead>\n",
       "  <tbody>\n",
       "    <tr>\n",
       "      <th>662</th>\n",
       "      <td>06075022901</td>\n",
       "      <td>1119.675</td>\n",
       "      <td>1100.000</td>\n",
       "      <td>151.000</td>\n",
       "      <td>2490.571</td>\n",
       "      <td>2631.667</td>\n",
       "      <td>46.000</td>\n",
       "    </tr>\n",
       "    <tr>\n",
       "      <th>634</th>\n",
       "      <td>06075017802</td>\n",
       "      <td>1499.633</td>\n",
       "      <td>1330.000</td>\n",
       "      <td>139.000</td>\n",
       "      <td>2707.898</td>\n",
       "      <td>2625.000</td>\n",
       "      <td>301.000</td>\n",
       "    </tr>\n",
       "    <tr>\n",
       "      <th>756</th>\n",
       "      <td>06075061500</td>\n",
       "      <td>1751.000</td>\n",
       "      <td>1572.000</td>\n",
       "      <td>134.000</td>\n",
       "      <td>3347.896</td>\n",
       "      <td>3260.500</td>\n",
       "      <td>836.000</td>\n",
       "    </tr>\n",
       "    <tr>\n",
       "      <th>1169</th>\n",
       "      <td>06085509201</td>\n",
       "      <td>1222.408</td>\n",
       "      <td>1180.000</td>\n",
       "      <td>120.000</td>\n",
       "      <td>2210.224</td>\n",
       "      <td>2200.000</td>\n",
       "      <td>171.000</td>\n",
       "    </tr>\n",
       "    <tr>\n",
       "      <th>623</th>\n",
       "      <td>06075016600</td>\n",
       "      <td>1345.203</td>\n",
       "      <td>1318.500</td>\n",
       "      <td>118.000</td>\n",
       "      <td>2359.228</td>\n",
       "      <td>2083.333</td>\n",
       "      <td>52.000</td>\n",
       "    </tr>\n",
       "  </tbody>\n",
       "</table>\n",
       "</div>"
      ],
      "text/plain": [
       "            GEOID  shared_tract_mean  shared_tract_median  shared_tract_count  \\\n",
       "662   06075022901           1119.675             1100.000             151.000   \n",
       "634   06075017802           1499.633             1330.000             139.000   \n",
       "756   06075061500           1751.000             1572.000             134.000   \n",
       "1169  06085509201           1222.408             1180.000             120.000   \n",
       "623   06075016600           1345.203             1318.500             118.000   \n",
       "\n",
       "      vacant_tract_mean  vacant_tract_median  vacant_tract_count  \n",
       "662            2490.571             2631.667              46.000  \n",
       "634            2707.898             2625.000             301.000  \n",
       "756            3347.896             3260.500             836.000  \n",
       "1169           2210.224             2200.000             171.000  \n",
       "623            2359.228             2083.333              52.000  "
      ]
     },
     "execution_count": 72,
     "metadata": {},
     "output_type": "execute_result"
    }
   ],
   "source": [
    "sf_compare.sort_values(by='shared_tract_count', ascending=False).head()"
   ]
  },
  {
   "cell_type": "code",
   "execution_count": 73,
   "metadata": {
    "collapsed": true
   },
   "outputs": [],
   "source": [
    "# Converting NaNs to 0s\n",
    "#sf_compare = sf_compare.fillna(0)"
   ]
  },
  {
   "cell_type": "code",
   "execution_count": 74,
   "metadata": {
    "collapsed": true,
    "scrolled": true
   },
   "outputs": [],
   "source": [
    "# Creating column that calculates difference between tract medians for vacant and shared listings\n",
    "sf_compare['difference'] = sf_compare['vacant_tract_median'] - sf_compare['shared_tract_median']\n",
    "sf_compare['gap_ratio'] = sf_compare['shared_tract_median']/sf_compare['vacant_tract_median']"
   ]
  },
  {
   "cell_type": "code",
   "execution_count": 75,
   "metadata": {},
   "outputs": [
    {
     "data": {
      "text/html": [
       "<div>\n",
       "<table border=\"1\" class=\"dataframe\">\n",
       "  <thead>\n",
       "    <tr style=\"text-align: right;\">\n",
       "      <th></th>\n",
       "      <th>GEOID</th>\n",
       "      <th>shared_tract_mean</th>\n",
       "      <th>shared_tract_median</th>\n",
       "      <th>shared_tract_count</th>\n",
       "      <th>vacant_tract_mean</th>\n",
       "      <th>vacant_tract_median</th>\n",
       "      <th>vacant_tract_count</th>\n",
       "      <th>difference</th>\n",
       "      <th>gap_ratio</th>\n",
       "    </tr>\n",
       "  </thead>\n",
       "  <tbody>\n",
       "    <tr>\n",
       "      <th>662</th>\n",
       "      <td>06075022901</td>\n",
       "      <td>1119.675</td>\n",
       "      <td>1100.000</td>\n",
       "      <td>151.000</td>\n",
       "      <td>2490.571</td>\n",
       "      <td>2631.667</td>\n",
       "      <td>46.000</td>\n",
       "      <td>1531.667</td>\n",
       "      <td>0.418</td>\n",
       "    </tr>\n",
       "    <tr>\n",
       "      <th>634</th>\n",
       "      <td>06075017802</td>\n",
       "      <td>1499.633</td>\n",
       "      <td>1330.000</td>\n",
       "      <td>139.000</td>\n",
       "      <td>2707.898</td>\n",
       "      <td>2625.000</td>\n",
       "      <td>301.000</td>\n",
       "      <td>1295.000</td>\n",
       "      <td>0.507</td>\n",
       "    </tr>\n",
       "    <tr>\n",
       "      <th>756</th>\n",
       "      <td>06075061500</td>\n",
       "      <td>1751.000</td>\n",
       "      <td>1572.000</td>\n",
       "      <td>134.000</td>\n",
       "      <td>3347.896</td>\n",
       "      <td>3260.500</td>\n",
       "      <td>836.000</td>\n",
       "      <td>1688.500</td>\n",
       "      <td>0.482</td>\n",
       "    </tr>\n",
       "    <tr>\n",
       "      <th>1169</th>\n",
       "      <td>06085509201</td>\n",
       "      <td>1222.408</td>\n",
       "      <td>1180.000</td>\n",
       "      <td>120.000</td>\n",
       "      <td>2210.224</td>\n",
       "      <td>2200.000</td>\n",
       "      <td>171.000</td>\n",
       "      <td>1020.000</td>\n",
       "      <td>0.536</td>\n",
       "    </tr>\n",
       "    <tr>\n",
       "      <th>623</th>\n",
       "      <td>06075016600</td>\n",
       "      <td>1345.203</td>\n",
       "      <td>1318.500</td>\n",
       "      <td>118.000</td>\n",
       "      <td>2359.228</td>\n",
       "      <td>2083.333</td>\n",
       "      <td>52.000</td>\n",
       "      <td>764.833</td>\n",
       "      <td>0.633</td>\n",
       "    </tr>\n",
       "  </tbody>\n",
       "</table>\n",
       "</div>"
      ],
      "text/plain": [
       "            GEOID  shared_tract_mean  shared_tract_median  shared_tract_count  \\\n",
       "662   06075022901           1119.675             1100.000             151.000   \n",
       "634   06075017802           1499.633             1330.000             139.000   \n",
       "756   06075061500           1751.000             1572.000             134.000   \n",
       "1169  06085509201           1222.408             1180.000             120.000   \n",
       "623   06075016600           1345.203             1318.500             118.000   \n",
       "\n",
       "      vacant_tract_mean  vacant_tract_median  vacant_tract_count  difference  \\\n",
       "662            2490.571             2631.667              46.000    1531.667   \n",
       "634            2707.898             2625.000             301.000    1295.000   \n",
       "756            3347.896             3260.500             836.000    1688.500   \n",
       "1169           2210.224             2200.000             171.000    1020.000   \n",
       "623            2359.228             2083.333              52.000     764.833   \n",
       "\n",
       "      gap_ratio  \n",
       "662       0.418  \n",
       "634       0.507  \n",
       "756       0.482  \n",
       "1169      0.536  \n",
       "623       0.633  "
      ]
     },
     "execution_count": 75,
     "metadata": {},
     "output_type": "execute_result"
    }
   ],
   "source": [
    "# Sorting by tracts with most shared listings\n",
    "sf_compare.sort_values(by='shared_tract_count', ascending=False).head()"
   ]
  },
  {
   "cell_type": "code",
   "execution_count": null,
   "metadata": {
    "collapsed": true
   },
   "outputs": [],
   "source": [
    "# Necessary to keep lead '0' in GEOID column when exported to .csv. Only for ArcMap\n",
    "# sf_compare.GEOID = sf_compare.GEOID.apply('=\"{}\"'.format)"
   ]
  },
  {
   "cell_type": "code",
   "execution_count": 76,
   "metadata": {
    "collapsed": true
   },
   "outputs": [],
   "source": [
    "sf_compare.to_csv('sf_compare.csv')"
   ]
  },
  {
   "cell_type": "markdown",
   "metadata": {},
   "source": [
    "### LA Comparison"
   ]
  },
  {
   "cell_type": "code",
   "execution_count": null,
   "metadata": {
    "collapsed": true
   },
   "outputs": [],
   "source": [
    "la_vacant_grouped = vacant_la.groupby(by='GEOID')\n",
    "la_vacant_grouped = la_vacant_grouped.agg({'rent_per_br':['mean','median','count']}).reset_index()"
   ]
  },
  {
   "cell_type": "code",
   "execution_count": null,
   "metadata": {},
   "outputs": [],
   "source": [
    "#Now, need to turn newly created multi-index dataframe into a single index dataframe \n",
    "la_vacant_grouped.columns = la_vacant_grouped.columns.get_level_values(1)\n",
    "la_vacant_grouped.columns = ['GEOID','vacant_tract_mean','vacant_tract_median','vacant_tract_count']\n",
    "la_vacant_grouped.sort_values(by='vacant_tract_count', ascending=False).head()"
   ]
  },
  {
   "cell_type": "code",
   "execution_count": null,
   "metadata": {
    "collapsed": true
   },
   "outputs": [],
   "source": [
    "la_shared_grouped = la_joined.groupby(by='GEOID')\n",
    "la_shared_grouped = la_shared_grouped.agg({'rent':['mean','median','count']}).reset_index()"
   ]
  },
  {
   "cell_type": "code",
   "execution_count": null,
   "metadata": {
    "collapsed": true
   },
   "outputs": [],
   "source": [
    "#Now, need to turn newly created multi-index \n",
    "la_shared_grouped.columns = la_shared_grouped.columns.get_level_values(1)\n",
    "la_shared_grouped.columns = ['GEOID','shared_tract_mean','shared_tract_median','shared_tract_count']"
   ]
  },
  {
   "cell_type": "code",
   "execution_count": null,
   "metadata": {
    "collapsed": true
   },
   "outputs": [],
   "source": [
    "la_compare=pd.merge(la_shared_grouped,la_vacant_grouped,how='outer',on='GEOID')"
   ]
  },
  {
   "cell_type": "code",
   "execution_count": null,
   "metadata": {
    "collapsed": true
   },
   "outputs": [],
   "source": [
    "la_compare['difference'] = la_compare['vacant_tract_median'] - la_compare['shared_tract_median']\n",
    "la_compare['gap_ratio'] = la_compare['shared_tract_median']/la_compare['vacant_tract_median']"
   ]
  },
  {
   "cell_type": "code",
   "execution_count": null,
   "metadata": {
    "scrolled": false
   },
   "outputs": [],
   "source": [
    "la_compare.sort_values(by='shared_tract_count', ascending=False).head()"
   ]
  },
  {
   "cell_type": "markdown",
   "metadata": {},
   "source": [
    "## New York Comparison"
   ]
  },
  {
   "cell_type": "markdown",
   "metadata": {},
   "source": [
    "### Loading NY Shapefile and Performing Spatial Join "
   ]
  },
  {
   "cell_type": "code",
   "execution_count": 108,
   "metadata": {
    "scrolled": true
   },
   "outputs": [
    {
     "name": "stdout",
     "output_type": "stream",
     "text": [
      "<class 'geopandas.geodataframe.GeoDataFrame'>\n",
      "original crs: {'init': 'epsg:4269'}\n",
      "updated crs: {'init': 'epsg:2261'}\n"
     ]
    }
   ],
   "source": [
    "newyork = gpd.read_file('C:\\\\Users\\\\james\\\\Documents\\\\Berkeley_Docs\\\\Spring_17_Courses\\\\CP290 Data Lab\\\\Database\\\\ny_census_shapefile\\\\cb_2016_36_tract_500k.shp')\n",
    "print(type(newyork))\n",
    "print('original crs:',newyork.crs)\n",
    "#Use New York NAD83 Central CRS\n",
    "# California.crs = {'init' :'epsg:2227'}\n",
    "#http://spatialreference.org/ref/epsg/2227/\n",
    "newyork_crs = {'init': 'epsg:2261'}\n",
    "newyork = newyork.to_crs(newyork_crs)\n",
    "print('updated crs:',newyork.crs)"
   ]
  },
  {
   "cell_type": "code",
   "execution_count": 109,
   "metadata": {
    "collapsed": true
   },
   "outputs": [],
   "source": [
    "# Create dataframe for NYC listings including only private rooms with lat-lng info\n",
    "new_york = filtered_private_only[filtered_private_only['region']=='newyork']\n",
    "new_york = new_york[new_york.lat != 0]"
   ]
  },
  {
   "cell_type": "code",
   "execution_count": 110,
   "metadata": {
    "scrolled": true
   },
   "outputs": [
    {
     "name": "stdout",
     "output_type": "stream",
     "text": [
      "<class 'geopandas.geodataframe.GeoDataFrame'>\n",
      "{'init': 'epsg:2261'}\n"
     ]
    }
   ],
   "source": [
    "geometryMapping_ny = [Point(xy) for xy in zip(new_york.lng, new_york.lat)]\n",
    "geo_ny = GeoDataFrame(new_york, crs={'init' :'epsg:4269'}, geometry=geometryMapping_ny)\n",
    "geo_ny=geo_ny.to_crs(newyork_crs)\n",
    "print(type(geo_ny))\n",
    "print(geo_ny.crs)"
   ]
  },
  {
   "cell_type": "code",
   "execution_count": 111,
   "metadata": {
    "collapsed": true
   },
   "outputs": [],
   "source": [
    "ny_joined = gpd.sjoin(geo_ny, newyork, how='inner', op='intersects')"
   ]
  },
  {
   "cell_type": "code",
   "execution_count": 112,
   "metadata": {
    "collapsed": true
   },
   "outputs": [],
   "source": [
    "ny_joined.drop(['ALAND','LSAD','NAME','AWATER','AFFGEOID','STATEFP','COUNTYFP'], axis=1, inplace=True)"
   ]
  },
  {
   "cell_type": "markdown",
   "metadata": {},
   "source": [
    "### Conducting Comparison Between Vacant and Shared NYC Listings"
   ]
  },
  {
   "cell_type": "code",
   "execution_count": 113,
   "metadata": {
    "collapsed": true
   },
   "outputs": [],
   "source": [
    "vacant_newyork = vacant[vacant['region']=='newyork']"
   ]
  },
  {
   "cell_type": "code",
   "execution_count": 114,
   "metadata": {
    "collapsed": true
   },
   "outputs": [],
   "source": [
    "# Grouping and aggragating by GEOID for vacant SF listings\n",
    "ny_vacant_grouped = vacant_newyork.groupby(by='GEOID')\n",
    "ny_vacant_grouped = ny_vacant_grouped.agg({'rent_per_br':['mean','median','count']}).reset_index()"
   ]
  },
  {
   "cell_type": "code",
   "execution_count": 115,
   "metadata": {
    "collapsed": true
   },
   "outputs": [],
   "source": [
    "#Now, need to turn newly created multi-index dataframe into a single index dataframe \n",
    "ny_vacant_grouped.columns = ny_vacant_grouped.columns.get_level_values(1)\n",
    "ny_vacant_grouped.columns = ['GEOID','vacant_tract_mean','vacant_tract_median','vacant_tract_count']"
   ]
  },
  {
   "cell_type": "code",
   "execution_count": 116,
   "metadata": {
    "collapsed": true
   },
   "outputs": [],
   "source": [
    "ny_shared_grouped = ny_joined.groupby(by='GEOID')\n",
    "ny_shared_grouped = ny_shared_grouped.agg({'rent':['mean','median','count']}).reset_index()"
   ]
  },
  {
   "cell_type": "code",
   "execution_count": 117,
   "metadata": {
    "collapsed": true
   },
   "outputs": [],
   "source": [
    "#Now, need to turn newly created multi-index into single index dataframe\n",
    "ny_shared_grouped.columns = ny_shared_grouped.columns.get_level_values(1)\n",
    "ny_shared_grouped.columns = ['GEOID','shared_tract_mean','shared_tract_median','shared_tract_count']"
   ]
  },
  {
   "cell_type": "code",
   "execution_count": 118,
   "metadata": {},
   "outputs": [
    {
     "data": {
      "text/html": [
       "<div>\n",
       "<table border=\"1\" class=\"dataframe\">\n",
       "  <thead>\n",
       "    <tr style=\"text-align: right;\">\n",
       "      <th></th>\n",
       "      <th>GEOID</th>\n",
       "      <th>shared_tract_mean</th>\n",
       "      <th>shared_tract_median</th>\n",
       "      <th>shared_tract_count</th>\n",
       "      <th>vacant_tract_mean</th>\n",
       "      <th>vacant_tract_median</th>\n",
       "      <th>vacant_tract_count</th>\n",
       "      <th>difference</th>\n",
       "      <th>gap_ratio</th>\n",
       "    </tr>\n",
       "  </thead>\n",
       "  <tbody>\n",
       "    <tr>\n",
       "      <th>1028</th>\n",
       "      <td>36081025100</td>\n",
       "      <td>700.506</td>\n",
       "      <td>650.000</td>\n",
       "      <td>237.000</td>\n",
       "      <td>1441.667</td>\n",
       "      <td>1300.000</td>\n",
       "      <td>7.000</td>\n",
       "      <td>650.000</td>\n",
       "      <td>0.500</td>\n",
       "    </tr>\n",
       "    <tr>\n",
       "      <th>363</th>\n",
       "      <td>36047038700</td>\n",
       "      <td>995.228</td>\n",
       "      <td>940.000</td>\n",
       "      <td>219.000</td>\n",
       "      <td>1296.077</td>\n",
       "      <td>1225.000</td>\n",
       "      <td>13.000</td>\n",
       "      <td>285.000</td>\n",
       "      <td>0.767</td>\n",
       "    </tr>\n",
       "    <tr>\n",
       "      <th>1047</th>\n",
       "      <td>36081028100</td>\n",
       "      <td>752.618</td>\n",
       "      <td>700.000</td>\n",
       "      <td>191.000</td>\n",
       "      <td>1723.529</td>\n",
       "      <td>1800.000</td>\n",
       "      <td>17.000</td>\n",
       "      <td>1100.000</td>\n",
       "      <td>0.389</td>\n",
       "    </tr>\n",
       "    <tr>\n",
       "      <th>390</th>\n",
       "      <td>36047043100</td>\n",
       "      <td>1103.690</td>\n",
       "      <td>975.000</td>\n",
       "      <td>168.000</td>\n",
       "      <td>1061.947</td>\n",
       "      <td>1033.333</td>\n",
       "      <td>10.000</td>\n",
       "      <td>58.333</td>\n",
       "      <td>0.944</td>\n",
       "    </tr>\n",
       "    <tr>\n",
       "      <th>1111</th>\n",
       "      <td>36081047500</td>\n",
       "      <td>817.906</td>\n",
       "      <td>750.000</td>\n",
       "      <td>149.000</td>\n",
       "      <td>1210.833</td>\n",
       "      <td>1237.500</td>\n",
       "      <td>10.000</td>\n",
       "      <td>487.500</td>\n",
       "      <td>0.606</td>\n",
       "    </tr>\n",
       "  </tbody>\n",
       "</table>\n",
       "</div>"
      ],
      "text/plain": [
       "            GEOID  shared_tract_mean  shared_tract_median  shared_tract_count  \\\n",
       "1028  36081025100            700.506              650.000             237.000   \n",
       "363   36047038700            995.228              940.000             219.000   \n",
       "1047  36081028100            752.618              700.000             191.000   \n",
       "390   36047043100           1103.690              975.000             168.000   \n",
       "1111  36081047500            817.906              750.000             149.000   \n",
       "\n",
       "      vacant_tract_mean  vacant_tract_median  vacant_tract_count  difference  \\\n",
       "1028           1441.667             1300.000               7.000     650.000   \n",
       "363            1296.077             1225.000              13.000     285.000   \n",
       "1047           1723.529             1800.000              17.000    1100.000   \n",
       "390            1061.947             1033.333              10.000      58.333   \n",
       "1111           1210.833             1237.500              10.000     487.500   \n",
       "\n",
       "      gap_ratio  \n",
       "1028      0.500  \n",
       "363       0.767  \n",
       "1047      0.389  \n",
       "390       0.944  \n",
       "1111      0.606  "
      ]
     },
     "execution_count": 118,
     "metadata": {},
     "output_type": "execute_result"
    }
   ],
   "source": [
    "ny_compare=pd.merge(ny_shared_grouped,ny_vacant_grouped,how='outer',on='GEOID')\n",
    "ny_compare['difference'] = ny_compare['vacant_tract_median'] - ny_compare['shared_tract_median']\n",
    "ny_compare['gap_ratio'] = ny_compare['shared_tract_median']/ny_compare['vacant_tract_median']\n",
    "ny_compare.sort_values(by='shared_tract_count', ascending=False).head()"
   ]
  },
  {
   "cell_type": "markdown",
   "metadata": {},
   "source": [
    "### Conducting Comparison Between Vacant and Shared Chicago Listings"
   ]
  },
  {
   "cell_type": "markdown",
   "metadata": {},
   "source": [
    "## Visualz"
   ]
  },
  {
   "cell_type": "code",
   "execution_count": 119,
   "metadata": {
    "collapsed": true
   },
   "outputs": [],
   "source": [
    "listings_ratios['all_vacant_listings'] = vacant['region'].value_counts()\n",
    "listings_ratios['shared_to_vacant_ratio'] = listings_ratios['deduplicated_text']/listings_ratios['all_vacant_listings']"
   ]
  },
  {
   "cell_type": "code",
   "execution_count": 120,
   "metadata": {},
   "outputs": [
    {
     "data": {
      "text/html": [
       "<div>\n",
       "<table border=\"1\" class=\"dataframe\">\n",
       "  <thead>\n",
       "    <tr style=\"text-align: right;\">\n",
       "      <th></th>\n",
       "      <th>all_shared_listings</th>\n",
       "      <th>deduplicated_pid</th>\n",
       "      <th>deduplicated_text</th>\n",
       "      <th>duplicate_listings</th>\n",
       "      <th>duplicate_ratio</th>\n",
       "      <th>unique_ratio</th>\n",
       "      <th>all_vacant_listings</th>\n",
       "      <th>shared_to_vacant_ratio</th>\n",
       "    </tr>\n",
       "  </thead>\n",
       "  <tbody>\n",
       "    <tr>\n",
       "      <th>newyork</th>\n",
       "      <td>189865</td>\n",
       "      <td>49485</td>\n",
       "      <td>24164</td>\n",
       "      <td>165701</td>\n",
       "      <td>0.873</td>\n",
       "      <td>0.127</td>\n",
       "      <td>14211.000</td>\n",
       "      <td>1.700</td>\n",
       "    </tr>\n",
       "    <tr>\n",
       "      <th>sfbay</th>\n",
       "      <td>59265</td>\n",
       "      <td>26200</td>\n",
       "      <td>18961</td>\n",
       "      <td>40304</td>\n",
       "      <td>0.680</td>\n",
       "      <td>0.320</td>\n",
       "      <td>57269.000</td>\n",
       "      <td>0.331</td>\n",
       "    </tr>\n",
       "    <tr>\n",
       "      <th>washingtondc</th>\n",
       "      <td>44391</td>\n",
       "      <td>17031</td>\n",
       "      <td>11001</td>\n",
       "      <td>33390</td>\n",
       "      <td>0.752</td>\n",
       "      <td>0.248</td>\n",
       "      <td>73440.000</td>\n",
       "      <td>0.150</td>\n",
       "    </tr>\n",
       "    <tr>\n",
       "      <th>losangeles</th>\n",
       "      <td>44259</td>\n",
       "      <td>19337</td>\n",
       "      <td>12756</td>\n",
       "      <td>31503</td>\n",
       "      <td>0.712</td>\n",
       "      <td>0.288</td>\n",
       "      <td>57405.000</td>\n",
       "      <td>0.222</td>\n",
       "    </tr>\n",
       "    <tr>\n",
       "      <th>boston</th>\n",
       "      <td>24722</td>\n",
       "      <td>9865</td>\n",
       "      <td>6525</td>\n",
       "      <td>18197</td>\n",
       "      <td>0.736</td>\n",
       "      <td>0.264</td>\n",
       "      <td>10427.000</td>\n",
       "      <td>0.626</td>\n",
       "    </tr>\n",
       "  </tbody>\n",
       "</table>\n",
       "</div>"
      ],
      "text/plain": [
       "              all_shared_listings  deduplicated_pid  deduplicated_text  \\\n",
       "newyork                    189865             49485              24164   \n",
       "sfbay                       59265             26200              18961   \n",
       "washingtondc                44391             17031              11001   \n",
       "losangeles                  44259             19337              12756   \n",
       "boston                      24722              9865               6525   \n",
       "\n",
       "              duplicate_listings  duplicate_ratio  unique_ratio  \\\n",
       "newyork                   165701            0.873         0.127   \n",
       "sfbay                      40304            0.680         0.320   \n",
       "washingtondc               33390            0.752         0.248   \n",
       "losangeles                 31503            0.712         0.288   \n",
       "boston                     18197            0.736         0.264   \n",
       "\n",
       "              all_vacant_listings  shared_to_vacant_ratio  \n",
       "newyork                 14211.000                   1.700  \n",
       "sfbay                   57269.000                   0.331  \n",
       "washingtondc            73440.000                   0.150  \n",
       "losangeles              57405.000                   0.222  \n",
       "boston                  10427.000                   0.626  "
      ]
     },
     "execution_count": 120,
     "metadata": {},
     "output_type": "execute_result"
    }
   ],
   "source": [
    "listings_ratios.head()"
   ]
  },
  {
   "cell_type": "code",
   "execution_count": 121,
   "metadata": {},
   "outputs": [
    {
     "data": {
      "image/png": "[encoded data removed]",
      "text/plain": [
       "<matplotlib.figure.Figure at 0x1c4fd943908>"
      ]
     },
     "metadata": {},
     "output_type": "display_data"
    }
   ],
   "source": [
    "# plot the ratios of shared and vacant listings, by region\n",
    "countdata = listings_ratios.sort_values(by='all_shared_listings', ascending=False)[['deduplicated_text','all_vacant_listings']].head(20)\n",
    "countdata.columns = ['Shared Listings', 'Vacant Listings']\n",
    "ax = countdata.plot(kind='bar',\n",
    "                    stacked=True,\n",
    "                    figsize=[9, 6], \n",
    "                    width=0.6, \n",
    "                    alpha=0.5, \n",
    "                    color=['b','m'],\n",
    "                    edgecolor='k',\n",
    "                    grid=False)\n",
    "\n",
    "ax.yaxis.grid(True)\n",
    "ax.set_xticks(range(0, len(countdata)))\n",
    "ax.set_xticklabels(countdata.index, rotation=40, rotation_mode='anchor', ha='right', fontproperties=ticks_font)\n",
    "for label in ax.get_yticklabels():\n",
    "        label.set_fontproperties(ticks_font)\n",
    "ax.set_title('Vacant and Shared Rental Listings, by Region', fontproperties=title_font)\n",
    "ax.set_xlabel('', fontproperties=label_font)\n",
    "ax.set_ylabel('Total number of listings', fontproperties=label_font)        \n",
    "\n",
    "#save_fig(plt.gcf(), 'count_unique_duplicate_listings.png')\n",
    "plt.show()"
   ]
  },
  {
   "cell_type": "code",
   "execution_count": null,
   "metadata": {
    "collapsed": true
   },
   "outputs": [],
   "source": []
  },
  {
   "cell_type": "code",
   "execution_count": null,
   "metadata": {
    "collapsed": true
   },
   "outputs": [],
   "source": []
  }
 ],
 "metadata": {
  "anaconda-cloud": {},
  "kernelspec": {
   "display_name": "Python 3",
   "language": "python",
   "name": "python3"
  },
  "language_info": {
   "codemirror_mode": {
    "name": "ipython",
    "version": 3
   },
   "file_extension": ".py",
   "mimetype": "text/x-python",
   "name": "python",
   "nbconvert_exporter": "python",
   "pygments_lexer": "ipython3",
   "version": "3.5.2"
  }
 },
 "nbformat": 4,
 "nbformat_minor": 1
}
