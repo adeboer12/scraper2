{
 "cells": [
  {
   "cell_type": "markdown",
   "metadata": {},
   "source": [
    "# Import from Database and Analysis\n",
    "This notebook imports shared Craigslist listings from the database on Istanbul for initial data exploration and analysis."
   ]
  },
  {
   "cell_type": "code",
   "execution_count": 30,
   "metadata": {
    "collapsed": true
   },
   "outputs": [],
   "source": [
    "#import packages\n",
    "import pandas as pd\n",
    "import numpy as np\n",
    "import re as re\n",
    "import json    # library for working with JSON-formatted text strings\n",
    "import requests  # library for accessing content from web URLs\n",
    "import pprint  # library for making Python data structures readable\n",
    "import psycopg2\n",
    "import matplotlib.font_manager as fm\n",
    "import matplotlib.pyplot as plt\n",
    "pp = pprint.PrettyPrinter()\n",
    "pd.options.mode.chained_assignment = None #disables warnings for editing copy of a dataframe\n",
    "pd.set_option('display.float_format', lambda x: '%.3f' % x) #describe() vars are not in scientific notation\n",
    "pd.set_option('max_columns', 30)\n",
    "%matplotlib inline"
   ]
  },
  {
   "cell_type": "code",
   "execution_count": 17,
   "metadata": {},
   "outputs": [],
   "source": [
    "# Defining font styles for graphics\n",
    "family = 'Arial'\n",
    "title_font = fm.FontProperties(family=family, style='normal', size=18, weight='normal', stretch='normal')\n",
    "label_font = fm.FontProperties(family=family, style='normal', size=16, weight='normal', stretch='normal')\n",
    "ticks_font = fm.FontProperties(family=family, style='normal', size=14, weight='normal', stretch='normal')"
   ]
  },
  {
   "cell_type": "code",
   "execution_count": 18,
   "metadata": {
    "collapsed": true
   },
   "outputs": [],
   "source": [
    "# Creating function for defining colors for graphics\n",
    "def get_colors(cmap, n, start=0., stop=1., alpha=1., reverse=False):\n",
    "    '''return n-length list of rgba colors from the passed colormap name and alpha,\n",
    "       limit extent by start/stop values and reverse list order if flag is true'''\n",
    "    colors = [cm.get_cmap(cmap)(x) for x in np.linspace(start, stop, n)]\n",
    "    colors = [(r, g, b, alpha) for r, g, b, _ in colors]\n",
    "    return list(reversed(colors)) if reverse else colors"
   ]
  },
  {
   "cell_type": "code",
   "execution_count": 4,
   "metadata": {
    "collapsed": true
   },
   "outputs": [],
   "source": [
    "# Read in credentials from private settings file\n",
    "with open('settings.json') as settings_file:    \n",
    "    settings = json.load(settings_file)"
   ]
  },
  {
   "cell_type": "code",
   "execution_count": 5,
   "metadata": {
    "collapsed": true
   },
   "outputs": [],
   "source": [
    "#try to connect to database on local machine\n",
    "dbname = settings['dbname']\n",
    "user = settings['user']\n",
    "host = settings['host']\n",
    "password = settings['password']\n",
    "\n",
    "conn_str = \"dbname = {0} user = {1} host = {2} password = {3}\".format(dbname, user, host, password)\n",
    "\n",
    "try:\n",
    "    conn = psycopg2.connect(conn_str)\n",
    "except:\n",
    "    print (\"I am unable to connect to the database\")"
   ]
  },
  {
   "cell_type": "code",
   "execution_count": 6,
   "metadata": {},
   "outputs": [],
   "source": [
    "# example dataframe with all the listings (as of 04/24, about 23k listings)\n",
    "df = pd.read_sql_query(\"select * from shared_listings;\",con=conn)"
   ]
  },
  {
   "cell_type": "code",
   "execution_count": 7,
   "metadata": {},
   "outputs": [
    {
     "data": {
      "text/plain": [
       "newyork         14610\n",
       "sfbay            5491\n",
       "losangeles       4869\n",
       "washingtondc     4694\n",
       "boston           2999\n",
       "miami            2718\n",
       "sandiego         2184\n",
       "chicago          1989\n",
       "houston          1860\n",
       "atlanta          1741\n",
       "philadelphia     1681\n",
       "orangecounty     1673\n",
       "denver           1420\n",
       "seattle          1389\n",
       "orlando          1333\n",
       "baltimore        1250\n",
       "inlandempire     1235\n",
       "newjersey        1212\n",
       "austin           1184\n",
       "tampa            1151\n",
       "portland         1123\n",
       "phoenix          1117\n",
       "lasvegas          982\n",
       "dallas            913\n",
       "sacramento        909\n",
       "minneapolis       824\n",
       "norfolk           742\n",
       "raleigh           724\n",
       "indianapolis      670\n",
       "nashville         622\n",
       "                ...  \n",
       "northplatte         4\n",
       "butte               4\n",
       "enid                4\n",
       "klamath             4\n",
       "ottumwa             4\n",
       "eastoregon          4\n",
       "bemidji             4\n",
       "quincy              4\n",
       "salina              4\n",
       "owensboro           4\n",
       "clovis              3\n",
       "lewiston            3\n",
       "showlow             3\n",
       "bismarck            3\n",
       "greatfalls          3\n",
       "houma               2\n",
       "shoals              2\n",
       "texarkana           2\n",
       "fortdodge           2\n",
       "sheboygan           2\n",
       "montana             2\n",
       "micronesia          2\n",
       "csd                 2\n",
       "nesd                1\n",
       "grandisland         1\n",
       "masoncity           1\n",
       "kirksville          1\n",
       "kokomo              1\n",
       "scottsbluff         1\n",
       "swks                1\n",
       "Name: region, dtype: int64"
      ]
     },
     "execution_count": 7,
     "metadata": {},
     "output_type": "execute_result"
    }
   ],
   "source": [
    "df['region'].value_counts()"
   ]
  },
  {
   "cell_type": "markdown",
   "metadata": {},
   "source": [
    "### Example SQL pulls"
   ]
  },
  {
   "cell_type": "code",
   "execution_count": null,
   "metadata": {},
   "outputs": [],
   "source": [
    "# example syntax for pulling just those from newyork domain\n",
    "df_nyc = pd.read_sql_query(\"select * from shared_listings where region = 'newyork';\",con=conn)"
   ]
  },
  {
   "cell_type": "code",
   "execution_count": null,
   "metadata": {
    "collapsed": true
   },
   "outputs": [],
   "source": [
    "# example syntax for pulling just those on a specific date (April 22)\n",
    "df_april25 = pd.read_sql_query(\"select * from shared_listings where dt >= '2017-04-25' AND dt < '2017-04-23';\",con=conn)"
   ]
  },
  {
   "cell_type": "code",
   "execution_count": null,
   "metadata": {
    "collapsed": true
   },
   "outputs": [],
   "source": [
    "# example syntax for pulling just those on a specific date (April 22)\n",
    "df_april25 = pd.read_sql_query(\"select * from shared_listings where dt >= '2017-04-25';\",con=conn)"
   ]
  },
  {
   "cell_type": "code",
   "execution_count": null,
   "metadata": {
    "collapsed": true
   },
   "outputs": [],
   "source": [
    "df_april24 = pd.read_sql_query(\"select * from shared_listings where dt >= '2017-04-24'AND dt < '2017-04-25';\",con=conn)"
   ]
  },
  {
   "cell_type": "code",
   "execution_count": null,
   "metadata": {
    "collapsed": true
   },
   "outputs": [],
   "source": [
    "df_april23 = pd.read_sql_query(\"select * from shared_listings where dt >= '2017-04-23'AND dt < '2017-04-24';\",con=conn)"
   ]
  },
  {
   "cell_type": "code",
   "execution_count": null,
   "metadata": {
    "collapsed": true
   },
   "outputs": [],
   "source": [
    "#close database connection (no longer needed)\n",
    "conn.close()"
   ]
  },
  {
   "cell_type": "markdown",
   "metadata": {},
   "source": [
    "### De-Duplication"
   ]
  },
  {
   "cell_type": "code",
   "execution_count": 8,
   "metadata": {},
   "outputs": [],
   "source": [
    "df.loc[df.lat == 99, 'lat'] = 0\n",
    "df.loc[df.lng == 99, 'lng'] = 0\n",
    "df.loc[df.sqft == 0, 'sqft'] = np.nan\n",
    "\n",
    "#For any duplicate post, we want to keep the version with the most information. Therefore, assign a score to each post and \n",
    "#give one point for square footage, lat, long and price\n",
    "\n",
    "df['price_exists'] = df['rent']>0\n",
    "df['sqft_exists'] = df['sqft']>0\n",
    "df['lat_exists'] = df['lat']>0\n",
    "df['lng_exists'] = df['lng']<0\n",
    "df['score'] = df[['price_exists','sqft_exists','lat_exists','lng_exists']].astype(bool).sum(axis=1)"
   ]
  },
  {
   "cell_type": "code",
   "execution_count": 9,
   "metadata": {
    "collapsed": true
   },
   "outputs": [],
   "source": [
    "#Sort rows by score\n",
    "df = df.sort_values(by='score',ascending=False)"
   ]
  },
  {
   "cell_type": "code",
   "execution_count": 10,
   "metadata": {},
   "outputs": [],
   "source": [
    "dedupe1 = pd.DataFrame(df.drop_duplicates(subset='body_text', inplace=False))"
   ]
  },
  {
   "cell_type": "code",
   "execution_count": 11,
   "metadata": {},
   "outputs": [
    {
     "data": {
      "text/plain": [
       "(68106, 28)"
      ]
     },
     "execution_count": 11,
     "metadata": {},
     "output_type": "execute_result"
    }
   ],
   "source": [
    "dedupe1.shape"
   ]
  },
  {
   "cell_type": "code",
   "execution_count": 12,
   "metadata": {
    "collapsed": true
   },
   "outputs": [],
   "source": [
    "dedupe2 = pd.DataFrame(dedupe1.drop_duplicates(subset='pid', inplace=False))"
   ]
  },
  {
   "cell_type": "code",
   "execution_count": 13,
   "metadata": {
    "scrolled": true
   },
   "outputs": [
    {
     "data": {
      "text/plain": [
       "(66269, 28)"
      ]
     },
     "execution_count": 13,
     "metadata": {},
     "output_type": "execute_result"
    }
   ],
   "source": [
    "dedupe2.shape"
   ]
  },
  {
   "cell_type": "markdown",
   "metadata": {},
   "source": [
    "### Quick bar chart to see impact of deduplication on sample size"
   ]
  },
  {
   "cell_type": "code",
   "execution_count": 19,
   "metadata": {
    "collapsed": true
   },
   "outputs": [],
   "source": [
    "y = [len(df),len(dedupe1), len(dedupe2)]\n",
    "labels = ['original', 'dedupe-body', 'dedupe-pid']\n",
    "x = [1,2,3]"
   ]
  },
  {
   "cell_type": "code",
   "execution_count": 20,
   "metadata": {},
   "outputs": [
    {
     "data": {
      "image/png": "[encoded data removed]",
      "text/plain": [
       "<matplotlib.figure.Figure at 0x1a012442780>"
      ]
     },
     "metadata": {},
     "output_type": "display_data"
    }
   ],
   "source": [
    "plt.figure(figsize=(10,6) )\n",
    "plt.suptitle('Deduplication Sample Size')\n",
    "plt.xlabel('Deduplication Phase')\n",
    "plt.ylabel('Number of Listings')\n",
    "plt.xticks(x, labels)\n",
    "ax = plt.bar(x, y, alpha=.4, color='cyan', align='center')\n",
    "plt.show()"
   ]
  },
  {
   "cell_type": "markdown",
   "metadata": {},
   "source": [
    "### More Filtering"
   ]
  },
  {
   "cell_type": "code",
   "execution_count": 21,
   "metadata": {},
   "outputs": [],
   "source": [
    "unique_wprice = dedupe2[dedupe2['rent'] > 0]"
   ]
  },
  {
   "cell_type": "code",
   "execution_count": 22,
   "metadata": {},
   "outputs": [
    {
     "data": {
      "text/plain": [
       "(55469, 28)"
      ]
     },
     "execution_count": 22,
     "metadata": {},
     "output_type": "execute_result"
    }
   ],
   "source": [
    "unique_wprice.shape"
   ]
  },
  {
   "cell_type": "code",
   "execution_count": 23,
   "metadata": {},
   "outputs": [
    {
     "name": "stdout",
     "output_type": "stream",
     "text": [
      "valid rent range: [300.0, 6000.0]\n",
      "valid sqft range: [220.0, nan]\n"
     ]
    }
   ],
   "source": [
    "# in this cell, define the values by which we will filter the 3 columns. This will vary depending on the sample we're looking at. \n",
    "upper_percentile = 0.997\n",
    "lower_percentile = 0.08\n",
    "\n",
    "# how many rows would be within the upper and lower percentiles?\n",
    "upper = int(len(unique_wprice) * upper_percentile)\n",
    "lower = int(len(unique_wprice) * lower_percentile)\n",
    "\n",
    "# get the rent values at the upper and lower percentiles\n",
    "rent_sorted = unique_wprice['rent'].sort_values(ascending=True, inplace=False)\n",
    "upper_rent = rent_sorted.iloc[upper]\n",
    "lower_rent = rent_sorted.iloc[lower]\n",
    "\n",
    "# get the sqft values at the upper and lower percentiles\n",
    "sqft_sorted = unique_wprice['sqft'].sort_values(ascending=True, inplace=False)\n",
    "upper_sqft = sqft_sorted.iloc[upper]\n",
    "lower_sqft = sqft_sorted.iloc[lower]\n",
    "\n",
    "print('valid rent range:', [lower_rent, upper_rent])\n",
    "print('valid sqft range:', [lower_sqft, upper_sqft])"
   ]
  },
  {
   "cell_type": "code",
   "execution_count": 24,
   "metadata": {},
   "outputs": [],
   "source": [
    "#Filtering out rows with unreasonable rent prices \n",
    "rent_mask = (unique_wprice['rent'] > lower_rent) & (unique_wprice['rent'] < upper_rent)"
   ]
  },
  {
   "cell_type": "code",
   "execution_count": 25,
   "metadata": {
    "collapsed": true
   },
   "outputs": [],
   "source": [
    "filtered_listings = pd.DataFrame(unique_wprice[rent_mask])"
   ]
  },
  {
   "cell_type": "code",
   "execution_count": 26,
   "metadata": {
    "scrolled": true
   },
   "outputs": [
    {
     "data": {
      "text/plain": [
       "(50434, 28)"
      ]
     },
     "execution_count": 26,
     "metadata": {},
     "output_type": "execute_result"
    }
   ],
   "source": [
    "filtered_listings.shape"
   ]
  },
  {
   "cell_type": "markdown",
   "metadata": {},
   "source": [
    "### Full Filtered Database Charts"
   ]
  },
  {
   "cell_type": "code",
   "execution_count": 27,
   "metadata": {},
   "outputs": [],
   "source": [
    "listings_ratios = pd.DataFrame()\n",
    "\n",
    "#Number of total shared listings for reach region before deduplication or filtering\n",
    "listings_ratios['all_shared_listings'] = df['region'].value_counts()\n",
    "\n",
    "listings_ratios['deduplicated_text'] = dedupe1['region'].value_counts()\n",
    "\n",
    "listings_ratios['deduplicated_pid'] = dedupe2['region'].value_counts()\n",
    "\n",
    "listings_ratios['duplicate_listings'] = listings_ratios['all_shared_listings'] - listings_ratios['deduplicated_pid'] \n",
    "\n",
    "listings_ratios['duplicate_ratio'] = listings_ratios['duplicate_listings']/listings_ratios['all_shared_listings']\n",
    "\n",
    "listings_ratios['unique_ratio'] = listings_ratios['deduplicated_pid']/listings_ratios['all_shared_listings']"
   ]
  },
  {
   "cell_type": "code",
   "execution_count": 28,
   "metadata": {},
   "outputs": [
    {
     "data": {
      "text/html": [
       "<div>\n",
       "<table border=\"1\" class=\"dataframe\">\n",
       "  <thead>\n",
       "    <tr style=\"text-align: right;\">\n",
       "      <th></th>\n",
       "      <th>all_shared_listings</th>\n",
       "      <th>deduplicated_text</th>\n",
       "      <th>deduplicated_pid</th>\n",
       "      <th>duplicate_listings</th>\n",
       "      <th>duplicate_ratio</th>\n",
       "      <th>unique_ratio</th>\n",
       "    </tr>\n",
       "  </thead>\n",
       "  <tbody>\n",
       "    <tr>\n",
       "      <th>newyork</th>\n",
       "      <td>14610</td>\n",
       "      <td>7159.000</td>\n",
       "      <td>7065.000</td>\n",
       "      <td>7545.000</td>\n",
       "      <td>0.516</td>\n",
       "      <td>0.484</td>\n",
       "    </tr>\n",
       "    <tr>\n",
       "      <th>sfbay</th>\n",
       "      <td>5491</td>\n",
       "      <td>4416.000</td>\n",
       "      <td>4322.000</td>\n",
       "      <td>1169.000</td>\n",
       "      <td>0.213</td>\n",
       "      <td>0.787</td>\n",
       "    </tr>\n",
       "    <tr>\n",
       "      <th>losangeles</th>\n",
       "      <td>4869</td>\n",
       "      <td>3303.000</td>\n",
       "      <td>3222.000</td>\n",
       "      <td>1647.000</td>\n",
       "      <td>0.338</td>\n",
       "      <td>0.662</td>\n",
       "    </tr>\n",
       "    <tr>\n",
       "      <th>washingtondc</th>\n",
       "      <td>4694</td>\n",
       "      <td>3245.000</td>\n",
       "      <td>3190.000</td>\n",
       "      <td>1504.000</td>\n",
       "      <td>0.320</td>\n",
       "      <td>0.680</td>\n",
       "    </tr>\n",
       "    <tr>\n",
       "      <th>boston</th>\n",
       "      <td>2999</td>\n",
       "      <td>2041.000</td>\n",
       "      <td>1976.000</td>\n",
       "      <td>1023.000</td>\n",
       "      <td>0.341</td>\n",
       "      <td>0.659</td>\n",
       "    </tr>\n",
       "  </tbody>\n",
       "</table>\n",
       "</div>"
      ],
      "text/plain": [
       "              all_shared_listings  deduplicated_text  deduplicated_pid  \\\n",
       "newyork                     14610           7159.000          7065.000   \n",
       "sfbay                        5491           4416.000          4322.000   \n",
       "losangeles                   4869           3303.000          3222.000   \n",
       "washingtondc                 4694           3245.000          3190.000   \n",
       "boston                       2999           2041.000          1976.000   \n",
       "\n",
       "              duplicate_listings  duplicate_ratio  unique_ratio  \n",
       "newyork                 7545.000            0.516         0.484  \n",
       "sfbay                   1169.000            0.213         0.787  \n",
       "losangeles              1647.000            0.338         0.662  \n",
       "washingtondc            1504.000            0.320         0.680  \n",
       "boston                  1023.000            0.341         0.659  "
      ]
     },
     "execution_count": 28,
     "metadata": {},
     "output_type": "execute_result"
    }
   ],
   "source": [
    "listings_ratios.head()"
   ]
  },
  {
   "cell_type": "code",
   "execution_count": 38,
   "metadata": {},
   "outputs": [
    {
     "data": {
      "image/png": "[encoded data removed]",
      "text/plain": [
       "<matplotlib.figure.Figure at 0x1a00c693588>"
      ]
     },
     "metadata": {},
     "output_type": "display_data"
    }
   ],
   "source": [
    "# plot the ratios of unique and duplicate listings, by region. This is before dropping observations without lat-lngs!\n",
    "\n",
    "countdata = listings_ratios.sort_values(by='all_shared_listings', ascending=False)[['deduplicated_pid','duplicate_listings']].head(20)\n",
    "countdata.columns = ['Unique Listings', 'Duplicate Listings']\n",
    "ax = countdata.plot(kind='bar',\n",
    "                    stacked=True,\n",
    "                    figsize=[10, 6], \n",
    "                    width=0.6, \n",
    "                    alpha=0.5, \n",
    "                    color=['b','m'],\n",
    "                    edgecolor='k',\n",
    "                    grid=False)\n",
    "\n",
    "ax.yaxis.grid(True)\n",
    "ax.set_xticks(range(0, len(countdata)))\n",
    "ax.set_xticklabels(countdata.index, rotation=40, rotation_mode='anchor', ha='right', fontproperties=ticks_font)\n",
    "for label in ax.get_yticklabels():\n",
    "        label.set_fontproperties(ticks_font)\n",
    "ax.set_title('Unique and Duplicate Shared Rental Listings, by region', fontproperties=title_font)\n",
    "ax.set_xlabel('', fontproperties=label_font)\n",
    "ax.set_ylabel('Total number of listings', fontproperties=label_font)        \n",
    "\n",
    "#save_fig(plt.gcf(), 'count_unique_duplicate_listings.png')\n",
    "plt.show()"
   ]
  },
  {
   "cell_type": "markdown",
   "metadata": {
    "collapsed": true
   },
   "source": [
    "## Spatial Join for Census Tracts"
   ]
  },
  {
   "cell_type": "code",
   "execution_count": 39,
   "metadata": {
    "collapsed": true
   },
   "outputs": [],
   "source": [
    "import geopandas as gpd\n",
    "\n",
    "from geopandas import GeoDataFrame\n",
    "from shapely.geometry import Point\n",
    "from geopy.distance import great_circle\n",
    "\n",
    "from scipy import ndimage\n",
    "\n",
    "import matplotlib.pylab as pylab\n",
    "import matplotlib.pyplot as plt\n",
    "pylab.rcParams['figure.figsize'] = 10, 8\n",
    "import fiona"
   ]
  },
  {
   "cell_type": "markdown",
   "metadata": {},
   "source": [
    "### California Regions"
   ]
  },
  {
   "cell_type": "code",
   "execution_count": 40,
   "metadata": {},
   "outputs": [
    {
     "name": "stdout",
     "output_type": "stream",
     "text": [
      "<class 'geopandas.geodataframe.GeoDataFrame'>\n",
      "{'init': 'epsg:4269'}\n"
     ]
    }
   ],
   "source": [
    "california = gpd.read_file('ca_census_shapefile//cb_2015_06_tract_500k.shp')\n",
    "print(type(california))\n",
    "print(california.crs)"
   ]
  },
  {
   "cell_type": "code",
   "execution_count": 41,
   "metadata": {},
   "outputs": [
    {
     "name": "stdout",
     "output_type": "stream",
     "text": [
      "{'init': 'epsg:2227'}\n"
     ]
    }
   ],
   "source": [
    "#Use California CRS\n",
    "# California.crs = {'init' :'epsg:2227'}\n",
    "#http://spatialreference.org/ref/epsg/2227/\n",
    "california_crs = {'init': 'epsg:2227'}\n",
    "california = california.to_crs(california_crs)\n",
    "print(california.crs)"
   ]
  },
  {
   "cell_type": "code",
   "execution_count": 42,
   "metadata": {
    "collapsed": true
   },
   "outputs": [],
   "source": [
    "sfbay = filtered_listings[filtered_listings['region']=='sfbay']"
   ]
  },
  {
   "cell_type": "code",
   "execution_count": 44,
   "metadata": {
    "scrolled": false
   },
   "outputs": [],
   "source": [
    "sfbay = sfbay[sfbay.lat != 0]"
   ]
  },
  {
   "cell_type": "code",
   "execution_count": 46,
   "metadata": {
    "collapsed": true
   },
   "outputs": [],
   "source": [
    "los_angeles = filtered_listings[filtered_listings['region']=='losangeles']"
   ]
  },
  {
   "cell_type": "code",
   "execution_count": 47,
   "metadata": {},
   "outputs": [],
   "source": [
    "los_angeles = los_angeles[los_angeles.lat != 0]"
   ]
  },
  {
   "cell_type": "markdown",
   "metadata": {},
   "source": [
    "### LA GeoJSON"
   ]
  },
  {
   "cell_type": "code",
   "execution_count": 50,
   "metadata": {},
   "outputs": [
    {
     "name": "stdout",
     "output_type": "stream",
     "text": [
      "<class 'geopandas.geodataframe.GeoDataFrame'>\n",
      "{'init': 'epsg:2227'}\n"
     ]
    }
   ],
   "source": [
    "geometryMapping_la = [Point(xy) for xy in zip(los_angeles.lng, los_angeles.lat)]\n",
    "geo_la = GeoDataFrame(los_angeles, crs={'init' :'epsg:4326'}, geometry=geometryMapping_la)\n",
    "geo_la=geo_la.to_crs(california_crs)\n",
    "print(type(geo_la))\n",
    "print(geo_la.crs)"
   ]
  },
  {
   "cell_type": "markdown",
   "metadata": {},
   "source": [
    "### SF GeoJSON"
   ]
  },
  {
   "cell_type": "code",
   "execution_count": 51,
   "metadata": {},
   "outputs": [
    {
     "name": "stdout",
     "output_type": "stream",
     "text": [
      "<class 'geopandas.geodataframe.GeoDataFrame'>\n",
      "{'init': 'epsg:2227'}\n"
     ]
    }
   ],
   "source": [
    "geometryMapping = [Point(xy) for xy in zip(sfbay.lng, sfbay.lat)]\n",
    "geo_sf = GeoDataFrame(sfbay, crs={'init' :'epsg:4326'}, geometry=geometryMapping)\n",
    "geo_sf=geo_sf.to_crs(california_crs)\n",
    "print(type(geo_sf))\n",
    "print(geo_sf.crs)"
   ]
  },
  {
   "cell_type": "code",
   "execution_count": 52,
   "metadata": {},
   "outputs": [],
   "source": [
    "la_joined = gpd.sjoin(geo_la, california, how='inner', op='intersects')"
   ]
  },
  {
   "cell_type": "code",
   "execution_count": 53,
   "metadata": {},
   "outputs": [],
   "source": [
    "sf_joined = gpd.sjoin(geo_sf, california, how=\"inner\", op='intersects')"
   ]
  },
  {
   "cell_type": "code",
   "execution_count": 54,
   "metadata": {},
   "outputs": [
    {
     "data": {
      "text/plain": [
       "(2198, 39)"
      ]
     },
     "execution_count": 54,
     "metadata": {},
     "output_type": "execute_result"
    }
   ],
   "source": [
    "la_joined.shape"
   ]
  },
  {
   "cell_type": "code",
   "execution_count": 55,
   "metadata": {},
   "outputs": [],
   "source": [
    "# Dropping unnecessary fields that came from Census shapefile\n",
    "la_joined.drop(['ALAND','LSAD','NAME','AWATER','AFFGEOID','STATEFP','COUNTYFP'], axis=1, inplace=True)\n",
    "sf_joined.drop(['ALAND','LSAD','NAME','AWATER','AFFGEOID','STATEFP','COUNTYFP'], axis=1, inplace=True)"
   ]
  },
  {
   "cell_type": "markdown",
   "metadata": {},
   "source": [
    "### Mapping"
   ]
  },
  {
   "cell_type": "code",
   "execution_count": 56,
   "metadata": {
    "scrolled": true
   },
   "outputs": [
    {
     "data": {
      "image/png": "[encoded data removed]",
      "text/plain": [
       "<matplotlib.figure.Figure at 0x1a0080c1320>"
      ]
     },
     "metadata": {},
     "output_type": "display_data"
    }
   ],
   "source": [
    "base = california.plot(color='gray', linewidth=.1)\n",
    "sf_joined.plot(color='red', ax=base)\n",
    "la_joined.plot(color='b', ax=base)\n",
    "plt.show()"
   ]
  },
  {
   "cell_type": "markdown",
   "metadata": {},
   "source": [
    "### Comparing Vacant to Shared Listings"
   ]
  },
  {
   "cell_type": "code",
   "execution_count": 57,
   "metadata": {},
   "outputs": [],
   "source": [
    "vacant = pd.read_csv('vacant_april_listings.csv',dtype={'fips_block':str})"
   ]
  },
  {
   "cell_type": "code",
   "execution_count": 58,
   "metadata": {
    "collapsed": true
   },
   "outputs": [],
   "source": [
    "# Creating a GEOID field that's comparable to shared listings\n",
    "vacant['GEOID'] = vacant['fips_block'].str[:-4]"
   ]
  },
  {
   "cell_type": "code",
   "execution_count": 59,
   "metadata": {},
   "outputs": [],
   "source": [
    "# Turning studios into 1BRs for calculating rent per bedroom\n",
    "vacant['beds2'] = vacant['beds']\n",
    "vacant.loc[vacant.beds2 == 0, 'beds2'] = 1\n"
   ]
  },
  {
   "cell_type": "code",
   "execution_count": 60,
   "metadata": {
    "collapsed": true
   },
   "outputs": [],
   "source": [
    "vacant['rent_per_br'] = vacant['rent']/vacant['beds2']"
   ]
  },
  {
   "cell_type": "code",
   "execution_count": 61,
   "metadata": {},
   "outputs": [
    {
     "name": "stdout",
     "output_type": "stream",
     "text": [
      "valid rent_sqft range: [0.36067551266599995, 4.9182839632300004]\n",
      "valid rent range: [425.0, 4890.0]\n",
      "valid sqft range: [360.0, 2740.0]\n"
     ]
    }
   ],
   "source": [
    "# in this cell, define the values by which we will filter the 3 columns. This will vary depending on the sample we're looking at. \n",
    "upper_percentile = 0.99\n",
    "lower_percentile = 0.01\n",
    "\n",
    "# how many rows would be within the upper and lower percentiles?\n",
    "upper = int(len(vacant) * upper_percentile)\n",
    "lower = int(len(vacant) * lower_percentile)\n",
    "\n",
    "# get the rent/sqft values at the upper and lower percentiles\n",
    "rent_sqft_sorted = vacant['rent_sqft'].sort_values(ascending=True, inplace=False)\n",
    "upper_rent_sqft = rent_sqft_sorted.iloc[upper]\n",
    "lower_rent_sqft = rent_sqft_sorted.iloc[lower]\n",
    "\n",
    "# get the rent values at the upper and lower percentiles\n",
    "rent_sorted = vacant['rent'].sort_values(ascending=True, inplace=False)\n",
    "upper_rent = rent_sorted.iloc[upper]\n",
    "lower_rent = rent_sorted.iloc[lower]\n",
    "\n",
    "# get the sqft values at the upper and lower percentiles\n",
    "sqft_sorted = vacant['sqft'].sort_values(ascending=True, inplace=False)\n",
    "upper_sqft = sqft_sorted.iloc[upper]\n",
    "lower_sqft = sqft_sorted.iloc[lower]\n",
    "\n",
    "print('valid rent_sqft range:', [lower_rent_sqft, upper_rent_sqft])\n",
    "print('valid rent range:', [lower_rent, upper_rent])\n",
    "print('valid sqft range:', [lower_sqft, upper_sqft])"
   ]
  },
  {
   "cell_type": "code",
   "execution_count": 62,
   "metadata": {},
   "outputs": [],
   "source": [
    "#Filtering out rows with unreasonable rent prices \n",
    "rent_mask = (vacant['rent'] > lower_rent) & (vacant['rent'] < upper_rent)"
   ]
  },
  {
   "cell_type": "code",
   "execution_count": 63,
   "metadata": {
    "collapsed": true
   },
   "outputs": [],
   "source": [
    "filtered_vacant = pd.DataFrame(vacant[rent_mask])"
   ]
  },
  {
   "cell_type": "code",
   "execution_count": 66,
   "metadata": {},
   "outputs": [
    {
     "name": "stdout",
     "output_type": "stream",
     "text": [
      "median rent for all vacant listings: 1230.0\n",
      "median rent for all vacant Studio Units: 1267.0\n",
      "median rent for all vacant 1BR Units: 1101.0\n",
      "median rent per bedroom for all vacant listings: 760.0\n",
      "median rent per bedroom for all multi-bedroom vacant listings: 562.5\n"
     ]
    }
   ],
   "source": [
    "# Snapshot of median prices for total sample\n",
    "print('median rent for all vacant listings:', filtered_vacant['rent'].median())\n",
    "print('median rent for all vacant Studio Units:',(filtered_vacant[filtered_vacant['beds']==0])['rent_per_br'].median())\n",
    "print('median rent for all vacant 1BR Units:',(filtered_vacant[filtered_vacant['beds']==1])['rent_per_br'].median())\n",
    "\n",
    "print('median rent per bedroom for all vacant listings:', filtered_vacant['rent_per_br'].median())\n",
    "print('median rent per bedroom for all multi-bedroom vacant listings:', (filtered_vacant[filtered_vacant['beds'] > 1])['rent_per_br'].median())"
   ]
  },
  {
   "cell_type": "code",
   "execution_count": 67,
   "metadata": {},
   "outputs": [],
   "source": [
    "vacant_sfbay = vacant[vacant['region']=='sfbay']"
   ]
  },
  {
   "cell_type": "code",
   "execution_count": 68,
   "metadata": {},
   "outputs": [
    {
     "data": {
      "text/plain": [
       "(44285, 17)"
      ]
     },
     "execution_count": 68,
     "metadata": {},
     "output_type": "execute_result"
    }
   ],
   "source": [
    "vacant_sfbay.shape"
   ]
  },
  {
   "cell_type": "code",
   "execution_count": 76,
   "metadata": {
    "scrolled": true
   },
   "outputs": [
    {
     "name": "stdout",
     "output_type": "stream",
     "text": [
      "median rent for all SF vacant listings: 2695.0\n",
      "median rent for all SF vacant Studio Units: 2189.0\n",
      "median rent for all SF vacant 1BR Units: 2330.0\n",
      "median rent per bedroom for all SF vacant listings: 1757.0\n",
      "median rent per bedroom for all SF multi-bedroom vacant listings: 1375.0\n"
     ]
    }
   ],
   "source": [
    "# Note: If we apply a filter for individual regions, we'd probably want to adjust the parameters to account for the smaller \n",
    "# sample size and different market; for example, $5000 is not a super atypical price in the Bay Area, shouldn't be filtered out \n",
    "print('median rent for all SF vacant listings:', vacant_sfbay['rent'].median())\n",
    "print('median rent for all SF vacant Studio Units:',(vacant_sfbay[vacant_sfbay['beds']==0])['rent_per_br'].median())\n",
    "print('median rent for all SF vacant 1BR Units:',(vacant_sfbay[vacant_sfbay['beds']==1])['rent_per_br'].median())\n",
    "\n",
    "print('median rent per bedroom for all SF vacant listings:', vacant_sfbay['rent_per_br'].median())\n",
    "print('median rent per bedroom for all SF multi-bedroom vacant listings:', (vacant_sfbay[vacant_sfbay['beds'] > 1])['rent_per_br'].median())"
   ]
  },
  {
   "cell_type": "code",
   "execution_count": 77,
   "metadata": {},
   "outputs": [
    {
     "data": {
      "text/plain": [
       "1074.5"
      ]
     },
     "execution_count": 77,
     "metadata": {},
     "output_type": "execute_result"
    }
   ],
   "source": [
    "sf_joined['rent'].median()"
   ]
  },
  {
   "cell_type": "code",
   "execution_count": 79,
   "metadata": {
    "collapsed": true
   },
   "outputs": [],
   "source": [
    "vacant_la = vacant[vacant['region']=='losangeles']"
   ]
  },
  {
   "cell_type": "code",
   "execution_count": null,
   "metadata": {},
   "outputs": [],
   "source": [
    "#vacant2 = vacant[(vacant['GEOID'] != '')]"
   ]
  },
  {
   "cell_type": "code",
   "execution_count": 85,
   "metadata": {},
   "outputs": [
    {
     "data": {
      "text/html": [
       "<div>\n",
       "<table border=\"1\" class=\"dataframe\">\n",
       "  <thead>\n",
       "    <tr>\n",
       "      <th></th>\n",
       "      <th colspan=\"3\" halign=\"left\">rent_per_br</th>\n",
       "    </tr>\n",
       "    <tr>\n",
       "      <th></th>\n",
       "      <th>mean</th>\n",
       "      <th>median</th>\n",
       "      <th>count</th>\n",
       "    </tr>\n",
       "    <tr>\n",
       "      <th>GEOID</th>\n",
       "      <th></th>\n",
       "      <th></th>\n",
       "      <th></th>\n",
       "    </tr>\n",
       "  </thead>\n",
       "  <tbody>\n",
       "    <tr>\n",
       "      <th>06001400100</th>\n",
       "      <td>1554.303</td>\n",
       "      <td>1633.333</td>\n",
       "      <td>11</td>\n",
       "    </tr>\n",
       "    <tr>\n",
       "      <th>06001400200</th>\n",
       "      <td>2073.750</td>\n",
       "      <td>2047.500</td>\n",
       "      <td>4</td>\n",
       "    </tr>\n",
       "    <tr>\n",
       "      <th>06001400300</th>\n",
       "      <td>2412.234</td>\n",
       "      <td>2125.000</td>\n",
       "      <td>47</td>\n",
       "    </tr>\n",
       "    <tr>\n",
       "      <th>06001400400</th>\n",
       "      <td>1844.123</td>\n",
       "      <td>1800.000</td>\n",
       "      <td>19</td>\n",
       "    </tr>\n",
       "    <tr>\n",
       "      <th>06001400500</th>\n",
       "      <td>1812.500</td>\n",
       "      <td>1875.000</td>\n",
       "      <td>11</td>\n",
       "    </tr>\n",
       "    <tr>\n",
       "      <th>06001400600</th>\n",
       "      <td>1709.848</td>\n",
       "      <td>1600.000</td>\n",
       "      <td>11</td>\n",
       "    </tr>\n",
       "    <tr>\n",
       "      <th>06001400700</th>\n",
       "      <td>1814.885</td>\n",
       "      <td>1900.000</td>\n",
       "      <td>13</td>\n",
       "    </tr>\n",
       "    <tr>\n",
       "      <th>06001400800</th>\n",
       "      <td>1380.833</td>\n",
       "      <td>1425.000</td>\n",
       "      <td>14</td>\n",
       "    </tr>\n",
       "    <tr>\n",
       "      <th>06001400900</th>\n",
       "      <td>2080.000</td>\n",
       "      <td>2000.000</td>\n",
       "      <td>5</td>\n",
       "    </tr>\n",
       "    <tr>\n",
       "      <th>06001401000</th>\n",
       "      <td>1457.889</td>\n",
       "      <td>1395.000</td>\n",
       "      <td>15</td>\n",
       "    </tr>\n",
       "    <tr>\n",
       "      <th>06001401100</th>\n",
       "      <td>1516.389</td>\n",
       "      <td>1362.500</td>\n",
       "      <td>24</td>\n",
       "    </tr>\n",
       "    <tr>\n",
       "      <th>06001401200</th>\n",
       "      <td>1714.083</td>\n",
       "      <td>1491.250</td>\n",
       "      <td>10</td>\n",
       "    </tr>\n",
       "    <tr>\n",
       "      <th>06001401300</th>\n",
       "      <td>2597.130</td>\n",
       "      <td>2903.000</td>\n",
       "      <td>69</td>\n",
       "    </tr>\n",
       "    <tr>\n",
       "      <th>06001401400</th>\n",
       "      <td>1485.000</td>\n",
       "      <td>1382.500</td>\n",
       "      <td>10</td>\n",
       "    </tr>\n",
       "    <tr>\n",
       "      <th>06001401500</th>\n",
       "      <td>940.625</td>\n",
       "      <td>850.000</td>\n",
       "      <td>8</td>\n",
       "    </tr>\n",
       "    <tr>\n",
       "      <th>06001401600</th>\n",
       "      <td>1001.250</td>\n",
       "      <td>975.000</td>\n",
       "      <td>10</td>\n",
       "    </tr>\n",
       "    <tr>\n",
       "      <th>06001401700</th>\n",
       "      <td>1812.269</td>\n",
       "      <td>1650.000</td>\n",
       "      <td>13</td>\n",
       "    </tr>\n",
       "    <tr>\n",
       "      <th>06001401800</th>\n",
       "      <td>1421.250</td>\n",
       "      <td>1421.250</td>\n",
       "      <td>4</td>\n",
       "    </tr>\n",
       "    <tr>\n",
       "      <th>06001402200</th>\n",
       "      <td>1832.292</td>\n",
       "      <td>1737.500</td>\n",
       "      <td>8</td>\n",
       "    </tr>\n",
       "    <tr>\n",
       "      <th>06001402400</th>\n",
       "      <td>1533.750</td>\n",
       "      <td>1695.000</td>\n",
       "      <td>4</td>\n",
       "    </tr>\n",
       "    <tr>\n",
       "      <th>06001402500</th>\n",
       "      <td>1304.167</td>\n",
       "      <td>1400.000</td>\n",
       "      <td>4</td>\n",
       "    </tr>\n",
       "    <tr>\n",
       "      <th>06001402600</th>\n",
       "      <td>1398.667</td>\n",
       "      <td>1400.000</td>\n",
       "      <td>5</td>\n",
       "    </tr>\n",
       "    <tr>\n",
       "      <th>06001402700</th>\n",
       "      <td>1073.042</td>\n",
       "      <td>1020.000</td>\n",
       "      <td>8</td>\n",
       "    </tr>\n",
       "    <tr>\n",
       "      <th>06001402800</th>\n",
       "      <td>2144.826</td>\n",
       "      <td>1965.000</td>\n",
       "      <td>45</td>\n",
       "    </tr>\n",
       "    <tr>\n",
       "      <th>06001402900</th>\n",
       "      <td>2157.241</td>\n",
       "      <td>2295.000</td>\n",
       "      <td>27</td>\n",
       "    </tr>\n",
       "    <tr>\n",
       "      <th>06001403000</th>\n",
       "      <td>1726.250</td>\n",
       "      <td>1583.750</td>\n",
       "      <td>10</td>\n",
       "    </tr>\n",
       "    <tr>\n",
       "      <th>06001403100</th>\n",
       "      <td>1986.692</td>\n",
       "      <td>1722.500</td>\n",
       "      <td>26</td>\n",
       "    </tr>\n",
       "    <tr>\n",
       "      <th>06001403300</th>\n",
       "      <td>2305.118</td>\n",
       "      <td>2387.000</td>\n",
       "      <td>114</td>\n",
       "    </tr>\n",
       "    <tr>\n",
       "      <th>06001403400</th>\n",
       "      <td>2198.942</td>\n",
       "      <td>2195.000</td>\n",
       "      <td>78</td>\n",
       "    </tr>\n",
       "    <tr>\n",
       "      <th>06001403501</th>\n",
       "      <td>2706.008</td>\n",
       "      <td>2913.000</td>\n",
       "      <td>85</td>\n",
       "    </tr>\n",
       "    <tr>\n",
       "      <th>...</th>\n",
       "      <td>...</td>\n",
       "      <td>...</td>\n",
       "      <td>...</td>\n",
       "    </tr>\n",
       "    <tr>\n",
       "      <th>06097153502</th>\n",
       "      <td>2250.000</td>\n",
       "      <td>2250.000</td>\n",
       "      <td>1</td>\n",
       "    </tr>\n",
       "    <tr>\n",
       "      <th>06097153600</th>\n",
       "      <td>1512.500</td>\n",
       "      <td>1512.500</td>\n",
       "      <td>2</td>\n",
       "    </tr>\n",
       "    <tr>\n",
       "      <th>06097153703</th>\n",
       "      <td>982.431</td>\n",
       "      <td>891.667</td>\n",
       "      <td>12</td>\n",
       "    </tr>\n",
       "    <tr>\n",
       "      <th>06097153704</th>\n",
       "      <td>940.417</td>\n",
       "      <td>983.333</td>\n",
       "      <td>4</td>\n",
       "    </tr>\n",
       "    <tr>\n",
       "      <th>06097153705</th>\n",
       "      <td>1059.722</td>\n",
       "      <td>1000.000</td>\n",
       "      <td>9</td>\n",
       "    </tr>\n",
       "    <tr>\n",
       "      <th>06097153706</th>\n",
       "      <td>1575.000</td>\n",
       "      <td>1575.000</td>\n",
       "      <td>3</td>\n",
       "    </tr>\n",
       "    <tr>\n",
       "      <th>06097153801</th>\n",
       "      <td>805.556</td>\n",
       "      <td>812.500</td>\n",
       "      <td>3</td>\n",
       "    </tr>\n",
       "    <tr>\n",
       "      <th>06097153804</th>\n",
       "      <td>887.500</td>\n",
       "      <td>887.500</td>\n",
       "      <td>2</td>\n",
       "    </tr>\n",
       "    <tr>\n",
       "      <th>06097153806</th>\n",
       "      <td>866.667</td>\n",
       "      <td>866.667</td>\n",
       "      <td>1</td>\n",
       "    </tr>\n",
       "    <tr>\n",
       "      <th>06097153808</th>\n",
       "      <td>989.515</td>\n",
       "      <td>950.000</td>\n",
       "      <td>11</td>\n",
       "    </tr>\n",
       "    <tr>\n",
       "      <th>06097153901</th>\n",
       "      <td>1137.500</td>\n",
       "      <td>1137.500</td>\n",
       "      <td>2</td>\n",
       "    </tr>\n",
       "    <tr>\n",
       "      <th>06097153902</th>\n",
       "      <td>1340.500</td>\n",
       "      <td>1125.000</td>\n",
       "      <td>8</td>\n",
       "    </tr>\n",
       "    <tr>\n",
       "      <th>06097153903</th>\n",
       "      <td>835.000</td>\n",
       "      <td>800.000</td>\n",
       "      <td>10</td>\n",
       "    </tr>\n",
       "    <tr>\n",
       "      <th>06097154000</th>\n",
       "      <td>1250.000</td>\n",
       "      <td>1250.000</td>\n",
       "      <td>4</td>\n",
       "    </tr>\n",
       "    <tr>\n",
       "      <th>06097154201</th>\n",
       "      <td>1088.889</td>\n",
       "      <td>1200.000</td>\n",
       "      <td>3</td>\n",
       "    </tr>\n",
       "    <tr>\n",
       "      <th>06097154202</th>\n",
       "      <td>1073.333</td>\n",
       "      <td>825.000</td>\n",
       "      <td>5</td>\n",
       "    </tr>\n",
       "    <tr>\n",
       "      <th>06097154302</th>\n",
       "      <td>1233.333</td>\n",
       "      <td>1200.000</td>\n",
       "      <td>3</td>\n",
       "    </tr>\n",
       "    <tr>\n",
       "      <th>06097154303</th>\n",
       "      <td>685.000</td>\n",
       "      <td>663.333</td>\n",
       "      <td>4</td>\n",
       "    </tr>\n",
       "    <tr>\n",
       "      <th>06097154304</th>\n",
       "      <td>1215.000</td>\n",
       "      <td>1350.000</td>\n",
       "      <td>5</td>\n",
       "    </tr>\n",
       "    <tr>\n",
       "      <th>06099000909</th>\n",
       "      <td>533.333</td>\n",
       "      <td>533.333</td>\n",
       "      <td>1</td>\n",
       "    </tr>\n",
       "    <tr>\n",
       "      <th>06099000912</th>\n",
       "      <td>733.333</td>\n",
       "      <td>733.333</td>\n",
       "      <td>1</td>\n",
       "    </tr>\n",
       "    <tr>\n",
       "      <th>06109003200</th>\n",
       "      <td>2400.000</td>\n",
       "      <td>2400.000</td>\n",
       "      <td>1</td>\n",
       "    </tr>\n",
       "    <tr>\n",
       "      <th>06113010606</th>\n",
       "      <td>898.333</td>\n",
       "      <td>898.333</td>\n",
       "      <td>1</td>\n",
       "    </tr>\n",
       "    <tr>\n",
       "      <th>12086018900</th>\n",
       "      <td>421.667</td>\n",
       "      <td>421.667</td>\n",
       "      <td>1</td>\n",
       "    </tr>\n",
       "    <tr>\n",
       "      <th>12097041500</th>\n",
       "      <td>400.000</td>\n",
       "      <td>400.000</td>\n",
       "      <td>1</td>\n",
       "    </tr>\n",
       "    <tr>\n",
       "      <th>15003008622</th>\n",
       "      <td>1166.667</td>\n",
       "      <td>1166.667</td>\n",
       "      <td>2</td>\n",
       "    </tr>\n",
       "    <tr>\n",
       "      <th>32003005805</th>\n",
       "      <td>973.750</td>\n",
       "      <td>973.750</td>\n",
       "      <td>1</td>\n",
       "    </tr>\n",
       "    <tr>\n",
       "      <th>35027960400</th>\n",
       "      <td>75.000</td>\n",
       "      <td>75.000</td>\n",
       "      <td>4</td>\n",
       "    </tr>\n",
       "    <tr>\n",
       "      <th>40143007625</th>\n",
       "      <td>522.500</td>\n",
       "      <td>522.500</td>\n",
       "      <td>1</td>\n",
       "    </tr>\n",
       "    <tr>\n",
       "      <th>45003020702</th>\n",
       "      <td>515.000</td>\n",
       "      <td>515.000</td>\n",
       "      <td>2</td>\n",
       "    </tr>\n",
       "  </tbody>\n",
       "</table>\n",
       "<p>1584 rows × 3 columns</p>\n",
       "</div>"
      ],
      "text/plain": [
       "            rent_per_br               \n",
       "                   mean   median count\n",
       "GEOID                                 \n",
       "06001400100    1554.303 1633.333    11\n",
       "06001400200    2073.750 2047.500     4\n",
       "06001400300    2412.234 2125.000    47\n",
       "06001400400    1844.123 1800.000    19\n",
       "06001400500    1812.500 1875.000    11\n",
       "06001400600    1709.848 1600.000    11\n",
       "06001400700    1814.885 1900.000    13\n",
       "06001400800    1380.833 1425.000    14\n",
       "06001400900    2080.000 2000.000     5\n",
       "06001401000    1457.889 1395.000    15\n",
       "06001401100    1516.389 1362.500    24\n",
       "06001401200    1714.083 1491.250    10\n",
       "06001401300    2597.130 2903.000    69\n",
       "06001401400    1485.000 1382.500    10\n",
       "06001401500     940.625  850.000     8\n",
       "06001401600    1001.250  975.000    10\n",
       "06001401700    1812.269 1650.000    13\n",
       "06001401800    1421.250 1421.250     4\n",
       "06001402200    1832.292 1737.500     8\n",
       "06001402400    1533.750 1695.000     4\n",
       "06001402500    1304.167 1400.000     4\n",
       "06001402600    1398.667 1400.000     5\n",
       "06001402700    1073.042 1020.000     8\n",
       "06001402800    2144.826 1965.000    45\n",
       "06001402900    2157.241 2295.000    27\n",
       "06001403000    1726.250 1583.750    10\n",
       "06001403100    1986.692 1722.500    26\n",
       "06001403300    2305.118 2387.000   114\n",
       "06001403400    2198.942 2195.000    78\n",
       "06001403501    2706.008 2913.000    85\n",
       "...                 ...      ...   ...\n",
       "06097153502    2250.000 2250.000     1\n",
       "06097153600    1512.500 1512.500     2\n",
       "06097153703     982.431  891.667    12\n",
       "06097153704     940.417  983.333     4\n",
       "06097153705    1059.722 1000.000     9\n",
       "06097153706    1575.000 1575.000     3\n",
       "06097153801     805.556  812.500     3\n",
       "06097153804     887.500  887.500     2\n",
       "06097153806     866.667  866.667     1\n",
       "06097153808     989.515  950.000    11\n",
       "06097153901    1137.500 1137.500     2\n",
       "06097153902    1340.500 1125.000     8\n",
       "06097153903     835.000  800.000    10\n",
       "06097154000    1250.000 1250.000     4\n",
       "06097154201    1088.889 1200.000     3\n",
       "06097154202    1073.333  825.000     5\n",
       "06097154302    1233.333 1200.000     3\n",
       "06097154303     685.000  663.333     4\n",
       "06097154304    1215.000 1350.000     5\n",
       "06099000909     533.333  533.333     1\n",
       "06099000912     733.333  733.333     1\n",
       "06109003200    2400.000 2400.000     1\n",
       "06113010606     898.333  898.333     1\n",
       "12086018900     421.667  421.667     1\n",
       "12097041500     400.000  400.000     1\n",
       "15003008622    1166.667 1166.667     2\n",
       "32003005805     973.750  973.750     1\n",
       "35027960400      75.000   75.000     4\n",
       "40143007625     522.500  522.500     1\n",
       "45003020702     515.000  515.000     2\n",
       "\n",
       "[1584 rows x 3 columns]"
      ]
     },
     "execution_count": 85,
     "metadata": {},
     "output_type": "execute_result"
    }
   ],
   "source": [
    "# Grouping and aggragating by GEOID\n",
    "sf_grouped = vacant_sfbay.groupby(by='GEOID')\n",
    "#sf_grouped.agg({'rent_per_br':['mean','median','count']})"
   ]
  },
  {
   "cell_type": "code",
   "execution_count": 84,
   "metadata": {},
   "outputs": [
    {
     "data": {
      "text/html": [
       "<div>\n",
       "<table border=\"1\" class=\"dataframe\">\n",
       "  <thead>\n",
       "    <tr>\n",
       "      <th></th>\n",
       "      <th colspan=\"3\" halign=\"left\">rent_per_br</th>\n",
       "    </tr>\n",
       "    <tr>\n",
       "      <th></th>\n",
       "      <th>mean</th>\n",
       "      <th>median</th>\n",
       "      <th>count</th>\n",
       "    </tr>\n",
       "    <tr>\n",
       "      <th>GEOID</th>\n",
       "      <th></th>\n",
       "      <th></th>\n",
       "      <th></th>\n",
       "    </tr>\n",
       "  </thead>\n",
       "  <tbody>\n",
       "  </tbody>\n",
       "</table>\n",
       "</div>"
      ],
      "text/plain": [
       "Empty DataFrame\n",
       "Columns: [(rent_per_br, mean), (rent_per_br, median), (rent_per_br, count)]\n",
       "Index: []"
      ]
     },
     "execution_count": 84,
     "metadata": {},
     "output_type": "execute_result"
    }
   ],
   "source": []
  },
  {
   "cell_type": "markdown",
   "metadata": {},
   "source": [
    "## Visualz"
   ]
  },
  {
   "cell_type": "code",
   "execution_count": 70,
   "metadata": {
    "collapsed": true
   },
   "outputs": [],
   "source": [
    "listings_ratios['all_vacant_listings'] = vacant['region'].value_counts()\n",
    "listings_ratios['shared_to_vacant_ratio'] = listings_ratios['deduplicated_pid']/listings_ratios['all_vacant_listings']"
   ]
  },
  {
   "cell_type": "code",
   "execution_count": 75,
   "metadata": {},
   "outputs": [
    {
     "data": {
      "text/html": [
       "<div>\n",
       "<table border=\"1\" class=\"dataframe\">\n",
       "  <thead>\n",
       "    <tr style=\"text-align: right;\">\n",
       "      <th></th>\n",
       "      <th>all_shared_listings</th>\n",
       "      <th>deduplicated_text</th>\n",
       "      <th>deduplicated_pid</th>\n",
       "      <th>duplicate_listings</th>\n",
       "      <th>duplicate_ratio</th>\n",
       "      <th>unique_ratio</th>\n",
       "      <th>all_vacant_listings</th>\n",
       "      <th>shared_to_vacant_ratio</th>\n",
       "    </tr>\n",
       "  </thead>\n",
       "  <tbody>\n",
       "    <tr>\n",
       "      <th>newyork</th>\n",
       "      <td>14610</td>\n",
       "      <td>7159.000</td>\n",
       "      <td>7065.000</td>\n",
       "      <td>7545.000</td>\n",
       "      <td>0.516</td>\n",
       "      <td>0.484</td>\n",
       "      <td>10993.000</td>\n",
       "      <td>0.643</td>\n",
       "    </tr>\n",
       "    <tr>\n",
       "      <th>sfbay</th>\n",
       "      <td>5491</td>\n",
       "      <td>4416.000</td>\n",
       "      <td>4322.000</td>\n",
       "      <td>1169.000</td>\n",
       "      <td>0.213</td>\n",
       "      <td>0.787</td>\n",
       "      <td>44285.000</td>\n",
       "      <td>0.098</td>\n",
       "    </tr>\n",
       "    <tr>\n",
       "      <th>losangeles</th>\n",
       "      <td>4869</td>\n",
       "      <td>3303.000</td>\n",
       "      <td>3222.000</td>\n",
       "      <td>1647.000</td>\n",
       "      <td>0.338</td>\n",
       "      <td>0.662</td>\n",
       "      <td>44792.000</td>\n",
       "      <td>0.072</td>\n",
       "    </tr>\n",
       "    <tr>\n",
       "      <th>washingtondc</th>\n",
       "      <td>4694</td>\n",
       "      <td>3245.000</td>\n",
       "      <td>3190.000</td>\n",
       "      <td>1504.000</td>\n",
       "      <td>0.320</td>\n",
       "      <td>0.680</td>\n",
       "      <td>57007.000</td>\n",
       "      <td>0.056</td>\n",
       "    </tr>\n",
       "    <tr>\n",
       "      <th>boston</th>\n",
       "      <td>2999</td>\n",
       "      <td>2041.000</td>\n",
       "      <td>1976.000</td>\n",
       "      <td>1023.000</td>\n",
       "      <td>0.341</td>\n",
       "      <td>0.659</td>\n",
       "      <td>8396.000</td>\n",
       "      <td>0.235</td>\n",
       "    </tr>\n",
       "  </tbody>\n",
       "</table>\n",
       "</div>"
      ],
      "text/plain": [
       "              all_shared_listings  deduplicated_text  deduplicated_pid  \\\n",
       "newyork                     14610           7159.000          7065.000   \n",
       "sfbay                        5491           4416.000          4322.000   \n",
       "losangeles                   4869           3303.000          3222.000   \n",
       "washingtondc                 4694           3245.000          3190.000   \n",
       "boston                       2999           2041.000          1976.000   \n",
       "\n",
       "              duplicate_listings  duplicate_ratio  unique_ratio  \\\n",
       "newyork                 7545.000            0.516         0.484   \n",
       "sfbay                   1169.000            0.213         0.787   \n",
       "losangeles              1647.000            0.338         0.662   \n",
       "washingtondc            1504.000            0.320         0.680   \n",
       "boston                  1023.000            0.341         0.659   \n",
       "\n",
       "              all_vacant_listings  shared_to_vacant_ratio  \n",
       "newyork                 10993.000                   0.643  \n",
       "sfbay                   44285.000                   0.098  \n",
       "losangeles              44792.000                   0.072  \n",
       "washingtondc            57007.000                   0.056  \n",
       "boston                   8396.000                   0.235  "
      ]
     },
     "execution_count": 75,
     "metadata": {},
     "output_type": "execute_result"
    }
   ],
   "source": [
    "listings_ratios.head()"
   ]
  },
  {
   "cell_type": "code",
   "execution_count": 74,
   "metadata": {},
   "outputs": [
    {
     "data": {
      "image/png": "[encoded data removed]",
      "text/plain": [
       "<matplotlib.figure.Figure at 0x1a0385c10b8>"
      ]
     },
     "metadata": {},
     "output_type": "display_data"
    }
   ],
   "source": [
    "# plot the ratios of unique and duplicate listings, by region\n",
    "countdata = listings_ratios.sort_values(by='all_shared_listings', ascending=False)[['deduplicated_pid','all_vacant_listings']].head(20)\n",
    "countdata.columns = ['Shared Listings', 'Vacant Listings']\n",
    "ax = countdata.plot(kind='bar',\n",
    "                    stacked=True,\n",
    "                    figsize=[9, 6], \n",
    "                    width=0.6, \n",
    "                    alpha=0.5, \n",
    "                    color=['b','m'],\n",
    "                    edgecolor='k',\n",
    "                    grid=False)\n",
    "\n",
    "ax.yaxis.grid(True)\n",
    "ax.set_xticks(range(0, len(countdata)))\n",
    "ax.set_xticklabels(countdata.index, rotation=40, rotation_mode='anchor', ha='right', fontproperties=ticks_font)\n",
    "for label in ax.get_yticklabels():\n",
    "        label.set_fontproperties(ticks_font)\n",
    "ax.set_title('Unique and Duplicate Shared Rental Listings, by region', fontproperties=title_font)\n",
    "ax.set_xlabel('', fontproperties=label_font)\n",
    "ax.set_ylabel('Total number of listings', fontproperties=label_font)        \n",
    "\n",
    "#save_fig(plt.gcf(), 'count_unique_duplicate_listings.png')\n",
    "plt.show()"
   ]
  },
  {
   "cell_type": "code",
   "execution_count": null,
   "metadata": {
    "collapsed": true
   },
   "outputs": [],
   "source": []
  }
 ],
 "metadata": {
  "anaconda-cloud": {},
  "kernelspec": {
   "display_name": "Python 3",
   "language": "python",
   "name": "python3"
  },
  "language_info": {
   "codemirror_mode": {
    "name": "ipython",
    "version": 3
   },
   "file_extension": ".py",
   "mimetype": "text/x-python",
   "name": "python",
   "nbconvert_exporter": "python",
   "pygments_lexer": "ipython3",
   "version": "3.5.2"
  }
 },
 "nbformat": 4,
 "nbformat_minor": 1
}
