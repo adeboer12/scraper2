{
 "cells": [
  {
   "cell_type": "code",
   "execution_count": 1,
   "metadata": {
    "collapsed": true
   },
   "outputs": [],
   "source": [
    "from datetime import datetime as dt\n",
    "from datetime import timedelta\n",
    "import logging\n",
    "import importlib\n",
    "import urllib\n",
    "import unicodecsv as csv\n",
    "from lxml import html\n",
    "import requests\n",
    "import pandas as pd\n",
    "import matplotlib.pyplot as plt, numpy as np\n",
    "import json\n",
    "import sys\n",
    "from requests.auth import HTTPProxyAuth\n",
    "import time\n",
    "import os\n",
    "%matplotlib inline"
   ]
  },
  {
   "cell_type": "code",
   "execution_count": 2,
   "metadata": {
    "collapsed": true,
    "scrolled": false
   },
   "outputs": [],
   "source": [
    "#Script is written right now for before cleaned, single region. Must adapt for cleaned and multi-region.\n",
    "#This will include changing \"price\" to \"rent\"\n",
    "#QUESTION: Unclear what is actually being counted in 'score' variable\n",
    "\n",
    "#cleandf = pd.read_csv('C:\\\\Users\\\\james\\\\Documents\\\\Berkeley_Docs\\\\Spring_17_Courses\\\\CP290 Data Lab\\\\github\\\\scraper2\\\\shared_room_scraper\\\\sfbay_merged_2017_04_10.csv', header=0) #just SF dataframe\n",
    "df = pd.read_csv('C:\\\\Users\\\\james\\\\Documents\\\\Berkeley_Docs\\\\Spring_17_Courses\\\\CP290 Data Lab\\\\github\\\\scraper2\\\\shared_room_scraper\\\\all_data_merged_2017_04_six_nine.csv',error_bad_lines=False, header=0) #all listings dataframe\n",
    "#determine rent per square foot\n"
   ]
  },
  {
   "cell_type": "code",
   "execution_count": 3,
   "metadata": {
    "scrolled": true
   },
   "outputs": [
    {
     "data": {
      "text/plain": [
       "(83241, 21)"
      ]
     },
     "execution_count": 3,
     "metadata": {},
     "output_type": "execute_result"
    }
   ],
   "source": [
    "df.shape"
   ]
  },
  {
   "cell_type": "code",
   "execution_count": 4,
   "metadata": {
    "collapsed": true
   },
   "outputs": [],
   "source": [
    "df.loc[df.lat == 99, 'lat'] = 0\n",
    "df.loc[df.lng == 99, 'lng'] = 0\n",
    "df.loc[df.sqft == 0, 'sqft'] = np.nan"
   ]
  },
  {
   "cell_type": "code",
   "execution_count": null,
   "metadata": {},
   "outputs": [],
   "source": [
    "df.tail()"
   ]
  },
  {
   "cell_type": "code",
   "execution_count": 5,
   "metadata": {
    "collapsed": true
   },
   "outputs": [],
   "source": [
    "#For any duplicate post, we want to keep the version with the most information. Therefore, assign a score to each post and \n",
    "#give one point for square footage, lat, long and price\n",
    "#OLD FORMULA\n",
    "#cleandf['score']=cleandf.astype(bool).sum(axis=1)\n",
    "\n",
    "df['price_exists'] = df['price']>0\n",
    "df['sqft_exists'] = df['sqft']>0\n",
    "df['lat_exists'] = df['lat']>0\n",
    "df['lng_exists'] = df['lng']<0\n",
    "df['score'] = df[['price_exists','sqft_exists','lat_exists','lng_exists']].astype(bool).sum(axis=1)"
   ]
  },
  {
   "cell_type": "code",
   "execution_count": 6,
   "metadata": {
    "collapsed": true
   },
   "outputs": [],
   "source": [
    "#Sort rows by score\n",
    "df = df.sort_values(by='score',ascending=False)"
   ]
  },
  {
   "cell_type": "code",
   "execution_count": 22,
   "metadata": {
    "scrolled": true
   },
   "outputs": [
    {
     "data": {
      "text/plain": [
       "(83241, 29)"
      ]
     },
     "execution_count": 22,
     "metadata": {},
     "output_type": "execute_result"
    }
   ],
   "source": [
    "df.shape"
   ]
  },
  {
   "cell_type": "code",
   "execution_count": 23,
   "metadata": {
    "collapsed": true
   },
   "outputs": [],
   "source": [
    "dedupe1 = pd.DataFrame(df.drop_duplicates(subset='pid', inplace=False))"
   ]
  },
  {
   "cell_type": "code",
   "execution_count": 25,
   "metadata": {},
   "outputs": [],
   "source": [
    "dedupe1 = pd.DataFrame(df.drop_duplicates(subset='body_text', inplace=False))"
   ]
  },
  {
   "cell_type": "code",
   "execution_count": 26,
   "metadata": {
    "scrolled": true
   },
   "outputs": [
    {
     "data": {
      "text/plain": [
       "(53814, 29)"
      ]
     },
     "execution_count": 26,
     "metadata": {},
     "output_type": "execute_result"
    }
   ],
   "source": [
    "dedupe1.shape"
   ]
  },
  {
   "cell_type": "code",
   "execution_count": 27,
   "metadata": {
    "collapsed": true
   },
   "outputs": [],
   "source": [
    "dedupe1.to_csv('dedupedtest.csv')"
   ]
  },
  {
   "cell_type": "code",
   "execution_count": 10,
   "metadata": {
    "collapsed": true
   },
   "outputs": [],
   "source": [
    "#List as 'true' if the PID, body_text, or the title are duplicates\n",
    "df['body_text_duplicate']=df.duplicated('body_text')\n",
    "df['title_duplicate']=df.duplicated('title')\n",
    "df['PID_duplicate']=df.duplicated('pid')\n"
   ]
  },
  {
   "cell_type": "code",
   "execution_count": 9,
   "metadata": {},
   "outputs": [],
   "source": [
    "df[df['title_duplicate']==True].to_csv('titleduplicates.csv')"
   ]
  },
  {
   "cell_type": "code",
   "execution_count": 11,
   "metadata": {},
   "outputs": [
    {
     "data": {
      "text/plain": [
       "(67591, 29)"
      ]
     },
     "execution_count": 11,
     "metadata": {},
     "output_type": "execute_result"
    }
   ],
   "source": [
    "df_dedupe1 = df.drop_duplicates('pid')\n",
    "df_dedupe1.shape"
   ]
  },
  {
   "cell_type": "code",
   "execution_count": 12,
   "metadata": {},
   "outputs": [
    {
     "data": {
      "text/plain": [
       "(53052, 29)"
      ]
     },
     "execution_count": 12,
     "metadata": {},
     "output_type": "execute_result"
    }
   ],
   "source": [
    "#Keep rows with highest score. Drop rows with duplicate PIDs, Duplicate Titles, Duplicate Posting Bodies\n",
    "df_dedupe2 = df_dedupe1.drop_duplicates('body_text')\n",
    "df_dedupe2.shape"
   ]
  },
  {
   "cell_type": "code",
   "execution_count": null,
   "metadata": {
    "collapsed": true
   },
   "outputs": [],
   "source": []
  },
  {
   "cell_type": "code",
   "execution_count": 13,
   "metadata": {},
   "outputs": [
    {
     "data": {
      "text/plain": [
       "(44275, 29)"
      ]
     },
     "execution_count": 13,
     "metadata": {},
     "output_type": "execute_result"
    }
   ],
   "source": [
    "df_unique = df_dedupe2.drop_duplicates('title')\n",
    "df_unique.shape"
   ]
  },
  {
   "cell_type": "markdown",
   "metadata": {},
   "source": [
    "### Quick bar chart to see impact of deduplication on sample size"
   ]
  },
  {
   "cell_type": "code",
   "execution_count": 14,
   "metadata": {
    "collapsed": true
   },
   "outputs": [],
   "source": [
    "y = [len(df),len(df_dedupe1), len(df_dedupe2), len(df_unique)]"
   ]
  },
  {
   "cell_type": "code",
   "execution_count": 15,
   "metadata": {
    "collapsed": true
   },
   "outputs": [],
   "source": [
    "labels = ['original', 'dedupe-pid', 'dedupe-body', 'dedupe-title']\n",
    "x = [1,2,3,4]"
   ]
  },
  {
   "cell_type": "code",
   "execution_count": 16,
   "metadata": {},
   "outputs": [
    {
     "data": {
      "image/png": "[encoded data removed]",
      "text/plain": [
       "<matplotlib.figure.Figure at 0x299f9998d30>"
      ]
     },
     "metadata": {},
     "output_type": "display_data"
    }
   ],
   "source": [
    "plt.figure(figsize=(10,6) )\n",
    "plt.suptitle('Deduplication Sample Size')\n",
    "plt.xlabel('Deduplication Phase')\n",
    "plt.ylabel('Number of Listings')\n",
    "plt.xticks(x, labels)\n",
    "ax = plt.bar(x, y, alpha=.4, color='cyan', align='center')\n",
    "plt.show()"
   ]
  },
  {
   "cell_type": "markdown",
   "metadata": {},
   "source": [
    "## Creating new fields for analysis"
   ]
  },
  {
   "cell_type": "code",
   "execution_count": 17,
   "metadata": {},
   "outputs": [
    {
     "name": "stderr",
     "output_type": "stream",
     "text": [
      "C:\\Users\\james\\Anaconda3\\lib\\site-packages\\ipykernel_launcher.py:1: SettingWithCopyWarning: \n",
      "A value is trying to be set on a copy of a slice from a DataFrame.\n",
      "Try using .loc[row_indexer,col_indexer] = value instead\n",
      "\n",
      "See the caveats in the documentation: http://pandas.pydata.org/pandas-docs/stable/indexing.html#indexing-view-versus-copy\n",
      "  \"\"\"Entry point for launching an IPython kernel.\n",
      "C:\\Users\\james\\Anaconda3\\lib\\site-packages\\ipykernel_launcher.py:2: SettingWithCopyWarning: \n",
      "A value is trying to be set on a copy of a slice from a DataFrame.\n",
      "Try using .loc[row_indexer,col_indexer] = value instead\n",
      "\n",
      "See the caveats in the documentation: http://pandas.pydata.org/pandas-docs/stable/indexing.html#indexing-view-versus-copy\n",
      "  \n",
      "C:\\Users\\james\\Anaconda3\\lib\\site-packages\\ipykernel_launcher.py:3: SettingWithCopyWarning: \n",
      "A value is trying to be set on a copy of a slice from a DataFrame.\n",
      "Try using .loc[row_indexer,col_indexer] = value instead\n",
      "\n",
      "See the caveats in the documentation: http://pandas.pydata.org/pandas-docs/stable/indexing.html#indexing-view-versus-copy\n",
      "  This is separate from the ipykernel package so we can avoid doing imports until\n",
      "C:\\Users\\james\\Anaconda3\\lib\\site-packages\\ipykernel_launcher.py:4: SettingWithCopyWarning: \n",
      "A value is trying to be set on a copy of a slice from a DataFrame.\n",
      "Try using .loc[row_indexer,col_indexer] = value instead\n",
      "\n",
      "See the caveats in the documentation: http://pandas.pydata.org/pandas-docs/stable/indexing.html#indexing-view-versus-copy\n",
      "  after removing the cwd from sys.path.\n"
     ]
    }
   ],
   "source": [
    "df_unique['dt'] = pd.to_datetime(df_unique['dt'], format='%Y-%m-%d')\n",
    "df_unique['region'] = df_unique['url'].str.extract('http://(.*).craigslist.org', expand=False)\n",
    "df_unique['day_of_week'] = df_unique['dt'].apply(lambda x: x.weekday())\n",
    "df_unique['rent_sqft'] = df_unique['price'] / df_unique['sqft']"
   ]
  },
  {
   "cell_type": "code",
   "execution_count": 18,
   "metadata": {},
   "outputs": [
    {
     "name": "stderr",
     "output_type": "stream",
     "text": [
      "C:\\Users\\james\\Anaconda3\\lib\\site-packages\\ipykernel_launcher.py:1: SettingWithCopyWarning: \n",
      "A value is trying to be set on a copy of a slice from a DataFrame.\n",
      "Try using .loc[row_indexer,col_indexer] = value instead\n",
      "\n",
      "See the caveats in the documentation: http://pandas.pydata.org/pandas-docs/stable/indexing.html#indexing-view-versus-copy\n",
      "  \"\"\"Entry point for launching an IPython kernel.\n"
     ]
    }
   ],
   "source": [
    "df_unique['date'] = pd.DatetimeIndex(df_unique.dt).normalize()"
   ]
  },
  {
   "cell_type": "code",
   "execution_count": 19,
   "metadata": {
    "collapsed": true
   },
   "outputs": [],
   "source": [
    "#counting listings per day (right now inlcudes time, need to remove)\n",
    "listings_per_date = df_unique['date'].value_counts()"
   ]
  },
  {
   "cell_type": "code",
   "execution_count": 20,
   "metadata": {},
   "outputs": [
    {
     "data": {
      "text/plain": [
       "2017-04-07    11823\n",
       "2017-04-06    11241\n",
       "2017-04-08    10924\n",
       "2017-04-09     9565\n",
       "2017-04-05      722\n",
       "Name: date, dtype: int64"
      ]
     },
     "execution_count": 20,
     "metadata": {},
     "output_type": "execute_result"
    }
   ],
   "source": [
    "listings_per_date"
   ]
  },
  {
   "cell_type": "markdown",
   "metadata": {},
   "source": [
    "## Descriptive Stats and More Filtering"
   ]
  },
  {
   "cell_type": "code",
   "execution_count": 21,
   "metadata": {
    "scrolled": true
   },
   "outputs": [
    {
     "data": {
      "text/html": [
       "<div>\n",
       "<table border=\"1\" class=\"dataframe\">\n",
       "  <thead>\n",
       "    <tr style=\"text-align: right;\">\n",
       "      <th></th>\n",
       "      <th>pid</th>\n",
       "      <th>price</th>\n",
       "      <th>sqft</th>\n",
       "      <th>lat</th>\n",
       "      <th>lng</th>\n",
       "      <th>accuracy</th>\n",
       "      <th>score</th>\n",
       "      <th>day_of_week</th>\n",
       "      <th>rent_sqft</th>\n",
       "    </tr>\n",
       "  </thead>\n",
       "  <tbody>\n",
       "    <tr>\n",
       "      <th>count</th>\n",
       "      <td>4.427500e+04</td>\n",
       "      <td>3.763900e+04</td>\n",
       "      <td>11561.000000</td>\n",
       "      <td>44275.000000</td>\n",
       "      <td>44275.000000</td>\n",
       "      <td>44275.000000</td>\n",
       "      <td>44275.000000</td>\n",
       "      <td>44275.000000</td>\n",
       "      <td>11293.000000</td>\n",
       "    </tr>\n",
       "    <tr>\n",
       "      <th>mean</th>\n",
       "      <td>6.070954e+09</td>\n",
       "      <td>4.131364e+04</td>\n",
       "      <td>1094.934089</td>\n",
       "      <td>29.001617</td>\n",
       "      <td>-73.571868</td>\n",
       "      <td>33.782473</td>\n",
       "      <td>2.650887</td>\n",
       "      <td>4.392298</td>\n",
       "      <td>24.342165</td>\n",
       "    </tr>\n",
       "    <tr>\n",
       "      <th>std</th>\n",
       "      <td>1.159473e+07</td>\n",
       "      <td>4.110828e+06</td>\n",
       "      <td>5655.453129</td>\n",
       "      <td>16.420992</td>\n",
       "      <td>43.926016</td>\n",
       "      <td>36.247011</td>\n",
       "      <td>1.120115</td>\n",
       "      <td>1.129657</td>\n",
       "      <td>1394.739340</td>\n",
       "    </tr>\n",
       "    <tr>\n",
       "      <th>min</th>\n",
       "      <td>6.033041e+09</td>\n",
       "      <td>1.000000e+00</td>\n",
       "      <td>1.000000</td>\n",
       "      <td>0.000000</td>\n",
       "      <td>-157.826600</td>\n",
       "      <td>0.000000</td>\n",
       "      <td>0.000000</td>\n",
       "      <td>2.000000</td>\n",
       "      <td>0.000133</td>\n",
       "    </tr>\n",
       "    <tr>\n",
       "      <th>25%</th>\n",
       "      <td>6.066096e+09</td>\n",
       "      <td>4.800000e+02</td>\n",
       "      <td>180.000000</td>\n",
       "      <td>26.566461</td>\n",
       "      <td>-117.026850</td>\n",
       "      <td>10.000000</td>\n",
       "      <td>2.000000</td>\n",
       "      <td>3.000000</td>\n",
       "      <td>0.439189</td>\n",
       "    </tr>\n",
       "    <tr>\n",
       "      <th>50%</th>\n",
       "      <td>6.076564e+09</td>\n",
       "      <td>6.500000e+02</td>\n",
       "      <td>880.000000</td>\n",
       "      <td>36.184072</td>\n",
       "      <td>-80.060345</td>\n",
       "      <td>22.000000</td>\n",
       "      <td>3.000000</td>\n",
       "      <td>4.000000</td>\n",
       "      <td>1.085740</td>\n",
       "    </tr>\n",
       "    <tr>\n",
       "      <th>75%</th>\n",
       "      <td>6.079055e+09</td>\n",
       "      <td>9.000000e+02</td>\n",
       "      <td>1400.000000</td>\n",
       "      <td>40.667215</td>\n",
       "      <td>-71.124125</td>\n",
       "      <td>22.000000</td>\n",
       "      <td>3.000000</td>\n",
       "      <td>5.000000</td>\n",
       "      <td>3.968254</td>\n",
       "    </tr>\n",
       "    <tr>\n",
       "      <th>max</th>\n",
       "      <td>6.081892e+09</td>\n",
       "      <td>6.007005e+08</td>\n",
       "      <td>567890.000000</td>\n",
       "      <td>64.976382</td>\n",
       "      <td>0.000000</td>\n",
       "      <td>99.000000</td>\n",
       "      <td>4.000000</td>\n",
       "      <td>6.000000</td>\n",
       "      <td>125137.645833</td>\n",
       "    </tr>\n",
       "  </tbody>\n",
       "</table>\n",
       "</div>"
      ],
      "text/plain": [
       "                pid         price           sqft           lat           lng  \\\n",
       "count  4.427500e+04  3.763900e+04   11561.000000  44275.000000  44275.000000   \n",
       "mean   6.070954e+09  4.131364e+04    1094.934089     29.001617    -73.571868   \n",
       "std    1.159473e+07  4.110828e+06    5655.453129     16.420992     43.926016   \n",
       "min    6.033041e+09  1.000000e+00       1.000000      0.000000   -157.826600   \n",
       "25%    6.066096e+09  4.800000e+02     180.000000     26.566461   -117.026850   \n",
       "50%    6.076564e+09  6.500000e+02     880.000000     36.184072    -80.060345   \n",
       "75%    6.079055e+09  9.000000e+02    1400.000000     40.667215    -71.124125   \n",
       "max    6.081892e+09  6.007005e+08  567890.000000     64.976382      0.000000   \n",
       "\n",
       "           accuracy         score   day_of_week      rent_sqft  \n",
       "count  44275.000000  44275.000000  44275.000000   11293.000000  \n",
       "mean      33.782473      2.650887      4.392298      24.342165  \n",
       "std       36.247011      1.120115      1.129657    1394.739340  \n",
       "min        0.000000      0.000000      2.000000       0.000133  \n",
       "25%       10.000000      2.000000      3.000000       0.439189  \n",
       "50%       22.000000      3.000000      4.000000       1.085740  \n",
       "75%       22.000000      3.000000      5.000000       3.968254  \n",
       "max       99.000000      4.000000      6.000000  125137.645833  "
      ]
     },
     "execution_count": 21,
     "metadata": {},
     "output_type": "execute_result"
    }
   ],
   "source": [
    "df_unique.describe()"
   ]
  },
  {
   "cell_type": "code",
   "execution_count": 28,
   "metadata": {
    "collapsed": true
   },
   "outputs": [],
   "source": [
    "unique_wprice = df_unique[df_unique['price'] > 0]"
   ]
  },
  {
   "cell_type": "code",
   "execution_count": 29,
   "metadata": {},
   "outputs": [
    {
     "name": "stdout",
     "output_type": "stream",
     "text": [
      "valid rent_sqft range: [0.2540415704387991, nan]\n",
      "valid rent range: [135.0, 5500.0]\n",
      "valid sqft range: [120.0, nan]\n"
     ]
    }
   ],
   "source": [
    "# in this cell, define the values by which we will filter the 3 columns. This will vary depending on the sample we're looking at. \n",
    "upper_percentile = 0.9965\n",
    "lower_percentile = 0.03\n",
    "\n",
    "# how many rows would be within the upper and lower percentiles?\n",
    "upper = int(len(unique_wprice) * upper_percentile)\n",
    "lower = int(len(unique_wprice) * lower_percentile)\n",
    "\n",
    "# get the rent/sqft values at the upper and lower percentiles\n",
    "rent_sqft_sorted = unique_wprice['rent_sqft'].sort_values(ascending=True, inplace=False)\n",
    "upper_rent_sqft = rent_sqft_sorted.iloc[upper]\n",
    "lower_rent_sqft = rent_sqft_sorted.iloc[lower]\n",
    "\n",
    "# get the rent values at the upper and lower percentiles\n",
    "rent_sorted = unique_wprice['price'].sort_values(ascending=True, inplace=False)\n",
    "upper_rent = rent_sorted.iloc[upper]\n",
    "lower_rent = rent_sorted.iloc[lower]\n",
    "\n",
    "# get the sqft values at the upper and lower percentiles\n",
    "sqft_sorted = unique_wprice['sqft'].sort_values(ascending=True, inplace=False)\n",
    "upper_sqft = sqft_sorted.iloc[upper]\n",
    "lower_sqft = sqft_sorted.iloc[lower]\n",
    "\n",
    "print('valid rent_sqft range:', [lower_rent_sqft, upper_rent_sqft])\n",
    "print('valid rent range:', [lower_rent, upper_rent])\n",
    "print('valid sqft range:', [lower_sqft, upper_sqft])"
   ]
  },
  {
   "cell_type": "code",
   "execution_count": 30,
   "metadata": {
    "collapsed": true
   },
   "outputs": [],
   "source": [
    "#Filtering out rows with unreasonable rent prices \n",
    "rent_mask = (unique_wprice['price'] > lower_rent) & (unique_wprice['price'] < upper_rent)"
   ]
  },
  {
   "cell_type": "code",
   "execution_count": 31,
   "metadata": {
    "collapsed": true
   },
   "outputs": [],
   "source": [
    "filtered_listings = pd.DataFrame(unique_wprice[rent_mask])"
   ]
  },
  {
   "cell_type": "markdown",
   "metadata": {},
   "source": [
    "## Filtering out listings with \"0\" latitudes"
   ]
  },
  {
   "cell_type": "code",
   "execution_count": 32,
   "metadata": {
    "collapsed": true
   },
   "outputs": [],
   "source": [
    "lat_mask = (filtered_listings['lat'] > 0)"
   ]
  },
  {
   "cell_type": "code",
   "execution_count": 33,
   "metadata": {
    "collapsed": true
   },
   "outputs": [],
   "source": [
    "filtered_listings = pd.DataFrame(filtered_listings[lat_mask])"
   ]
  },
  {
   "cell_type": "code",
   "execution_count": 34,
   "metadata": {
    "scrolled": false
   },
   "outputs": [
    {
     "data": {
      "text/html": [
       "<div>\n",
       "<table border=\"1\" class=\"dataframe\">\n",
       "  <thead>\n",
       "    <tr style=\"text-align: right;\">\n",
       "      <th></th>\n",
       "      <th>pid</th>\n",
       "      <th>price</th>\n",
       "      <th>sqft</th>\n",
       "      <th>lat</th>\n",
       "      <th>lng</th>\n",
       "      <th>accuracy</th>\n",
       "      <th>score</th>\n",
       "      <th>day_of_week</th>\n",
       "      <th>rent_sqft</th>\n",
       "    </tr>\n",
       "  </thead>\n",
       "  <tbody>\n",
       "    <tr>\n",
       "      <th>count</th>\n",
       "      <td>2.858700e+04</td>\n",
       "      <td>28587.000000</td>\n",
       "      <td>9626.000000</td>\n",
       "      <td>28587.000000</td>\n",
       "      <td>28587.000000</td>\n",
       "      <td>28587.000000</td>\n",
       "      <td>28587.000000</td>\n",
       "      <td>28587.000000</td>\n",
       "      <td>9626.000000</td>\n",
       "    </tr>\n",
       "    <tr>\n",
       "      <th>mean</th>\n",
       "      <td>6.071399e+09</td>\n",
       "      <td>789.809949</td>\n",
       "      <td>1059.594536</td>\n",
       "      <td>37.819549</td>\n",
       "      <td>-95.732687</td>\n",
       "      <td>14.037010</td>\n",
       "      <td>3.336726</td>\n",
       "      <td>4.366600</td>\n",
       "      <td>4.078380</td>\n",
       "    </tr>\n",
       "    <tr>\n",
       "      <th>std</th>\n",
       "      <td>1.131964e+07</td>\n",
       "      <td>402.665411</td>\n",
       "      <td>6007.601376</td>\n",
       "      <td>4.774827</td>\n",
       "      <td>20.326849</td>\n",
       "      <td>7.271881</td>\n",
       "      <td>0.472599</td>\n",
       "      <td>1.126008</td>\n",
       "      <td>29.497602</td>\n",
       "    </tr>\n",
       "    <tr>\n",
       "      <th>min</th>\n",
       "      <td>6.033041e+09</td>\n",
       "      <td>137.000000</td>\n",
       "      <td>1.000000</td>\n",
       "      <td>2.202179</td>\n",
       "      <td>-149.957812</td>\n",
       "      <td>0.000000</td>\n",
       "      <td>3.000000</td>\n",
       "      <td>2.000000</td>\n",
       "      <td>0.000572</td>\n",
       "    </tr>\n",
       "    <tr>\n",
       "      <th>25%</th>\n",
       "      <td>6.067161e+09</td>\n",
       "      <td>515.000000</td>\n",
       "      <td>175.000000</td>\n",
       "      <td>34.075226</td>\n",
       "      <td>-118.261552</td>\n",
       "      <td>7.000000</td>\n",
       "      <td>3.000000</td>\n",
       "      <td>3.000000</td>\n",
       "      <td>0.480000</td>\n",
       "    </tr>\n",
       "    <tr>\n",
       "      <th>50%</th>\n",
       "      <td>6.076733e+09</td>\n",
       "      <td>700.000000</td>\n",
       "      <td>850.000000</td>\n",
       "      <td>38.758710</td>\n",
       "      <td>-87.821300</td>\n",
       "      <td>15.000000</td>\n",
       "      <td>3.000000</td>\n",
       "      <td>4.000000</td>\n",
       "      <td>1.175000</td>\n",
       "    </tr>\n",
       "    <tr>\n",
       "      <th>75%</th>\n",
       "      <td>6.079111e+09</td>\n",
       "      <td>950.000000</td>\n",
       "      <td>1400.000000</td>\n",
       "      <td>40.744300</td>\n",
       "      <td>-76.296600</td>\n",
       "      <td>22.000000</td>\n",
       "      <td>4.000000</td>\n",
       "      <td>5.000000</td>\n",
       "      <td>4.069749</td>\n",
       "    </tr>\n",
       "    <tr>\n",
       "      <th>max</th>\n",
       "      <td>6.081892e+09</td>\n",
       "      <td>5100.000000</td>\n",
       "      <td>567890.000000</td>\n",
       "      <td>64.644000</td>\n",
       "      <td>-2.202279</td>\n",
       "      <td>40.000000</td>\n",
       "      <td>4.000000</td>\n",
       "      <td>6.000000</td>\n",
       "      <td>1200.000000</td>\n",
       "    </tr>\n",
       "  </tbody>\n",
       "</table>\n",
       "</div>"
      ],
      "text/plain": [
       "                pid         price           sqft           lat           lng  \\\n",
       "count  2.858700e+04  28587.000000    9626.000000  28587.000000  28587.000000   \n",
       "mean   6.071399e+09    789.809949    1059.594536     37.819549    -95.732687   \n",
       "std    1.131964e+07    402.665411    6007.601376      4.774827     20.326849   \n",
       "min    6.033041e+09    137.000000       1.000000      2.202179   -149.957812   \n",
       "25%    6.067161e+09    515.000000     175.000000     34.075226   -118.261552   \n",
       "50%    6.076733e+09    700.000000     850.000000     38.758710    -87.821300   \n",
       "75%    6.079111e+09    950.000000    1400.000000     40.744300    -76.296600   \n",
       "max    6.081892e+09   5100.000000  567890.000000     64.644000     -2.202279   \n",
       "\n",
       "           accuracy         score   day_of_week    rent_sqft  \n",
       "count  28587.000000  28587.000000  28587.000000  9626.000000  \n",
       "mean      14.037010      3.336726      4.366600     4.078380  \n",
       "std        7.271881      0.472599      1.126008    29.497602  \n",
       "min        0.000000      3.000000      2.000000     0.000572  \n",
       "25%        7.000000      3.000000      3.000000     0.480000  \n",
       "50%       15.000000      3.000000      4.000000     1.175000  \n",
       "75%       22.000000      4.000000      5.000000     4.069749  \n",
       "max       40.000000      4.000000      6.000000  1200.000000  "
      ]
     },
     "execution_count": 34,
     "metadata": {},
     "output_type": "execute_result"
    }
   ],
   "source": [
    "filtered_listings.describe()"
   ]
  },
  {
   "cell_type": "markdown",
   "metadata": {},
   "source": [
    "## Getting FIPS (Need to add to Istanbul script, too slow here)"
   ]
  },
  {
   "cell_type": "code",
   "execution_count": null,
   "metadata": {
    "collapsed": true
   },
   "outputs": [],
   "source": [
    "# Creating columns for FIPS\n",
    "filtered_listings['FIPS'] = None\n",
    "filtered_listings['state'] = None\n",
    "filtered_listings['county'] = None"
   ]
  },
  {
   "cell_type": "code",
   "execution_count": null,
   "metadata": {
    "collapsed": true
   },
   "outputs": [],
   "source": [
    "#each row to the API call\n",
    "\n",
    "for i, row in filtered_listings.iterrows():\n",
    "    url = 'http://data.fcc.gov/api/block/find?format=json&latitude={0}&longitude={1}'\n",
    "    request = url.format(row['lat'], row['lng'])\n",
    "    response = requests.get(request)\n",
    "    data = response.json()\n",
    "    filtered_listings.loc[i,['FIPS','state','county']] = [data['Block']['FIPS'], data['State']['code'], data['County']['name']]"
   ]
  },
  {
   "cell_type": "code",
   "execution_count": null,
   "metadata": {
    "collapsed": true
   },
   "outputs": [],
   "source": [
    "[data['Block']['FIPS'], data['State']['code'], data['County']['name']]"
   ]
  },
  {
   "cell_type": "markdown",
   "metadata": {},
   "source": [
    "### Filtering by amenities"
   ]
  },
  {
   "cell_type": "code",
   "execution_count": null,
   "metadata": {
    "collapsed": true
   },
   "outputs": [],
   "source": [
    "df_rooms = filtered_listings[filtered_listings['room_known']==True]"
   ]
  },
  {
   "cell_type": "code",
   "execution_count": null,
   "metadata": {
    "collapsed": true
   },
   "outputs": [],
   "source": [
    "df_rooms[df_rooms['private_room']==True].describe()"
   ]
  },
  {
   "cell_type": "code",
   "execution_count": null,
   "metadata": {
    "collapsed": true
   },
   "outputs": [],
   "source": [
    "df_rooms[df_rooms['private_room']==False].describe()"
   ]
  },
  {
   "cell_type": "markdown",
   "metadata": {},
   "source": [
    "## Viewing Results by Region"
   ]
  },
  {
   "cell_type": "code",
   "execution_count": 35,
   "metadata": {},
   "outputs": [
    {
     "data": {
      "text/plain": [
       "newyork         4082\n",
       "sfbay           3426\n",
       "losangeles      1815\n",
       "washingtondc    1756\n",
       "boston          1064\n",
       "sandiego         988\n",
       "orangecounty     660\n",
       "miami            650\n",
       "seattle          631\n",
       "chicago          571\n",
       "portland         507\n",
       "denver           438\n",
       "atlanta          397\n",
       "phoenix          368\n",
       "philadelphia     356\n",
       "houston          348\n",
       "inlandempire     318\n",
       "sacramento       305\n",
       "austin           291\n",
       "baltimore        288\n",
       "newjersey        285\n",
       "orlando          271\n",
       "lasvegas         249\n",
       "tampa            244\n",
       "dallas           235\n",
       "minneapolis      205\n",
       "raleigh          181\n",
       "norfolk          170\n",
       "boulder          169\n",
       "santabarbara     159\n",
       "Name: region, dtype: int64"
      ]
     },
     "execution_count": 35,
     "metadata": {},
     "output_type": "execute_result"
    }
   ],
   "source": [
    "# Here we're pulling select regions to do neighborhood analysis, as well as intraregional comparisons to the conventional \n",
    "# listings and inter-regional comparisons. \n",
    "\n",
    "#Top 30 regions by unique postings\n",
    "filtered_listings['region'].value_counts().head(30)"
   ]
  },
  {
   "cell_type": "code",
   "execution_count": 36,
   "metadata": {
    "collapsed": true
   },
   "outputs": [],
   "source": [
    "nylistings = filtered_listings[filtered_listings['region']=='newyork']"
   ]
  },
  {
   "cell_type": "code",
   "execution_count": 37,
   "metadata": {
    "collapsed": true
   },
   "outputs": [],
   "source": [
    "grouped = nylistings.groupby(by='neighb')"
   ]
  },
  {
   "cell_type": "code",
   "execution_count": 38,
   "metadata": {
    "collapsed": true
   },
   "outputs": [],
   "source": [
    "counted = grouped.count()"
   ]
  },
  {
   "cell_type": "code",
   "execution_count": 39,
   "metadata": {
    "collapsed": true
   },
   "outputs": [],
   "source": [
    "counted.reset_index(inplace=True)"
   ]
  },
  {
   "cell_type": "code",
   "execution_count": 40,
   "metadata": {
    "collapsed": true
   },
   "outputs": [],
   "source": [
    "goodNeighbs = counted['neighb'][counted['pid'] > 20].values"
   ]
  },
  {
   "cell_type": "code",
   "execution_count": 41,
   "metadata": {
    "collapsed": true
   },
   "outputs": [],
   "source": [
    "top_nyneighbs = nylistings[nylistings['neighb'].isin(goodNeighbs)]"
   ]
  },
  {
   "cell_type": "code",
   "execution_count": 42,
   "metadata": {},
   "outputs": [
    {
     "data": {
      "text/plain": [
       "neighb\n",
       "Astoria                  925.0\n",
       "BRONX                    475.0\n",
       "Bedstuy                  900.0\n",
       "Brooklyn                 940.0\n",
       "Bushwick                 935.0\n",
       "Chelsea                 1550.0\n",
       "Crown Heights            900.0\n",
       "East Harlem              982.0\n",
       "East Village            1500.0\n",
       "Elmhurst                 900.0\n",
       "Financial District      1750.0\n",
       "Flushing                 800.0\n",
       "Gramercy                1400.0\n",
       "Greenpoint              1050.0\n",
       "Harlem / Morningside     975.0\n",
       "Inwood / Wash Hts        900.0\n",
       "Lower East Side         1325.0\n",
       "Midtown East            1500.0\n",
       "Midtown West            1450.0\n",
       "Murray Hill             1600.0\n",
       "Nolita / Bowery         1500.0\n",
       "Park Slope              1192.5\n",
       "Ridgewood                850.0\n",
       "SoHo                    1450.0\n",
       "Union Square            1400.0\n",
       "Upper East Side         1350.0\n",
       "Upper West Side         1375.0\n",
       "West Village            1500.0\n",
       "Williamsburg            1275.0\n",
       "bushwick                 825.0\n",
       "Name: price, dtype: float64"
      ]
     },
     "execution_count": 42,
     "metadata": {},
     "output_type": "execute_result"
    }
   ],
   "source": [
    "top_nyneighbs.groupby('neighb')['price'].median()"
   ]
  },
  {
   "cell_type": "code",
   "execution_count": null,
   "metadata": {
    "collapsed": true
   },
   "outputs": [],
   "source": [
    "sflistings = filtered_listings[filtered_listings['region']=='sfbay']\n",
    "sfgrouped = sflistings.groupby(by='neighb')\n",
    "sfcounted = sfgrouped.count()\n",
    "sfcounted.reset_index(inplace=True)\n",
    "sfgoodNeighbs = sfcounted['neighb'][sfcounted['pid'] > 20].values\n",
    "top_sfneighbs = sflistings[sflistings['neighb'].isin(sfgoodNeighbs)]"
   ]
  },
  {
   "cell_type": "code",
   "execution_count": null,
   "metadata": {
    "collapsed": true
   },
   "outputs": [],
   "source": [
    "top_sfneighbs.groupby('neighb')['price'].median()"
   ]
  },
  {
   "cell_type": "markdown",
   "metadata": {},
   "source": [
    "## Visualization"
   ]
  },
  {
   "cell_type": "code",
   "execution_count": null,
   "metadata": {
    "collapsed": true
   },
   "outputs": [],
   "source": [
    "x = filtered_listings['price']"
   ]
  },
  {
   "cell_type": "code",
   "execution_count": null,
   "metadata": {
    "collapsed": true
   },
   "outputs": [],
   "source": [
    "x = x.astype('int')"
   ]
  },
  {
   "cell_type": "code",
   "execution_count": null,
   "metadata": {
    "collapsed": true
   },
   "outputs": [],
   "source": [
    "plt.figure(1, figsize=(10,6) )\n",
    "plt.suptitle('Rent Price Distribution')\n",
    "plt.xlabel('Price')\n",
    "plt.ylabel('Number of Listings')\n",
    "ax = plt.hist(x, bins=50, alpha=.4, color='r')\n",
    "plt.show()"
   ]
  },
  {
   "cell_type": "markdown",
   "metadata": {},
   "source": [
    "### Regional Comparisons"
   ]
  },
  {
   "cell_type": "code",
   "execution_count": null,
   "metadata": {
    "collapsed": true
   },
   "outputs": [],
   "source": [
    "# Here we're pulling select regions to do neighborhood analysis, as well as intraregional comparisons to the conventional \n",
    "# listings and inter-regional comparisons. "
   ]
  },
  {
   "cell_type": "code",
   "execution_count": null,
   "metadata": {
    "collapsed": true
   },
   "outputs": [],
   "source": [
    "filtered_listings"
   ]
  },
  {
   "cell_type": "markdown",
   "metadata": {},
   "source": [
    "## Counting Words in body text"
   ]
  },
  {
   "cell_type": "code",
   "execution_count": 43,
   "metadata": {},
   "outputs": [
    {
     "data": {
      "text/plain": [
       "6160"
      ]
     },
     "execution_count": 43,
     "metadata": {},
     "output_type": "execute_result"
    }
   ],
   "source": [
    "np.sum(filtered_listings['body_text'].str.contains('professional'))"
   ]
  },
  {
   "cell_type": "code",
   "execution_count": null,
   "metadata": {
    "collapsed": true
   },
   "outputs": [],
   "source": [
    "np.sum(filtered_listings['body_text'].str.contains('young'))"
   ]
  },
  {
   "cell_type": "code",
   "execution_count": null,
   "metadata": {
    "collapsed": true
   },
   "outputs": [],
   "source": [
    "np.sum(filtered_listings['body_text'].str.contains('20s'))"
   ]
  },
  {
   "cell_type": "code",
   "execution_count": null,
   "metadata": {
    "collapsed": true
   },
   "outputs": [],
   "source": [
    "np.sum(filtered_listings['body_text'].str.contains('30s'))"
   ]
  },
  {
   "cell_type": "code",
   "execution_count": null,
   "metadata": {
    "collapsed": true
   },
   "outputs": [],
   "source": [
    "#filtered_listings.to_csv('sfbay_filtered4_10.csv')"
   ]
  },
  {
   "cell_type": "code",
   "execution_count": null,
   "metadata": {
    "collapsed": true
   },
   "outputs": [],
   "source": [
    "# calculate the ratios of unique to duplicate listings for each region\n",
    "listings_ratios = pd.DataFrame()\n",
    "\n",
    "# number of total listings for each region\n",
    "listings_ratios['cleandf'] = cleandf['region'].value_counts()\n",
    "\n",
    "# number of duplicate listings for each region (ie, listings that share a pid with at least one other listing)\n",
    "listings_ratios['duplicate_listings'] = duplicate_listings['region'].value_counts()\n",
    "\n",
    "# number of unique listings for the region (ie, none share a pid with another listing)\n",
    "listings_ratios['unique_listings'] = unique_listings['region'].value_counts()\n",
    "\n",
    "# percent of this region's listings that are duplicates\n",
    "listings_ratios['duplicate_ratio'] = listings_ratios['duplicate_listings'] / listings_ratios['all_listings']\n",
    "\n",
    "# percent of this region's listings that are unique (ie, not duplicates)\n",
    "listings_ratios['unique_ratio'] = listings_ratios['unique_listings'] / listings_ratios['all_listings']\n",
    "\n",
    "listings_ratios.head()"
   ]
  },
  {
   "cell_type": "markdown",
   "metadata": {},
   "source": [
    "### Comparing shared room listings to vacant listings"
   ]
  },
  {
   "cell_type": "code",
   "execution_count": null,
   "metadata": {
    "collapsed": true
   },
   "outputs": [],
   "source": []
  },
  {
   "cell_type": "code",
   "execution_count": null,
   "metadata": {
    "collapsed": true
   },
   "outputs": [],
   "source": []
  },
  {
   "cell_type": "code",
   "execution_count": null,
   "metadata": {
    "collapsed": true
   },
   "outputs": [],
   "source": []
  },
  {
   "cell_type": "code",
   "execution_count": null,
   "metadata": {
    "collapsed": true
   },
   "outputs": [],
   "source": [
    "# plot the ratios of unique and duplicate listings, by region\n",
    "countdata = listings_ratios.sort_values(by='all_listings', ascending=False)[['unique_listings', 'duplicate_listings']].head(20)\n",
    "countdata.columns = ['Unique Listings', 'Duplicate Listings']\n",
    "ax = countdata.plot(kind='bar',\n",
    "                    stacked=True,\n",
    "                    figsize=[9, 6], \n",
    "                    width=0.6, \n",
    "                    alpha=0.5, \n",
    "                    color=['b','m'],\n",
    "                    edgecolor='k',\n",
    "                    grid=False)\n",
    "\n",
    "ax.yaxis.grid(True)\n",
    "ax.set_xticks(range(0, len(countdata)))\n",
    "ax.set_xticklabels(countdata.index, rotation=40, rotation_mode='anchor', ha='right', fontproperties=ticks_font)\n",
    "for label in ax.get_yticklabels():\n",
    "        label.set_fontproperties(ticks_font)\n",
    "ax.set_title('Unique and duplicate rental listings, by region', fontproperties=title_font)\n",
    "ax.set_xlabel('', fontproperties=label_font)\n",
    "ax.set_ylabel('Total number of listings', fontproperties=label_font)        \n",
    "\n",
    "save_fig(plt.gcf(), 'count_unique_duplicate_listings.png')\n",
    "plt.show()"
   ]
  }
 ],
 "metadata": {
  "kernelspec": {
   "display_name": "Python 3",
   "language": "python",
   "name": "python3"
  },
  "language_info": {
   "codemirror_mode": {
    "name": "ipython",
    "version": 3
   },
   "file_extension": ".py",
   "mimetype": "text/x-python",
   "name": "python",
   "nbconvert_exporter": "python",
   "pygments_lexer": "ipython3",
   "version": "3.5.2"
  }
 },
 "nbformat": 4,
 "nbformat_minor": 1
}
