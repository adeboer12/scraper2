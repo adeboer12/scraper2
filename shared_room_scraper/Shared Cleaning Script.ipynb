{
 "cells": [
  {
   "cell_type": "code",
   "execution_count": 1,
   "metadata": {
    "collapsed": false
   },
   "outputs": [],
   "source": [
    "from datetime import datetime as dt\n",
    "from datetime import timedelta\n",
    "import logging\n",
    "import importlib\n",
    "import urllib\n",
    "import unicodecsv as csv\n",
    "from lxml import html\n",
    "import requests\n",
    "import pandas as pd\n",
    "import matplotlib.pyplot as plt, numpy as np\n",
    "import json\n",
    "import sys\n",
    "from requests.auth import HTTPProxyAuth\n",
    "import time\n",
    "import os\n",
    "%matplotlib inline"
   ]
  },
  {
   "cell_type": "code",
   "execution_count": 2,
   "metadata": {
    "collapsed": false,
    "scrolled": false
   },
   "outputs": [
    {
     "name": "stderr",
     "output_type": "stream",
     "text": [
      "b'Skipping line 222647: expected 21 fields, saw 24\\n'\n"
     ]
    }
   ],
   "source": [
    "#Script is written right now for before cleaned, single region. Must adapt for cleaned and multi-region.\n",
    "#This will include changing \"price\" to \"rent\"\n",
    "#QUESTION: Unclear what is actually being counted in 'score' variable\n",
    "\n",
    "#cleandf = pd.read_csv('C:\\\\Users\\\\james\\\\Documents\\\\Berkeley_Docs\\\\Spring_17_Courses\\\\CP290 Data Lab\\\\github\\\\scraper2\\\\shared_room_scraper\\\\sfbay_merged_2017_04_10.csv', header=0) #just SF dataframe\n",
    "cleandf = pd.read_csv('C:\\\\Users\\\\james\\\\Documents\\\\Berkeley_Docs\\\\Spring_17_Courses\\\\CP290 Data Lab\\\\github\\\\scraper2\\\\shared_room_scraper\\\\all_data_merged_2017_04_06.csv',error_bad_lines=False, header=0) #all listings dataframe\n",
    "#determine rent per square foot\n"
   ]
  },
  {
   "cell_type": "code",
   "execution_count": 3,
   "metadata": {
    "collapsed": false,
    "scrolled": true
   },
   "outputs": [
    {
     "data": {
      "text/plain": [
       "(330869, 21)"
      ]
     },
     "execution_count": 3,
     "metadata": {},
     "output_type": "execute_result"
    }
   ],
   "source": [
    "cleandf.shape"
   ]
  },
  {
   "cell_type": "code",
   "execution_count": 4,
   "metadata": {
    "collapsed": true
   },
   "outputs": [],
   "source": [
    "cleandf.loc[cleandf.lat == 99, 'lat'] = 0\n",
    "cleandf.loc[cleandf.lng == 99, 'lng'] = 0\n",
    "cleandf.loc[cleandf.sqft == 0, 'sqft'] = np.nan"
   ]
  },
  {
   "cell_type": "code",
   "execution_count": 5,
   "metadata": {
    "collapsed": false
   },
   "outputs": [],
   "source": [
    "#For any duplicate post, we want to keep the version with the most information. Therefore, assign a score to each post and \n",
    "#give one point for square footage, lat, long and price\n",
    "#OLD FORMULA\n",
    "#cleandf['score']=cleandf.astype(bool).sum(axis=1)\n",
    "\n",
    "cleandf['price_exists'] = cleandf['price']>0\n",
    "cleandf['sqft_exists'] = cleandf['sqft']>0\n",
    "cleandf['lat_exists'] = cleandf['lat']>0\n",
    "cleandf['lng_exists'] = cleandf['lng']<0\n",
    "cleandf['score'] = cleandf[['price_exists','sqft_exists','lat_exists','lng_exists']].astype(bool).sum(axis=1)"
   ]
  },
  {
   "cell_type": "code",
   "execution_count": 6,
   "metadata": {
    "collapsed": false
   },
   "outputs": [],
   "source": [
    "#Sort rows by score\n",
    "cleandf = cleandf.sort_values(by='score',ascending=False)"
   ]
  },
  {
   "cell_type": "code",
   "execution_count": 7,
   "metadata": {
    "collapsed": false
   },
   "outputs": [
    {
     "data": {
      "text/plain": [
       "(330869, 26)"
      ]
     },
     "execution_count": 7,
     "metadata": {},
     "output_type": "execute_result"
    }
   ],
   "source": [
    "cleandf.shape"
   ]
  },
  {
   "cell_type": "code",
   "execution_count": 8,
   "metadata": {
    "collapsed": false
   },
   "outputs": [
    {
     "data": {
      "text/html": [
       "<div>\n",
       "<table border=\"1\" class=\"dataframe\">\n",
       "  <thead>\n",
       "    <tr style=\"text-align: right;\">\n",
       "      <th></th>\n",
       "      <th>pid</th>\n",
       "      <th>dt</th>\n",
       "      <th>url</th>\n",
       "      <th>title</th>\n",
       "      <th>price</th>\n",
       "      <th>neighb</th>\n",
       "      <th>sqft</th>\n",
       "      <th>lat</th>\n",
       "      <th>lng</th>\n",
       "      <th>accuracy</th>\n",
       "      <th>...</th>\n",
       "      <th>private_room</th>\n",
       "      <th>bath_known</th>\n",
       "      <th>private_bath</th>\n",
       "      <th>parking_known</th>\n",
       "      <th>onsite_parking</th>\n",
       "      <th>price_exists</th>\n",
       "      <th>sqft_exists</th>\n",
       "      <th>lat_exists</th>\n",
       "      <th>lng_exists</th>\n",
       "      <th>score</th>\n",
       "    </tr>\n",
       "  </thead>\n",
       "  <tbody>\n",
       "    <tr>\n",
       "      <th>172537</th>\n",
       "      <td>6067818749</td>\n",
       "      <td>2017-04-03 08:04</td>\n",
       "      <td>http://newyork.craigslist.org/brx/roo/60678187...</td>\n",
       "      <td>NESECITA DINERO PARA PAGAR TU RENTA ?</td>\n",
       "      <td>NaN</td>\n",
       "      <td>RENTA TU CUARTO RÁPIDO CON NOSOTROS</td>\n",
       "      <td>NaN</td>\n",
       "      <td>0.0</td>\n",
       "      <td>0.0</td>\n",
       "      <td>99</td>\n",
       "      <td>...</td>\n",
       "      <td>True</td>\n",
       "      <td>True</td>\n",
       "      <td>False</td>\n",
       "      <td>False</td>\n",
       "      <td>False</td>\n",
       "      <td>False</td>\n",
       "      <td>False</td>\n",
       "      <td>False</td>\n",
       "      <td>False</td>\n",
       "      <td>0</td>\n",
       "    </tr>\n",
       "    <tr>\n",
       "      <th>172538</th>\n",
       "      <td>6061818165</td>\n",
       "      <td>2017-04-03 08:02</td>\n",
       "      <td>http://newyork.craigslist.org/brx/roo/60618181...</td>\n",
       "      <td>TIENES CUARTOS VACIOS ?</td>\n",
       "      <td>NaN</td>\n",
       "      <td>LLAMENOS</td>\n",
       "      <td>NaN</td>\n",
       "      <td>0.0</td>\n",
       "      <td>0.0</td>\n",
       "      <td>99</td>\n",
       "      <td>...</td>\n",
       "      <td>True</td>\n",
       "      <td>True</td>\n",
       "      <td>False</td>\n",
       "      <td>True</td>\n",
       "      <td>False</td>\n",
       "      <td>False</td>\n",
       "      <td>False</td>\n",
       "      <td>False</td>\n",
       "      <td>False</td>\n",
       "      <td>0</td>\n",
       "    </tr>\n",
       "    <tr>\n",
       "      <th>172539</th>\n",
       "      <td>6061812984</td>\n",
       "      <td>2017-04-03 08:02</td>\n",
       "      <td>http://newyork.craigslist.org/brx/roo/60618129...</td>\n",
       "      <td>BUSCAMOS CUARTOS PARA RENTAR</td>\n",
       "      <td>NaN</td>\n",
       "      <td>EN TODO EL BRONX Y MANHATTAN</td>\n",
       "      <td>NaN</td>\n",
       "      <td>0.0</td>\n",
       "      <td>0.0</td>\n",
       "      <td>99</td>\n",
       "      <td>...</td>\n",
       "      <td>True</td>\n",
       "      <td>True</td>\n",
       "      <td>False</td>\n",
       "      <td>True</td>\n",
       "      <td>False</td>\n",
       "      <td>False</td>\n",
       "      <td>False</td>\n",
       "      <td>False</td>\n",
       "      <td>False</td>\n",
       "      <td>0</td>\n",
       "    </tr>\n",
       "    <tr>\n",
       "      <th>172544</th>\n",
       "      <td>6040435458</td>\n",
       "      <td>2017-04-03 08:01</td>\n",
       "      <td>http://newyork.craigslist.org/brx/roo/60404354...</td>\n",
       "      <td>ROOMS WANTED</td>\n",
       "      <td>NaN</td>\n",
       "      <td>BRONX-MANHATTAN-QUEENS-BROOKLYN</td>\n",
       "      <td>NaN</td>\n",
       "      <td>0.0</td>\n",
       "      <td>0.0</td>\n",
       "      <td>99</td>\n",
       "      <td>...</td>\n",
       "      <td>True</td>\n",
       "      <td>True</td>\n",
       "      <td>False</td>\n",
       "      <td>False</td>\n",
       "      <td>False</td>\n",
       "      <td>False</td>\n",
       "      <td>False</td>\n",
       "      <td>False</td>\n",
       "      <td>False</td>\n",
       "      <td>0</td>\n",
       "    </tr>\n",
       "    <tr>\n",
       "      <th>0</th>\n",
       "      <td>6065227510</td>\n",
       "      <td>2017-04-01 10:08</td>\n",
       "      <td>http://abilene.craigslist.org/roo/6065227510.html</td>\n",
       "      <td>Female Roommate Wanted</td>\n",
       "      <td>NaN</td>\n",
       "      <td>Odessa</td>\n",
       "      <td>NaN</td>\n",
       "      <td>0.0</td>\n",
       "      <td>0.0</td>\n",
       "      <td>99</td>\n",
       "      <td>...</td>\n",
       "      <td>False</td>\n",
       "      <td>True</td>\n",
       "      <td>False</td>\n",
       "      <td>False</td>\n",
       "      <td>False</td>\n",
       "      <td>False</td>\n",
       "      <td>False</td>\n",
       "      <td>False</td>\n",
       "      <td>False</td>\n",
       "      <td>0</td>\n",
       "    </tr>\n",
       "  </tbody>\n",
       "</table>\n",
       "<p>5 rows × 26 columns</p>\n",
       "</div>"
      ],
      "text/plain": [
       "               pid                dt  \\\n",
       "172537  6067818749  2017-04-03 08:04   \n",
       "172538  6061818165  2017-04-03 08:02   \n",
       "172539  6061812984  2017-04-03 08:02   \n",
       "172544  6040435458  2017-04-03 08:01   \n",
       "0       6065227510  2017-04-01 10:08   \n",
       "\n",
       "                                                      url  \\\n",
       "172537  http://newyork.craigslist.org/brx/roo/60678187...   \n",
       "172538  http://newyork.craigslist.org/brx/roo/60618181...   \n",
       "172539  http://newyork.craigslist.org/brx/roo/60618129...   \n",
       "172544  http://newyork.craigslist.org/brx/roo/60404354...   \n",
       "0       http://abilene.craigslist.org/roo/6065227510.html   \n",
       "\n",
       "                                        title  price  \\\n",
       "172537  NESECITA DINERO PARA PAGAR TU RENTA ?    NaN   \n",
       "172538                TIENES CUARTOS VACIOS ?    NaN   \n",
       "172539           BUSCAMOS CUARTOS PARA RENTAR    NaN   \n",
       "172544                           ROOMS WANTED    NaN   \n",
       "0                      Female Roommate Wanted    NaN   \n",
       "\n",
       "                                     neighb  sqft  lat  lng  accuracy  ...   \\\n",
       "172537  RENTA TU CUARTO RÁPIDO CON NOSOTROS   NaN  0.0  0.0        99  ...    \n",
       "172538                             LLAMENOS   NaN  0.0  0.0        99  ...    \n",
       "172539         EN TODO EL BRONX Y MANHATTAN   NaN  0.0  0.0        99  ...    \n",
       "172544      BRONX-MANHATTAN-QUEENS-BROOKLYN   NaN  0.0  0.0        99  ...    \n",
       "0                                    Odessa   NaN  0.0  0.0        99  ...    \n",
       "\n",
       "       private_room bath_known private_bath parking_known onsite_parking  \\\n",
       "172537         True       True        False         False          False   \n",
       "172538         True       True        False          True          False   \n",
       "172539         True       True        False          True          False   \n",
       "172544         True       True        False         False          False   \n",
       "0             False       True        False         False          False   \n",
       "\n",
       "       price_exists sqft_exists lat_exists lng_exists score  \n",
       "172537        False       False      False      False     0  \n",
       "172538        False       False      False      False     0  \n",
       "172539        False       False      False      False     0  \n",
       "172544        False       False      False      False     0  \n",
       "0             False       False      False      False     0  \n",
       "\n",
       "[5 rows x 26 columns]"
      ]
     },
     "execution_count": 8,
     "metadata": {},
     "output_type": "execute_result"
    }
   ],
   "source": [
    "cleandf.tail()"
   ]
  },
  {
   "cell_type": "code",
   "execution_count": 9,
   "metadata": {
    "collapsed": false
   },
   "outputs": [],
   "source": [
    "#List as 'true' if the PID, body_text, or the title are duplicates\n",
    "cleandf['body_text_duplicate']=cleandf.duplicated('body_text')\n",
    "cleandf['title_duplicate']=cleandf.duplicated('title')\n",
    "cleandf['PID_duplicate']=cleandf.duplicated('pid')\n"
   ]
  },
  {
   "cell_type": "code",
   "execution_count": 10,
   "metadata": {
    "collapsed": false
   },
   "outputs": [
    {
     "data": {
      "text/plain": [
       "(99454, 29)"
      ]
     },
     "execution_count": 10,
     "metadata": {},
     "output_type": "execute_result"
    }
   ],
   "source": [
    "cleandf_unique = cleandf.drop_duplicates('pid')\n",
    "cleandf_unique.shape"
   ]
  },
  {
   "cell_type": "code",
   "execution_count": 11,
   "metadata": {
    "collapsed": false
   },
   "outputs": [
    {
     "data": {
      "text/plain": [
       "(75977, 29)"
      ]
     },
     "execution_count": 11,
     "metadata": {},
     "output_type": "execute_result"
    }
   ],
   "source": [
    "#Keep rows with highest score. Drop rows with duplicate PIDs, Duplicate Titles, Duplicate Posting Bodies\n",
    "cleandf_unique = cleandf_unique.drop_duplicates('body_text')\n",
    "cleandf_unique.shape"
   ]
  },
  {
   "cell_type": "code",
   "execution_count": 12,
   "metadata": {
    "collapsed": false
   },
   "outputs": [
    {
     "data": {
      "text/plain": [
       "(62032, 29)"
      ]
     },
     "execution_count": 12,
     "metadata": {},
     "output_type": "execute_result"
    }
   ],
   "source": [
    "cleandf_unique = cleandf_unique.drop_duplicates('title')\n",
    "cleandf_unique.shape"
   ]
  },
  {
   "cell_type": "markdown",
   "metadata": {},
   "source": [
    "## Creating new fields for analysis"
   ]
  },
  {
   "cell_type": "code",
   "execution_count": 13,
   "metadata": {
    "collapsed": false
   },
   "outputs": [],
   "source": [
    "cleandf_unique['dt'] = pd.to_datetime(cleandf_unique['dt'], format='%Y-%m-%d')\n",
    "cleandf_unique['region'] = cleandf_unique['url'].str.extract('http://(.*).craigslist.org', expand=False)\n",
    "cleandf_unique['day_of_week'] = cleandf_unique['dt'].apply(lambda x: x.weekday())\n",
    "cleandf_unique['rent_sqft'] = cleandf_unique['price'] / cleandf['sqft']"
   ]
  },
  {
   "cell_type": "code",
   "execution_count": 14,
   "metadata": {
    "collapsed": true
   },
   "outputs": [],
   "source": [
    "#counting listings per day (right now inlcudes time, need to remove)\n",
    "listings_per_date = cleandf_unique['dt'].value_counts()"
   ]
  },
  {
   "cell_type": "markdown",
   "metadata": {},
   "source": [
    "## Descriptive Stats and More Filtering"
   ]
  },
  {
   "cell_type": "code",
   "execution_count": 15,
   "metadata": {
    "collapsed": false,
    "scrolled": true
   },
   "outputs": [
    {
     "data": {
      "text/html": [
       "<div>\n",
       "<table border=\"1\" class=\"dataframe\">\n",
       "  <thead>\n",
       "    <tr style=\"text-align: right;\">\n",
       "      <th></th>\n",
       "      <th>pid</th>\n",
       "      <th>price</th>\n",
       "      <th>sqft</th>\n",
       "      <th>lat</th>\n",
       "      <th>lng</th>\n",
       "      <th>accuracy</th>\n",
       "      <th>score</th>\n",
       "      <th>day_of_week</th>\n",
       "      <th>rent_sqft</th>\n",
       "    </tr>\n",
       "  </thead>\n",
       "  <tbody>\n",
       "    <tr>\n",
       "      <th>count</th>\n",
       "      <td>6.203200e+04</td>\n",
       "      <td>5.257500e+04</td>\n",
       "      <td>1.619500e+04</td>\n",
       "      <td>62032.000000</td>\n",
       "      <td>62032.000000</td>\n",
       "      <td>62032.000000</td>\n",
       "      <td>62032.000000</td>\n",
       "      <td>62032.000000</td>\n",
       "      <td>15728.000000</td>\n",
       "    </tr>\n",
       "    <tr>\n",
       "      <th>mean</th>\n",
       "      <td>6.065521e+09</td>\n",
       "      <td>8.040899e+03</td>\n",
       "      <td>1.585170e+03</td>\n",
       "      <td>29.699271</td>\n",
       "      <td>-75.462708</td>\n",
       "      <td>32.142023</td>\n",
       "      <td>2.687452</td>\n",
       "      <td>2.716711</td>\n",
       "      <td>20.757369</td>\n",
       "    </tr>\n",
       "    <tr>\n",
       "      <th>std</th>\n",
       "      <td>1.153673e+07</td>\n",
       "      <td>2.606233e+05</td>\n",
       "      <td>6.594811e+04</td>\n",
       "      <td>15.932357</td>\n",
       "      <td>42.825087</td>\n",
       "      <td>35.142094</td>\n",
       "      <td>1.091148</td>\n",
       "      <td>2.182855</td>\n",
       "      <td>969.456528</td>\n",
       "    </tr>\n",
       "    <tr>\n",
       "      <th>min</th>\n",
       "      <td>6.025119e+09</td>\n",
       "      <td>1.000000e+00</td>\n",
       "      <td>1.000000e+00</td>\n",
       "      <td>0.000000</td>\n",
       "      <td>-158.065796</td>\n",
       "      <td>0.000000</td>\n",
       "      <td>0.000000</td>\n",
       "      <td>0.000000</td>\n",
       "      <td>0.000107</td>\n",
       "    </tr>\n",
       "    <tr>\n",
       "      <th>25%</th>\n",
       "      <td>6.061505e+09</td>\n",
       "      <td>4.950000e+02</td>\n",
       "      <td>1.850000e+02</td>\n",
       "      <td>28.467100</td>\n",
       "      <td>-117.089474</td>\n",
       "      <td>10.000000</td>\n",
       "      <td>2.000000</td>\n",
       "      <td>1.000000</td>\n",
       "      <td>0.434334</td>\n",
       "    </tr>\n",
       "    <tr>\n",
       "      <th>50%</th>\n",
       "      <td>6.070064e+09</td>\n",
       "      <td>6.500000e+02</td>\n",
       "      <td>9.000000e+02</td>\n",
       "      <td>36.797800</td>\n",
       "      <td>-80.292600</td>\n",
       "      <td>22.000000</td>\n",
       "      <td>3.000000</td>\n",
       "      <td>2.000000</td>\n",
       "      <td>1.045455</td>\n",
       "    </tr>\n",
       "    <tr>\n",
       "      <th>75%</th>\n",
       "      <td>6.073341e+09</td>\n",
       "      <td>9.000000e+02</td>\n",
       "      <td>1.410000e+03</td>\n",
       "      <td>40.674242</td>\n",
       "      <td>-72.673037</td>\n",
       "      <td>22.000000</td>\n",
       "      <td>3.000000</td>\n",
       "      <td>5.000000</td>\n",
       "      <td>3.750000</td>\n",
       "    </tr>\n",
       "    <tr>\n",
       "      <th>max</th>\n",
       "      <td>6.076942e+09</td>\n",
       "      <td>2.250150e+07</td>\n",
       "      <td>8.388607e+06</td>\n",
       "      <td>64.878089</td>\n",
       "      <td>0.000000</td>\n",
       "      <td>99.000000</td>\n",
       "      <td>4.000000</td>\n",
       "      <td>6.000000</td>\n",
       "      <td>85723.928571</td>\n",
       "    </tr>\n",
       "  </tbody>\n",
       "</table>\n",
       "</div>"
      ],
      "text/plain": [
       "                pid         price          sqft           lat           lng  \\\n",
       "count  6.203200e+04  5.257500e+04  1.619500e+04  62032.000000  62032.000000   \n",
       "mean   6.065521e+09  8.040899e+03  1.585170e+03     29.699271    -75.462708   \n",
       "std    1.153673e+07  2.606233e+05  6.594811e+04     15.932357     42.825087   \n",
       "min    6.025119e+09  1.000000e+00  1.000000e+00      0.000000   -158.065796   \n",
       "25%    6.061505e+09  4.950000e+02  1.850000e+02     28.467100   -117.089474   \n",
       "50%    6.070064e+09  6.500000e+02  9.000000e+02     36.797800    -80.292600   \n",
       "75%    6.073341e+09  9.000000e+02  1.410000e+03     40.674242    -72.673037   \n",
       "max    6.076942e+09  2.250150e+07  8.388607e+06     64.878089      0.000000   \n",
       "\n",
       "           accuracy         score   day_of_week     rent_sqft  \n",
       "count  62032.000000  62032.000000  62032.000000  15728.000000  \n",
       "mean      32.142023      2.687452      2.716711     20.757369  \n",
       "std       35.142094      1.091148      2.182855    969.456528  \n",
       "min        0.000000      0.000000      0.000000      0.000107  \n",
       "25%       10.000000      2.000000      1.000000      0.434334  \n",
       "50%       22.000000      3.000000      2.000000      1.045455  \n",
       "75%       22.000000      3.000000      5.000000      3.750000  \n",
       "max       99.000000      4.000000      6.000000  85723.928571  "
      ]
     },
     "execution_count": 15,
     "metadata": {},
     "output_type": "execute_result"
    }
   ],
   "source": [
    "cleandf_unique.describe()"
   ]
  },
  {
   "cell_type": "code",
   "execution_count": 16,
   "metadata": {
    "collapsed": true
   },
   "outputs": [],
   "source": [
    "unique_wprice = cleandf_unique[cleandf_unique['price'] > 0]"
   ]
  },
  {
   "cell_type": "code",
   "execution_count": 17,
   "metadata": {
    "collapsed": false
   },
   "outputs": [
    {
     "name": "stdout",
     "output_type": "stream",
     "text": [
      "valid rent_sqft range: [0.14166666666666666, nan]\n",
      "valid rent range: [50.0, 5500.0]\n",
      "valid sqft range: [100.0, nan]\n"
     ]
    }
   ],
   "source": [
    "# in this cell, define the values by which we will filter the 3 columns. This will vary depending on the sample we're looking at. \n",
    "upper_percentile = 0.997\n",
    "lower_percentile = 0.01\n",
    "\n",
    "# how many rows would be within the upper and lower percentiles?\n",
    "upper = int(len(unique_wprice) * upper_percentile)\n",
    "lower = int(len(unique_wprice) * lower_percentile)\n",
    "\n",
    "# get the rent/sqft values at the upper and lower percentiles\n",
    "rent_sqft_sorted = unique_wprice['rent_sqft'].sort_values(ascending=True, inplace=False)\n",
    "upper_rent_sqft = rent_sqft_sorted.iloc[upper]\n",
    "lower_rent_sqft = rent_sqft_sorted.iloc[lower]\n",
    "\n",
    "# get the rent values at the upper and lower percentiles\n",
    "rent_sorted = unique_wprice['price'].sort_values(ascending=True, inplace=False)\n",
    "upper_rent = rent_sorted.iloc[upper]\n",
    "lower_rent = rent_sorted.iloc[lower]\n",
    "\n",
    "# get the sqft values at the upper and lower percentiles\n",
    "sqft_sorted = unique_wprice['sqft'].sort_values(ascending=True, inplace=False)\n",
    "upper_sqft = sqft_sorted.iloc[upper]\n",
    "lower_sqft = sqft_sorted.iloc[lower]\n",
    "\n",
    "print('valid rent_sqft range:', [lower_rent_sqft, upper_rent_sqft])\n",
    "print('valid rent range:', [lower_rent, upper_rent])\n",
    "print('valid sqft range:', [lower_sqft, upper_sqft])"
   ]
  },
  {
   "cell_type": "code",
   "execution_count": 19,
   "metadata": {
    "collapsed": false
   },
   "outputs": [],
   "source": [
    "#Filtering out rows with unreasonable rent prices \n",
    "rent_mask = (unique_wprice['price'] > lower_rent) & (unique_wprice['price'] < upper_rent)"
   ]
  },
  {
   "cell_type": "code",
   "execution_count": 20,
   "metadata": {
    "collapsed": false
   },
   "outputs": [],
   "source": [
    "filtered_listings = pd.DataFrame(unique_wprice[rent_mask])"
   ]
  },
  {
   "cell_type": "markdown",
   "metadata": {},
   "source": [
    "## Filtering out listings with \"0\" latitudes"
   ]
  },
  {
   "cell_type": "code",
   "execution_count": 21,
   "metadata": {
    "collapsed": true
   },
   "outputs": [],
   "source": [
    "lat_mask = (filtered_listings['lat'] > 0)"
   ]
  },
  {
   "cell_type": "code",
   "execution_count": 22,
   "metadata": {
    "collapsed": true
   },
   "outputs": [],
   "source": [
    "filtered_listings = pd.DataFrame(filtered_listings[lat_mask])"
   ]
  },
  {
   "cell_type": "code",
   "execution_count": 23,
   "metadata": {
    "collapsed": false,
    "scrolled": true
   },
   "outputs": [
    {
     "data": {
      "text/html": [
       "<div>\n",
       "<table border=\"1\" class=\"dataframe\">\n",
       "  <thead>\n",
       "    <tr style=\"text-align: right;\">\n",
       "      <th></th>\n",
       "      <th>pid</th>\n",
       "      <th>price</th>\n",
       "      <th>sqft</th>\n",
       "      <th>lat</th>\n",
       "      <th>lng</th>\n",
       "      <th>accuracy</th>\n",
       "      <th>score</th>\n",
       "      <th>day_of_week</th>\n",
       "      <th>rent_sqft</th>\n",
       "    </tr>\n",
       "  </thead>\n",
       "  <tbody>\n",
       "    <tr>\n",
       "      <th>count</th>\n",
       "      <td>4.175000e+04</td>\n",
       "      <td>41750.000000</td>\n",
       "      <td>1.363300e+04</td>\n",
       "      <td>41750.000000</td>\n",
       "      <td>41750.000000</td>\n",
       "      <td>41750.000000</td>\n",
       "      <td>41750.000000</td>\n",
       "      <td>41750.000000</td>\n",
       "      <td>13633.000000</td>\n",
       "    </tr>\n",
       "    <tr>\n",
       "      <th>mean</th>\n",
       "      <td>6.065781e+09</td>\n",
       "      <td>775.042563</td>\n",
       "      <td>1.640565e+03</td>\n",
       "      <td>37.740904</td>\n",
       "      <td>-95.694069</td>\n",
       "      <td>14.013581</td>\n",
       "      <td>3.326539</td>\n",
       "      <td>2.692910</td>\n",
       "      <td>3.574683</td>\n",
       "    </tr>\n",
       "    <tr>\n",
       "      <th>std</th>\n",
       "      <td>1.138951e+07</td>\n",
       "      <td>404.784149</td>\n",
       "      <td>7.185588e+04</td>\n",
       "      <td>4.785129</td>\n",
       "      <td>20.146424</td>\n",
       "      <td>7.242707</td>\n",
       "      <td>0.468953</td>\n",
       "      <td>2.180999</td>\n",
       "      <td>20.646918</td>\n",
       "    </tr>\n",
       "    <tr>\n",
       "      <th>min</th>\n",
       "      <td>6.025125e+09</td>\n",
       "      <td>51.000000</td>\n",
       "      <td>1.000000e+00</td>\n",
       "      <td>4.816900</td>\n",
       "      <td>-158.065796</td>\n",
       "      <td>0.000000</td>\n",
       "      <td>3.000000</td>\n",
       "      <td>0.000000</td>\n",
       "      <td>0.000107</td>\n",
       "    </tr>\n",
       "    <tr>\n",
       "      <th>25%</th>\n",
       "      <td>6.062278e+09</td>\n",
       "      <td>500.000000</td>\n",
       "      <td>1.800000e+02</td>\n",
       "      <td>34.061400</td>\n",
       "      <td>-118.177104</td>\n",
       "      <td>7.000000</td>\n",
       "      <td>3.000000</td>\n",
       "      <td>1.000000</td>\n",
       "      <td>0.458333</td>\n",
       "    </tr>\n",
       "    <tr>\n",
       "      <th>50%</th>\n",
       "      <td>6.070171e+09</td>\n",
       "      <td>700.000000</td>\n",
       "      <td>9.000000e+02</td>\n",
       "      <td>38.686500</td>\n",
       "      <td>-87.911085</td>\n",
       "      <td>15.000000</td>\n",
       "      <td>3.000000</td>\n",
       "      <td>2.000000</td>\n",
       "      <td>1.087500</td>\n",
       "    </tr>\n",
       "    <tr>\n",
       "      <th>75%</th>\n",
       "      <td>6.073427e+09</td>\n",
       "      <td>950.000000</td>\n",
       "      <td>1.400000e+03</td>\n",
       "      <td>40.743600</td>\n",
       "      <td>-76.558689</td>\n",
       "      <td>22.000000</td>\n",
       "      <td>4.000000</td>\n",
       "      <td>5.000000</td>\n",
       "      <td>3.846154</td>\n",
       "    </tr>\n",
       "    <tr>\n",
       "      <th>max</th>\n",
       "      <td>6.076942e+09</td>\n",
       "      <td>5100.000000</td>\n",
       "      <td>8.388607e+06</td>\n",
       "      <td>64.878089</td>\n",
       "      <td>-4.817498</td>\n",
       "      <td>40.000000</td>\n",
       "      <td>4.000000</td>\n",
       "      <td>6.000000</td>\n",
       "      <td>1000.000000</td>\n",
       "    </tr>\n",
       "  </tbody>\n",
       "</table>\n",
       "</div>"
      ],
      "text/plain": [
       "                pid         price          sqft           lat           lng  \\\n",
       "count  4.175000e+04  41750.000000  1.363300e+04  41750.000000  41750.000000   \n",
       "mean   6.065781e+09    775.042563  1.640565e+03     37.740904    -95.694069   \n",
       "std    1.138951e+07    404.784149  7.185588e+04      4.785129     20.146424   \n",
       "min    6.025125e+09     51.000000  1.000000e+00      4.816900   -158.065796   \n",
       "25%    6.062278e+09    500.000000  1.800000e+02     34.061400   -118.177104   \n",
       "50%    6.070171e+09    700.000000  9.000000e+02     38.686500    -87.911085   \n",
       "75%    6.073427e+09    950.000000  1.400000e+03     40.743600    -76.558689   \n",
       "max    6.076942e+09   5100.000000  8.388607e+06     64.878089     -4.817498   \n",
       "\n",
       "           accuracy         score   day_of_week     rent_sqft  \n",
       "count  41750.000000  41750.000000  41750.000000  13633.000000  \n",
       "mean      14.013581      3.326539      2.692910      3.574683  \n",
       "std        7.242707      0.468953      2.180999     20.646918  \n",
       "min        0.000000      3.000000      0.000000      0.000107  \n",
       "25%        7.000000      3.000000      1.000000      0.458333  \n",
       "50%       15.000000      3.000000      2.000000      1.087500  \n",
       "75%       22.000000      4.000000      5.000000      3.846154  \n",
       "max       40.000000      4.000000      6.000000   1000.000000  "
      ]
     },
     "execution_count": 23,
     "metadata": {},
     "output_type": "execute_result"
    }
   ],
   "source": [
    "filtered_listings.describe()"
   ]
  },
  {
   "cell_type": "markdown",
   "metadata": {},
   "source": [
    "## Viewing Results by Region"
   ]
  },
  {
   "cell_type": "code",
   "execution_count": null,
   "metadata": {
    "collapsed": true
   },
   "outputs": [],
   "source": [
    "#grouped = cleandf_unique.groupby('region')"
   ]
  },
  {
   "cell_type": "code",
   "execution_count": 24,
   "metadata": {
    "collapsed": true
   },
   "outputs": [],
   "source": [
    "countdata = filtered_listings['region'].value_counts().head(30)"
   ]
  },
  {
   "cell_type": "code",
   "execution_count": 25,
   "metadata": {
    "collapsed": false
   },
   "outputs": [
    {
     "data": {
      "text/plain": [
       "newyork         5678\n",
       "sfbay           4751\n",
       "losangeles      2712\n",
       "washingtondc    2474\n",
       "boston          1501\n",
       "sandiego        1428\n",
       "orangecounty     977\n",
       "miami            952\n",
       "chicago          901\n",
       "seattle          873\n",
       "portland         720\n",
       "denver           692\n",
       "atlanta          594\n",
       "philadelphia     554\n",
       "phoenix          532\n",
       "houston          503\n",
       "inlandempire     490\n",
       "austin           482\n",
       "baltimore        434\n",
       "orlando          434\n",
       "sacramento       429\n",
       "newjersey        424\n",
       "lasvegas         389\n",
       "dallas           367\n",
       "tampa            352\n",
       "minneapolis      283\n",
       "raleigh          277\n",
       "norfolk          263\n",
       "boulder          234\n",
       "santabarbara     223\n",
       "Name: region, dtype: int64"
      ]
     },
     "execution_count": 25,
     "metadata": {},
     "output_type": "execute_result"
    }
   ],
   "source": [
    "countdata"
   ]
  },
  {
   "cell_type": "code",
   "execution_count": 37,
   "metadata": {
    "collapsed": false
   },
   "outputs": [
    {
     "data": {
      "text/html": [
       "<div>\n",
       "<table border=\"1\" class=\"dataframe\">\n",
       "  <thead>\n",
       "    <tr style=\"text-align: right;\">\n",
       "      <th></th>\n",
       "      <th>pid</th>\n",
       "      <th>price</th>\n",
       "      <th>sqft</th>\n",
       "      <th>lat</th>\n",
       "      <th>lng</th>\n",
       "      <th>accuracy</th>\n",
       "      <th>score</th>\n",
       "      <th>day_of_week</th>\n",
       "      <th>rent_sqft</th>\n",
       "    </tr>\n",
       "  </thead>\n",
       "  <tbody>\n",
       "    <tr>\n",
       "      <th>count</th>\n",
       "      <td>1.501000e+03</td>\n",
       "      <td>1501.000000</td>\n",
       "      <td>421.000000</td>\n",
       "      <td>1501.000000</td>\n",
       "      <td>1501.000000</td>\n",
       "      <td>1501.000000</td>\n",
       "      <td>1501.000000</td>\n",
       "      <td>1501.000000</td>\n",
       "      <td>421.000000</td>\n",
       "    </tr>\n",
       "    <tr>\n",
       "      <th>mean</th>\n",
       "      <td>6.066421e+09</td>\n",
       "      <td>901.688874</td>\n",
       "      <td>927.859857</td>\n",
       "      <td>42.367702</td>\n",
       "      <td>-71.127071</td>\n",
       "      <td>13.588274</td>\n",
       "      <td>3.280480</td>\n",
       "      <td>3.101932</td>\n",
       "      <td>8.923746</td>\n",
       "    </tr>\n",
       "    <tr>\n",
       "      <th>std</th>\n",
       "      <td>1.032795e+07</td>\n",
       "      <td>329.980912</td>\n",
       "      <td>1045.223201</td>\n",
       "      <td>0.141190</td>\n",
       "      <td>0.178810</td>\n",
       "      <td>6.659007</td>\n",
       "      <td>0.449383</td>\n",
       "      <td>2.284353</td>\n",
       "      <td>70.451256</td>\n",
       "    </tr>\n",
       "    <tr>\n",
       "      <th>min</th>\n",
       "      <td>6.026378e+09</td>\n",
       "      <td>125.000000</td>\n",
       "      <td>1.000000</td>\n",
       "      <td>39.947800</td>\n",
       "      <td>-74.903600</td>\n",
       "      <td>0.000000</td>\n",
       "      <td>3.000000</td>\n",
       "      <td>0.000000</td>\n",
       "      <td>0.107143</td>\n",
       "    </tr>\n",
       "    <tr>\n",
       "      <th>25%</th>\n",
       "      <td>6.063413e+09</td>\n",
       "      <td>700.000000</td>\n",
       "      <td>150.000000</td>\n",
       "      <td>42.331500</td>\n",
       "      <td>-71.147706</td>\n",
       "      <td>7.000000</td>\n",
       "      <td>3.000000</td>\n",
       "      <td>1.000000</td>\n",
       "      <td>0.720000</td>\n",
       "    </tr>\n",
       "    <tr>\n",
       "      <th>50%</th>\n",
       "      <td>6.070014e+09</td>\n",
       "      <td>850.000000</td>\n",
       "      <td>860.000000</td>\n",
       "      <td>42.355442</td>\n",
       "      <td>-71.109653</td>\n",
       "      <td>15.000000</td>\n",
       "      <td>3.000000</td>\n",
       "      <td>4.000000</td>\n",
       "      <td>1.384909</td>\n",
       "    </tr>\n",
       "    <tr>\n",
       "      <th>75%</th>\n",
       "      <td>6.073095e+09</td>\n",
       "      <td>1050.000000</td>\n",
       "      <td>1300.000000</td>\n",
       "      <td>42.394300</td>\n",
       "      <td>-71.075084</td>\n",
       "      <td>20.000000</td>\n",
       "      <td>4.000000</td>\n",
       "      <td>5.000000</td>\n",
       "      <td>5.000000</td>\n",
       "    </tr>\n",
       "    <tr>\n",
       "      <th>max</th>\n",
       "      <td>6.076534e+09</td>\n",
       "      <td>3200.000000</td>\n",
       "      <td>7500.000000</td>\n",
       "      <td>42.850700</td>\n",
       "      <td>-70.642000</td>\n",
       "      <td>23.000000</td>\n",
       "      <td>4.000000</td>\n",
       "      <td>6.000000</td>\n",
       "      <td>1000.000000</td>\n",
       "    </tr>\n",
       "  </tbody>\n",
       "</table>\n",
       "</div>"
      ],
      "text/plain": [
       "                pid        price         sqft          lat          lng  \\\n",
       "count  1.501000e+03  1501.000000   421.000000  1501.000000  1501.000000   \n",
       "mean   6.066421e+09   901.688874   927.859857    42.367702   -71.127071   \n",
       "std    1.032795e+07   329.980912  1045.223201     0.141190     0.178810   \n",
       "min    6.026378e+09   125.000000     1.000000    39.947800   -74.903600   \n",
       "25%    6.063413e+09   700.000000   150.000000    42.331500   -71.147706   \n",
       "50%    6.070014e+09   850.000000   860.000000    42.355442   -71.109653   \n",
       "75%    6.073095e+09  1050.000000  1300.000000    42.394300   -71.075084   \n",
       "max    6.076534e+09  3200.000000  7500.000000    42.850700   -70.642000   \n",
       "\n",
       "          accuracy        score  day_of_week    rent_sqft  \n",
       "count  1501.000000  1501.000000  1501.000000   421.000000  \n",
       "mean     13.588274     3.280480     3.101932     8.923746  \n",
       "std       6.659007     0.449383     2.284353    70.451256  \n",
       "min       0.000000     3.000000     0.000000     0.107143  \n",
       "25%       7.000000     3.000000     1.000000     0.720000  \n",
       "50%      15.000000     3.000000     4.000000     1.384909  \n",
       "75%      20.000000     4.000000     5.000000     5.000000  \n",
       "max      23.000000     4.000000     6.000000  1000.000000  "
      ]
     },
     "execution_count": 37,
     "metadata": {},
     "output_type": "execute_result"
    }
   ],
   "source": [
    "filtered_listings[filtered_listings['region']=='boston'].describe()"
   ]
  },
  {
   "cell_type": "markdown",
   "metadata": {},
   "source": [
    "## Visualization"
   ]
  },
  {
   "cell_type": "code",
   "execution_count": null,
   "metadata": {
    "collapsed": true
   },
   "outputs": [],
   "source": [
    "x = filtered_listings['price']"
   ]
  },
  {
   "cell_type": "code",
   "execution_count": null,
   "metadata": {
    "collapsed": false
   },
   "outputs": [],
   "source": [
    "x = x.astype('int')"
   ]
  },
  {
   "cell_type": "code",
   "execution_count": null,
   "metadata": {
    "collapsed": false
   },
   "outputs": [],
   "source": [
    "plt.figure(1, figsize=(10,6) )\n",
    "plt.suptitle('Rent Price Distribution')\n",
    "plt.xlabel('Price')\n",
    "plt.ylabel('Number of Listings')\n",
    "ax = plt.hist(x, bins=50, alpha=.4, color='cyan')\n",
    "plt.show()"
   ]
  },
  {
   "cell_type": "markdown",
   "metadata": {},
   "source": [
    "## Counting Words in body text"
   ]
  },
  {
   "cell_type": "code",
   "execution_count": null,
   "metadata": {
    "collapsed": false
   },
   "outputs": [],
   "source": [
    "np.sum(filtered_listings['body_text'].str.contains('vegetarian'))"
   ]
  },
  {
   "cell_type": "code",
   "execution_count": null,
   "metadata": {
    "collapsed": true
   },
   "outputs": [],
   "source": [
    "#filtered_listings.to_csv('sfbay_filtered4_10.csv')"
   ]
  },
  {
   "cell_type": "code",
   "execution_count": null,
   "metadata": {
    "collapsed": true
   },
   "outputs": [],
   "source": [
    "# calculate the ratios of unique to duplicate listings for each region\n",
    "listings_ratios = pd.DataFrame()\n",
    "\n",
    "# number of total listings for each region\n",
    "listings_ratios['cleandf'] = cleandf['region'].value_counts()\n",
    "\n",
    "# number of duplicate listings for each region (ie, listings that share a pid with at least one other listing)\n",
    "listings_ratios['duplicate_listings'] = duplicate_listings['region'].value_counts()\n",
    "\n",
    "# number of unique listings for the region (ie, none share a pid with another listing)\n",
    "listings_ratios['unique_listings'] = unique_listings['region'].value_counts()\n",
    "\n",
    "# percent of this region's listings that are duplicates\n",
    "listings_ratios['duplicate_ratio'] = listings_ratios['duplicate_listings'] / listings_ratios['all_listings']\n",
    "\n",
    "# percent of this region's listings that are unique (ie, not duplicates)\n",
    "listings_ratios['unique_ratio'] = listings_ratios['unique_listings'] / listings_ratios['all_listings']\n",
    "\n",
    "listings_ratios.head()"
   ]
  }
 ],
 "metadata": {
  "kernelspec": {
   "display_name": "Python 3",
   "language": "python",
   "name": "python3"
  },
  "language_info": {
   "codemirror_mode": {
    "name": "ipython",
    "version": 3
   },
   "file_extension": ".py",
   "mimetype": "text/x-python",
   "name": "python",
   "nbconvert_exporter": "python",
   "pygments_lexer": "ipython3",
   "version": "3.5.2"
  }
 },
 "nbformat": 4,
 "nbformat_minor": 0
}
