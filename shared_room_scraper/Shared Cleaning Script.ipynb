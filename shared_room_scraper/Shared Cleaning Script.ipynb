{
 "cells": [
  {
   "cell_type": "code",
   "execution_count": 1,
   "metadata": {
    "collapsed": false
   },
   "outputs": [],
   "source": [
    "from datetime import datetime as dt\n",
    "from datetime import timedelta\n",
    "import logging\n",
    "import importlib\n",
    "import urllib\n",
    "import unicodecsv as csv\n",
    "from lxml import html\n",
    "import requests\n",
    "import pandas as pd\n",
    "import numpy as np\n",
    "import matplotlib.pyplot as plt\n",
    "import json\n",
    "import sys\n",
    "from requests.auth import HTTPProxyAuth\n",
    "import time\n",
    "import os"
   ]
  },
  {
   "cell_type": "code",
   "execution_count": 2,
   "metadata": {
    "collapsed": false,
    "scrolled": false
   },
   "outputs": [],
   "source": [
    "#Script is written right now for before cleaned, single region. Must adapt for cleaned and multi-region.\n",
    "#This will include changing \"price\" to \"rent\"\n",
    "#QUESTION: Unclear what is actually being counted in 'score' variable\n",
    "\n",
    "cleandf = pd.read_csv('C:\\\\Users\\\\james\\\\Documents\\\\Berkeley_Docs\\\\Spring_17_Courses\\\\CP290 Data Lab\\\\github\\\\scraper2\\\\shared_room_scraper\\\\sfbay_merged_2017_04_10.csv',header=0)\n",
    "#determine rent per square foot\n"
   ]
  },
  {
   "cell_type": "code",
   "execution_count": 3,
   "metadata": {
    "collapsed": false,
    "scrolled": true
   },
   "outputs": [
    {
     "data": {
      "text/plain": [
       "(30231, 21)"
      ]
     },
     "execution_count": 3,
     "metadata": {},
     "output_type": "execute_result"
    }
   ],
   "source": [
    "cleandf.shape"
   ]
  },
  {
   "cell_type": "code",
   "execution_count": 4,
   "metadata": {
    "collapsed": true
   },
   "outputs": [],
   "source": [
    "cleandf.loc[cleandf.lat == 99, 'lat'] = 0\n",
    "cleandf.loc[cleandf.lng == 99, 'lng'] = 0\n",
    "cleandf.loc[cleandf.sqft == 0, 'sqft'] = np.nan"
   ]
  },
  {
   "cell_type": "code",
   "execution_count": 5,
   "metadata": {
    "collapsed": false
   },
   "outputs": [],
   "source": [
    "#For any duplicate post, we want to keep the version with the most information. Therefore, assign a score to each post and \n",
    "#give one point for square footage, lat, long and price\n",
    "#OLD FORMULA\n",
    "#cleandf['score']=cleandf.astype(bool).sum(axis=1)\n",
    "\n",
    "cleandf['price_exists'] = cleandf['price']>0\n",
    "cleandf['sqft_exists'] = cleandf['sqft']>0\n",
    "cleandf['lat_exists'] = cleandf['lat']>0\n",
    "cleandf['lng_exists'] = cleandf['lng']<0\n",
    "cleandf['score'] = cleandf[['price_exists','sqft_exists','lat_exists','lng_exists']].astype(bool).sum(axis=1)"
   ]
  },
  {
   "cell_type": "code",
   "execution_count": 6,
   "metadata": {
    "collapsed": false
   },
   "outputs": [],
   "source": [
    "#Sort rows by score\n",
    "cleandf = cleandf.sort_values(by='score',ascending=False)"
   ]
  },
  {
   "cell_type": "code",
   "execution_count": 7,
   "metadata": {
    "collapsed": false
   },
   "outputs": [
    {
     "data": {
      "text/plain": [
       "(30231, 26)"
      ]
     },
     "execution_count": 7,
     "metadata": {},
     "output_type": "execute_result"
    }
   ],
   "source": [
    "cleandf.shape"
   ]
  },
  {
   "cell_type": "code",
   "execution_count": 8,
   "metadata": {
    "collapsed": false
   },
   "outputs": [
    {
     "data": {
      "text/html": [
       "<div>\n",
       "<table border=\"1\" class=\"dataframe\">\n",
       "  <thead>\n",
       "    <tr style=\"text-align: right;\">\n",
       "      <th></th>\n",
       "      <th>pid</th>\n",
       "      <th>dt</th>\n",
       "      <th>url</th>\n",
       "      <th>title</th>\n",
       "      <th>price</th>\n",
       "      <th>neighb</th>\n",
       "      <th>sqft</th>\n",
       "      <th>lat</th>\n",
       "      <th>lng</th>\n",
       "      <th>accuracy</th>\n",
       "      <th>...</th>\n",
       "      <th>private_room</th>\n",
       "      <th>bath_known</th>\n",
       "      <th>private_bath</th>\n",
       "      <th>parking_known</th>\n",
       "      <th>onsite_parking</th>\n",
       "      <th>price_exists</th>\n",
       "      <th>sqft_exists</th>\n",
       "      <th>lat_exists</th>\n",
       "      <th>lng_exists</th>\n",
       "      <th>score</th>\n",
       "    </tr>\n",
       "  </thead>\n",
       "  <tbody>\n",
       "    <tr>\n",
       "      <th>7347</th>\n",
       "      <td>6065495036</td>\n",
       "      <td>2017-04-02 13:32</td>\n",
       "      <td>http://sfbay.craigslist.org/sfc/roo/6065495036...</td>\n",
       "      <td>$800 - OPEN BEDROOM IN LARGE MARINA APARTMENT</td>\n",
       "      <td>NaN</td>\n",
       "      <td>marina / cow hollow</td>\n",
       "      <td>NaN</td>\n",
       "      <td>0.0</td>\n",
       "      <td>0.0</td>\n",
       "      <td>99</td>\n",
       "      <td>...</td>\n",
       "      <td>True</td>\n",
       "      <td>True</td>\n",
       "      <td>False</td>\n",
       "      <td>True</td>\n",
       "      <td>False</td>\n",
       "      <td>False</td>\n",
       "      <td>False</td>\n",
       "      <td>False</td>\n",
       "      <td>False</td>\n",
       "      <td>0</td>\n",
       "    </tr>\n",
       "    <tr>\n",
       "      <th>20308</th>\n",
       "      <td>6075917680</td>\n",
       "      <td>2017-04-05 15:46</td>\n",
       "      <td>http://sfbay.craigslist.org/pen/roo/6075917680...</td>\n",
       "      <td>large room set up like studio</td>\n",
       "      <td>NaN</td>\n",
       "      <td>east palo alto</td>\n",
       "      <td>NaN</td>\n",
       "      <td>0.0</td>\n",
       "      <td>0.0</td>\n",
       "      <td>99</td>\n",
       "      <td>...</td>\n",
       "      <td>True</td>\n",
       "      <td>True</td>\n",
       "      <td>True</td>\n",
       "      <td>False</td>\n",
       "      <td>False</td>\n",
       "      <td>False</td>\n",
       "      <td>False</td>\n",
       "      <td>False</td>\n",
       "      <td>False</td>\n",
       "      <td>0</td>\n",
       "    </tr>\n",
       "    <tr>\n",
       "      <th>20364</th>\n",
       "      <td>6075830704</td>\n",
       "      <td>2017-04-05 15:09</td>\n",
       "      <td>http://sfbay.craigslist.org/sfc/roo/6075830704...</td>\n",
       "      <td>$620 - LOOKING FOR INDIVIDUAL TO RENT LARGE MA...</td>\n",
       "      <td>NaN</td>\n",
       "      <td>SOMA / south beach</td>\n",
       "      <td>NaN</td>\n",
       "      <td>0.0</td>\n",
       "      <td>0.0</td>\n",
       "      <td>99</td>\n",
       "      <td>...</td>\n",
       "      <td>True</td>\n",
       "      <td>True</td>\n",
       "      <td>True</td>\n",
       "      <td>True</td>\n",
       "      <td>True</td>\n",
       "      <td>False</td>\n",
       "      <td>False</td>\n",
       "      <td>False</td>\n",
       "      <td>False</td>\n",
       "      <td>0</td>\n",
       "    </tr>\n",
       "    <tr>\n",
       "      <th>7322</th>\n",
       "      <td>6053205700</td>\n",
       "      <td>2017-04-02 11:10</td>\n",
       "      <td>http://sfbay.craigslist.org/sfc/roo/6053205700...</td>\n",
       "      <td>male looking for female roommate</td>\n",
       "      <td>NaN</td>\n",
       "      <td>orange county</td>\n",
       "      <td>NaN</td>\n",
       "      <td>0.0</td>\n",
       "      <td>0.0</td>\n",
       "      <td>99</td>\n",
       "      <td>...</td>\n",
       "      <td>False</td>\n",
       "      <td>True</td>\n",
       "      <td>True</td>\n",
       "      <td>True</td>\n",
       "      <td>False</td>\n",
       "      <td>False</td>\n",
       "      <td>False</td>\n",
       "      <td>False</td>\n",
       "      <td>False</td>\n",
       "      <td>0</td>\n",
       "    </tr>\n",
       "    <tr>\n",
       "      <th>20295</th>\n",
       "      <td>6037956801</td>\n",
       "      <td>2017-04-05 15:55</td>\n",
       "      <td>http://sfbay.craigslist.org/sfc/roo/6037956801...</td>\n",
       "      <td>雅房 Mission夹Geneva</td>\n",
       "      <td>NaN</td>\n",
       "      <td>ingleside / SFSU / CCSF</td>\n",
       "      <td>NaN</td>\n",
       "      <td>0.0</td>\n",
       "      <td>0.0</td>\n",
       "      <td>99</td>\n",
       "      <td>...</td>\n",
       "      <td>True</td>\n",
       "      <td>True</td>\n",
       "      <td>False</td>\n",
       "      <td>False</td>\n",
       "      <td>False</td>\n",
       "      <td>False</td>\n",
       "      <td>False</td>\n",
       "      <td>False</td>\n",
       "      <td>False</td>\n",
       "      <td>0</td>\n",
       "    </tr>\n",
       "  </tbody>\n",
       "</table>\n",
       "<p>5 rows × 26 columns</p>\n",
       "</div>"
      ],
      "text/plain": [
       "              pid                dt  \\\n",
       "7347   6065495036  2017-04-02 13:32   \n",
       "20308  6075917680  2017-04-05 15:46   \n",
       "20364  6075830704  2017-04-05 15:09   \n",
       "7322   6053205700  2017-04-02 11:10   \n",
       "20295  6037956801  2017-04-05 15:55   \n",
       "\n",
       "                                                     url  \\\n",
       "7347   http://sfbay.craigslist.org/sfc/roo/6065495036...   \n",
       "20308  http://sfbay.craigslist.org/pen/roo/6075917680...   \n",
       "20364  http://sfbay.craigslist.org/sfc/roo/6075830704...   \n",
       "7322   http://sfbay.craigslist.org/sfc/roo/6053205700...   \n",
       "20295  http://sfbay.craigslist.org/sfc/roo/6037956801...   \n",
       "\n",
       "                                                   title  price  \\\n",
       "7347       $800 - OPEN BEDROOM IN LARGE MARINA APARTMENT    NaN   \n",
       "20308                      large room set up like studio    NaN   \n",
       "20364  $620 - LOOKING FOR INDIVIDUAL TO RENT LARGE MA...    NaN   \n",
       "7322                    male looking for female roommate    NaN   \n",
       "20295                                  雅房 Mission夹Geneva    NaN   \n",
       "\n",
       "                        neighb  sqft  lat  lng  accuracy  ...  private_room  \\\n",
       "7347       marina / cow hollow   NaN  0.0  0.0        99  ...          True   \n",
       "20308           east palo alto   NaN  0.0  0.0        99  ...          True   \n",
       "20364       SOMA / south beach   NaN  0.0  0.0        99  ...          True   \n",
       "7322             orange county   NaN  0.0  0.0        99  ...         False   \n",
       "20295  ingleside / SFSU / CCSF   NaN  0.0  0.0        99  ...          True   \n",
       "\n",
       "      bath_known private_bath parking_known onsite_parking price_exists  \\\n",
       "7347        True        False          True          False        False   \n",
       "20308       True         True         False          False        False   \n",
       "20364       True         True          True           True        False   \n",
       "7322        True         True          True          False        False   \n",
       "20295       True        False         False          False        False   \n",
       "\n",
       "      sqft_exists lat_exists lng_exists score  \n",
       "7347        False      False      False     0  \n",
       "20308       False      False      False     0  \n",
       "20364       False      False      False     0  \n",
       "7322        False      False      False     0  \n",
       "20295       False      False      False     0  \n",
       "\n",
       "[5 rows x 26 columns]"
      ]
     },
     "execution_count": 8,
     "metadata": {},
     "output_type": "execute_result"
    }
   ],
   "source": [
    "cleandf.tail()"
   ]
  },
  {
   "cell_type": "code",
   "execution_count": 9,
   "metadata": {
    "collapsed": false
   },
   "outputs": [],
   "source": [
    "#List as 'true' if the PID, body_text, or the title are duplicates\n",
    "cleandf['body_text_duplicate']=cleandf.duplicated('body_text')\n",
    "cleandf['title_duplicate']=cleandf.duplicated('title')\n",
    "cleandf['PID_duplicate']=cleandf.duplicated('pid')\n"
   ]
  },
  {
   "cell_type": "code",
   "execution_count": 10,
   "metadata": {
    "collapsed": false
   },
   "outputs": [
    {
     "data": {
      "text/plain": [
       "(12434, 29)"
      ]
     },
     "execution_count": 10,
     "metadata": {},
     "output_type": "execute_result"
    }
   ],
   "source": [
    "cleandf_unique = cleandf.drop_duplicates('pid')\n",
    "cleandf_unique.shape"
   ]
  },
  {
   "cell_type": "code",
   "execution_count": 11,
   "metadata": {
    "collapsed": false
   },
   "outputs": [
    {
     "data": {
      "text/plain": [
       "(9743, 29)"
      ]
     },
     "execution_count": 11,
     "metadata": {},
     "output_type": "execute_result"
    }
   ],
   "source": [
    "#Keep rows with highest score. Drop rows with duplicate PIDs, Duplicate Titles, Duplicate Posting Bodies\n",
    "cleandf_unique = cleandf_unique.drop_duplicates('body_text')\n",
    "cleandf_unique.shape"
   ]
  },
  {
   "cell_type": "code",
   "execution_count": 12,
   "metadata": {
    "collapsed": false
   },
   "outputs": [
    {
     "data": {
      "text/plain": [
       "(8320, 29)"
      ]
     },
     "execution_count": 12,
     "metadata": {},
     "output_type": "execute_result"
    }
   ],
   "source": [
    "cleandf_unique = cleandf_unique.drop_duplicates('title')\n",
    "cleandf_unique.shape"
   ]
  },
  {
   "cell_type": "markdown",
   "metadata": {},
   "source": [
    "## Creating new fields for analysis"
   ]
  },
  {
   "cell_type": "code",
   "execution_count": 13,
   "metadata": {
    "collapsed": false
   },
   "outputs": [],
   "source": [
    "cleandf_unique['dt'] = pd.to_datetime(cleandf_unique['dt'], format='%Y-%m-%d')\n",
    "cleandf_unique['region'] = cleandf_unique['url'].str.extract('http://(.*).craigslist.org', expand=False)\n",
    "cleandf_unique['day_of_week'] = cleandf_unique['dt'].apply(lambda x: x.weekday())\n",
    "cleandf_unique['rent_sqft'] = cleandf_unique['price'] / cleandf['sqft']"
   ]
  },
  {
   "cell_type": "code",
   "execution_count": 14,
   "metadata": {
    "collapsed": true
   },
   "outputs": [],
   "source": [
    "#counting listings per day (right now inlcudes time, need to remove)\n",
    "listings_per_date = cleandf_unique['dt'].value_counts()"
   ]
  },
  {
   "cell_type": "markdown",
   "metadata": {},
   "source": [
    "## Descriptive Stats"
   ]
  },
  {
   "cell_type": "code",
   "execution_count": 15,
   "metadata": {
    "collapsed": false,
    "scrolled": true
   },
   "outputs": [
    {
     "data": {
      "text/html": [
       "<div>\n",
       "<table border=\"1\" class=\"dataframe\">\n",
       "  <thead>\n",
       "    <tr style=\"text-align: right;\">\n",
       "      <th></th>\n",
       "      <th>pid</th>\n",
       "      <th>price</th>\n",
       "      <th>sqft</th>\n",
       "      <th>lat</th>\n",
       "      <th>lng</th>\n",
       "      <th>accuracy</th>\n",
       "      <th>score</th>\n",
       "      <th>day_of_week</th>\n",
       "      <th>rent_sqft</th>\n",
       "    </tr>\n",
       "  </thead>\n",
       "  <tbody>\n",
       "    <tr>\n",
       "      <th>count</th>\n",
       "      <td>8.320000e+03</td>\n",
       "      <td>7.538000e+03</td>\n",
       "      <td>2858.000000</td>\n",
       "      <td>8320.000000</td>\n",
       "      <td>8320.000000</td>\n",
       "      <td>8320.000000</td>\n",
       "      <td>8320.000000</td>\n",
       "      <td>8320.000000</td>\n",
       "      <td>2818.000000</td>\n",
       "    </tr>\n",
       "    <tr>\n",
       "      <th>mean</th>\n",
       "      <td>6.070679e+09</td>\n",
       "      <td>1.166763e+04</td>\n",
       "      <td>711.120364</td>\n",
       "      <td>32.419325</td>\n",
       "      <td>-105.210819</td>\n",
       "      <td>25.763341</td>\n",
       "      <td>2.971394</td>\n",
       "      <td>3.292788</td>\n",
       "      <td>55.358807</td>\n",
       "    </tr>\n",
       "    <tr>\n",
       "      <th>std</th>\n",
       "      <td>1.031722e+07</td>\n",
       "      <td>3.449174e+05</td>\n",
       "      <td>2525.405332</td>\n",
       "      <td>13.033776</td>\n",
       "      <td>42.290405</td>\n",
       "      <td>30.102703</td>\n",
       "      <td>0.976044</td>\n",
       "      <td>2.102059</td>\n",
       "      <td>1860.755512</td>\n",
       "    </tr>\n",
       "    <tr>\n",
       "      <th>min</th>\n",
       "      <td>6.025795e+09</td>\n",
       "      <td>1.000000e+00</td>\n",
       "      <td>1.000000</td>\n",
       "      <td>0.000000</td>\n",
       "      <td>-123.195100</td>\n",
       "      <td>0.000000</td>\n",
       "      <td>0.000000</td>\n",
       "      <td>0.000000</td>\n",
       "      <td>0.000500</td>\n",
       "    </tr>\n",
       "    <tr>\n",
       "      <th>25%</th>\n",
       "      <td>6.068551e+09</td>\n",
       "      <td>8.000000e+02</td>\n",
       "      <td>140.000000</td>\n",
       "      <td>37.333582</td>\n",
       "      <td>-122.417501</td>\n",
       "      <td>7.000000</td>\n",
       "      <td>3.000000</td>\n",
       "      <td>1.000000</td>\n",
       "      <td>1.318994</td>\n",
       "    </tr>\n",
       "    <tr>\n",
       "      <th>50%</th>\n",
       "      <td>6.073157e+09</td>\n",
       "      <td>1.015000e+03</td>\n",
       "      <td>223.500000</td>\n",
       "      <td>37.687300</td>\n",
       "      <td>-122.151060</td>\n",
       "      <td>15.000000</td>\n",
       "      <td>3.000000</td>\n",
       "      <td>4.000000</td>\n",
       "      <td>4.500000</td>\n",
       "    </tr>\n",
       "    <tr>\n",
       "      <th>75%</th>\n",
       "      <td>6.077527e+09</td>\n",
       "      <td>1.350000e+03</td>\n",
       "      <td>1025.250000</td>\n",
       "      <td>37.785232</td>\n",
       "      <td>-121.896607</td>\n",
       "      <td>22.000000</td>\n",
       "      <td>4.000000</td>\n",
       "      <td>5.000000</td>\n",
       "      <td>7.098171</td>\n",
       "    </tr>\n",
       "    <tr>\n",
       "      <th>max</th>\n",
       "      <td>6.082804e+09</td>\n",
       "      <td>1.300150e+07</td>\n",
       "      <td>90495.000000</td>\n",
       "      <td>39.544513</td>\n",
       "      <td>0.000000</td>\n",
       "      <td>99.000000</td>\n",
       "      <td>4.000000</td>\n",
       "      <td>6.000000</td>\n",
       "      <td>85723.928571</td>\n",
       "    </tr>\n",
       "  </tbody>\n",
       "</table>\n",
       "</div>"
      ],
      "text/plain": [
       "                pid         price          sqft          lat          lng  \\\n",
       "count  8.320000e+03  7.538000e+03   2858.000000  8320.000000  8320.000000   \n",
       "mean   6.070679e+09  1.166763e+04    711.120364    32.419325  -105.210819   \n",
       "std    1.031722e+07  3.449174e+05   2525.405332    13.033776    42.290405   \n",
       "min    6.025795e+09  1.000000e+00      1.000000     0.000000  -123.195100   \n",
       "25%    6.068551e+09  8.000000e+02    140.000000    37.333582  -122.417501   \n",
       "50%    6.073157e+09  1.015000e+03    223.500000    37.687300  -122.151060   \n",
       "75%    6.077527e+09  1.350000e+03   1025.250000    37.785232  -121.896607   \n",
       "max    6.082804e+09  1.300150e+07  90495.000000    39.544513     0.000000   \n",
       "\n",
       "          accuracy        score  day_of_week     rent_sqft  \n",
       "count  8320.000000  8320.000000  8320.000000   2818.000000  \n",
       "mean     25.763341     2.971394     3.292788     55.358807  \n",
       "std      30.102703     0.976044     2.102059   1860.755512  \n",
       "min       0.000000     0.000000     0.000000      0.000500  \n",
       "25%       7.000000     3.000000     1.000000      1.318994  \n",
       "50%      15.000000     3.000000     4.000000      4.500000  \n",
       "75%      22.000000     4.000000     5.000000      7.098171  \n",
       "max      99.000000     4.000000     6.000000  85723.928571  "
      ]
     },
     "execution_count": 15,
     "metadata": {},
     "output_type": "execute_result"
    }
   ],
   "source": [
    "cleandf_unique.describe()"
   ]
  },
  {
   "cell_type": "code",
   "execution_count": 16,
   "metadata": {
    "collapsed": true
   },
   "outputs": [],
   "source": [
    "unique_wprice = cleandf_unique[cleandf_unique['price'] > 0]"
   ]
  },
  {
   "cell_type": "code",
   "execution_count": 17,
   "metadata": {
    "collapsed": false
   },
   "outputs": [
    {
     "name": "stdout",
     "output_type": "stream",
     "text": [
      "valid rent_sqft range: [0.28000000000000003, nan]\n",
      "valid rent range: [50.0, 3100.0]\n",
      "valid sqft range: [70.0, nan]\n"
     ]
    }
   ],
   "source": [
    "# in this cell, define the values by which we will filter the 3 columns\n",
    "upper_percentile = 0.995\n",
    "lower_percentile = 0.005\n",
    "\n",
    "# how many rows would be within the upper and lower percentiles?\n",
    "upper = int(len(unique_wprice) * upper_percentile)\n",
    "lower = int(len(unique_wprice) * lower_percentile)\n",
    "\n",
    "# get the rent/sqft values at the upper and lower percentiles\n",
    "rent_sqft_sorted = unique_wprice['rent_sqft'].sort_values(ascending=True, inplace=False)\n",
    "upper_rent_sqft = rent_sqft_sorted.iloc[upper]\n",
    "lower_rent_sqft = rent_sqft_sorted.iloc[lower]\n",
    "\n",
    "# get the rent values at the upper and lower percentiles\n",
    "rent_sorted = unique_wprice['price'].sort_values(ascending=True, inplace=False)\n",
    "upper_rent = rent_sorted.iloc[upper]\n",
    "lower_rent = rent_sorted.iloc[lower]\n",
    "\n",
    "# get the sqft values at the upper and lower percentiles\n",
    "sqft_sorted = unique_wprice['sqft'].sort_values(ascending=True, inplace=False)\n",
    "upper_sqft = sqft_sorted.iloc[upper]\n",
    "lower_sqft = sqft_sorted.iloc[lower]\n",
    "\n",
    "print('valid rent_sqft range:', [lower_rent_sqft, upper_rent_sqft])\n",
    "print('valid rent range:', [lower_rent, upper_rent])\n",
    "print('valid sqft range:', [lower_sqft, upper_sqft])"
   ]
  },
  {
   "cell_type": "code",
   "execution_count": 18,
   "metadata": {
    "collapsed": false
   },
   "outputs": [],
   "source": [
    "#Filtering out rows with unreasonable rent prices \n",
    "rent_mask = (unique_wprice['price'] > lower_rent) & (unique_wprice['price'] < upper_rent)"
   ]
  },
  {
   "cell_type": "code",
   "execution_count": 19,
   "metadata": {
    "collapsed": false
   },
   "outputs": [],
   "source": [
    "filtered_listings = pd.DataFrame(unique_wprice[rent_mask])"
   ]
  },
  {
   "cell_type": "code",
   "execution_count": 20,
   "metadata": {
    "collapsed": false,
    "scrolled": true
   },
   "outputs": [
    {
     "data": {
      "text/html": [
       "<div>\n",
       "<table border=\"1\" class=\"dataframe\">\n",
       "  <thead>\n",
       "    <tr style=\"text-align: right;\">\n",
       "      <th></th>\n",
       "      <th>pid</th>\n",
       "      <th>price</th>\n",
       "      <th>sqft</th>\n",
       "      <th>lat</th>\n",
       "      <th>lng</th>\n",
       "      <th>accuracy</th>\n",
       "      <th>score</th>\n",
       "      <th>day_of_week</th>\n",
       "      <th>rent_sqft</th>\n",
       "    </tr>\n",
       "  </thead>\n",
       "  <tbody>\n",
       "    <tr>\n",
       "      <th>count</th>\n",
       "      <td>7.460000e+03</td>\n",
       "      <td>7460.000000</td>\n",
       "      <td>2787.000000</td>\n",
       "      <td>7460.000000</td>\n",
       "      <td>7460.000000</td>\n",
       "      <td>7460.000000</td>\n",
       "      <td>7460.000000</td>\n",
       "      <td>7460.000000</td>\n",
       "      <td>2787.000000</td>\n",
       "    </tr>\n",
       "    <tr>\n",
       "      <th>mean</th>\n",
       "      <td>6.070542e+09</td>\n",
       "      <td>1114.439678</td>\n",
       "      <td>705.411912</td>\n",
       "      <td>32.773381</td>\n",
       "      <td>-106.357986</td>\n",
       "      <td>24.873056</td>\n",
       "      <td>3.114075</td>\n",
       "      <td>3.268499</td>\n",
       "      <td>5.957566</td>\n",
       "    </tr>\n",
       "    <tr>\n",
       "      <th>std</th>\n",
       "      <td>1.040872e+07</td>\n",
       "      <td>422.441018</td>\n",
       "      <td>2553.076966</td>\n",
       "      <td>12.659021</td>\n",
       "      <td>41.072908</td>\n",
       "      <td>29.304104</td>\n",
       "      <td>0.869708</td>\n",
       "      <td>2.103732</td>\n",
       "      <td>23.757866</td>\n",
       "    </tr>\n",
       "    <tr>\n",
       "      <th>min</th>\n",
       "      <td>6.025795e+09</td>\n",
       "      <td>55.000000</td>\n",
       "      <td>1.000000</td>\n",
       "      <td>0.000000</td>\n",
       "      <td>-123.195100</td>\n",
       "      <td>0.000000</td>\n",
       "      <td>1.000000</td>\n",
       "      <td>0.000000</td>\n",
       "      <td>0.005470</td>\n",
       "    </tr>\n",
       "    <tr>\n",
       "      <th>25%</th>\n",
       "      <td>6.068421e+09</td>\n",
       "      <td>800.000000</td>\n",
       "      <td>140.000000</td>\n",
       "      <td>37.343041</td>\n",
       "      <td>-122.418006</td>\n",
       "      <td>7.000000</td>\n",
       "      <td>3.000000</td>\n",
       "      <td>1.000000</td>\n",
       "      <td>1.332593</td>\n",
       "    </tr>\n",
       "    <tr>\n",
       "      <th>50%</th>\n",
       "      <td>6.073091e+09</td>\n",
       "      <td>1015.000000</td>\n",
       "      <td>220.000000</td>\n",
       "      <td>37.700932</td>\n",
       "      <td>-122.178911</td>\n",
       "      <td>15.000000</td>\n",
       "      <td>3.000000</td>\n",
       "      <td>4.000000</td>\n",
       "      <td>4.519231</td>\n",
       "    </tr>\n",
       "    <tr>\n",
       "      <th>75%</th>\n",
       "      <td>6.077458e+09</td>\n",
       "      <td>1350.000000</td>\n",
       "      <td>1012.000000</td>\n",
       "      <td>37.785726</td>\n",
       "      <td>-121.911679</td>\n",
       "      <td>22.000000</td>\n",
       "      <td>4.000000</td>\n",
       "      <td>5.000000</td>\n",
       "      <td>7.110324</td>\n",
       "    </tr>\n",
       "    <tr>\n",
       "      <th>max</th>\n",
       "      <td>6.082804e+09</td>\n",
       "      <td>3000.000000</td>\n",
       "      <td>90495.000000</td>\n",
       "      <td>39.544513</td>\n",
       "      <td>0.000000</td>\n",
       "      <td>99.000000</td>\n",
       "      <td>4.000000</td>\n",
       "      <td>6.000000</td>\n",
       "      <td>950.000000</td>\n",
       "    </tr>\n",
       "  </tbody>\n",
       "</table>\n",
       "</div>"
      ],
      "text/plain": [
       "                pid        price          sqft          lat          lng  \\\n",
       "count  7.460000e+03  7460.000000   2787.000000  7460.000000  7460.000000   \n",
       "mean   6.070542e+09  1114.439678    705.411912    32.773381  -106.357986   \n",
       "std    1.040872e+07   422.441018   2553.076966    12.659021    41.072908   \n",
       "min    6.025795e+09    55.000000      1.000000     0.000000  -123.195100   \n",
       "25%    6.068421e+09   800.000000    140.000000    37.343041  -122.418006   \n",
       "50%    6.073091e+09  1015.000000    220.000000    37.700932  -122.178911   \n",
       "75%    6.077458e+09  1350.000000   1012.000000    37.785726  -121.911679   \n",
       "max    6.082804e+09  3000.000000  90495.000000    39.544513     0.000000   \n",
       "\n",
       "          accuracy        score  day_of_week    rent_sqft  \n",
       "count  7460.000000  7460.000000  7460.000000  2787.000000  \n",
       "mean     24.873056     3.114075     3.268499     5.957566  \n",
       "std      29.304104     0.869708     2.103732    23.757866  \n",
       "min       0.000000     1.000000     0.000000     0.005470  \n",
       "25%       7.000000     3.000000     1.000000     1.332593  \n",
       "50%      15.000000     3.000000     4.000000     4.519231  \n",
       "75%      22.000000     4.000000     5.000000     7.110324  \n",
       "max      99.000000     4.000000     6.000000   950.000000  "
      ]
     },
     "execution_count": 20,
     "metadata": {},
     "output_type": "execute_result"
    }
   ],
   "source": [
    "filtered_listings.describe()"
   ]
  },
  {
   "cell_type": "code",
   "execution_count": null,
   "metadata": {
    "collapsed": false
   },
   "outputs": [],
   "source": [
    "plt.figure(1, figsize=(10,6), )\n",
    "plt.suptitle('Rent Price Distribution')\n",
    "plt.xlabel('Price')\n",
    "plt.ylabel('Number of Listings')\n",
    "ax = plt.hist((filtered_listings['price']), bins=25, alpha=.4, color='cyan')\n",
    "plt.show()"
   ]
  },
  {
   "cell_type": "code",
   "execution_count": null,
   "metadata": {
    "collapsed": true
   },
   "outputs": [],
   "source": [
    "#filtered_listings.to_csv('sfbay_filtered4_10.csv')"
   ]
  },
  {
   "cell_type": "code",
   "execution_count": null,
   "metadata": {
    "collapsed": true
   },
   "outputs": [],
   "source": [
    "# calculate the ratios of unique to duplicate listings for each region\n",
    "listings_ratios = pd.DataFrame()\n",
    "\n",
    "# number of total listings for each region\n",
    "listings_ratios['cleandf'] = cleandf['region'].value_counts()\n",
    "\n",
    "# number of duplicate listings for each region (ie, listings that share a pid with at least one other listing)\n",
    "listings_ratios['duplicate_listings'] = duplicate_listings['region'].value_counts()\n",
    "\n",
    "# number of unique listings for the region (ie, none share a pid with another listing)\n",
    "listings_ratios['unique_listings'] = unique_listings['region'].value_counts()\n",
    "\n",
    "# percent of this region's listings that are duplicates\n",
    "listings_ratios['duplicate_ratio'] = listings_ratios['duplicate_listings'] / listings_ratios['all_listings']\n",
    "\n",
    "# percent of this region's listings that are unique (ie, not duplicates)\n",
    "listings_ratios['unique_ratio'] = listings_ratios['unique_listings'] / listings_ratios['all_listings']\n",
    "\n",
    "listings_ratios.head()"
   ]
  }
 ],
 "metadata": {
  "kernelspec": {
   "display_name": "Python 3",
   "language": "python",
   "name": "python3"
  },
  "language_info": {
   "codemirror_mode": {
    "name": "ipython",
    "version": 3
   },
   "file_extension": ".py",
   "mimetype": "text/x-python",
   "name": "python",
   "nbconvert_exporter": "python",
   "pygments_lexer": "ipython3",
   "version": "3.5.2"
  }
 },
 "nbformat": 4,
 "nbformat_minor": 0
}
