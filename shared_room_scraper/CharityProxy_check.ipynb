{
 "cells": [
  {
   "cell_type": "markdown",
   "metadata": {},
   "source": [
    "Checking if the charity proxy works"
   ]
  },
  {
   "cell_type": "code",
   "execution_count": null,
   "metadata": {
    "collapsed": true
   },
   "outputs": [],
   "source": [
    "import requests\n",
    "import sys\n",
    "from requests.auth import HTTPProxyAuth"
   ]
  },
  {
   "cell_type": "markdown",
   "metadata": {},
   "source": [
    "### Logic\n",
    "I've given 3 print commands throughout the run function. I'm expecting this piece of code to access *scholar.google.com*. populate page with the .get function (I don't think timeout is of any value here), print it' status code, and after creating a tree of the content, it shows me the tree.\n",
    "\n",
    "I'm still getting the same error. **MaxRetryError**"
   ]
  },
  {
   "cell_type": "code",
   "execution_count": null,
   "metadata": {
    "collapsed": false
   },
   "outputs": [],
   "source": [
    "DOMAINS = ['https://scholar.google.com/'] \n",
    "\n",
    "class RentalListingScraper(object):  \n",
    "          \n",
    "    def __init__(self, domains = DOMAINS):\n",
    "        \n",
    "        self.domains = domains\n",
    "   \n",
    "    def run(self, charity_proxy=True):   \n",
    "            \n",
    "        for domain in self.domains:\n",
    "            regionIsComplete = False\n",
    "            search_url = domain\n",
    "            print(\"tracing web page\")\n",
    "            while not regionIsComplete:\n",
    "                \n",
    "                s = requests.Session()\n",
    "                        \n",
    "                if charity_proxy:\n",
    "                    requests.packages.urllib3.disable_warnings()\n",
    "                    authenticator = '87783015bbe2d2f900e2f8be352c414a'\n",
    "                    proxy_str = 'http://' + authenticator + '@' +'workdistribute.charityengine.com:20000'\n",
    "                    s.proxies = {'http': proxy_str, 'https': proxy_str}\n",
    "                    s.auth = HTTPProxyAuth(authenticator,'')\n",
    "\n",
    "                try:\n",
    "                    page = s.get(search_url, timeout=10)\n",
    "                except requests.exceptions.Timeout:\n",
    "                    s = requests.Session()\n",
    "                    if charity_proxy:\n",
    "                        s.proxies = {'http': proxy_str, 'https': proxy_str}\n",
    "                        s.auth = HTTPProxyAuth(authenticator,'')\n",
    "                    try:\n",
    "                        page = s.get(search_url, timeout=10)    \n",
    "                    except:\n",
    "                        regionIsComplete = True\n",
    "#                         logging.info('FAILED TO CONNECT.')\n",
    "\n",
    "                try:\n",
    "                    tree = html.fromstring(page.content)\n",
    "                except:\n",
    "                    regionIsComplete = True\n",
    "#                     logging.info('FAILED TO PARSE HTML.')                    \n",
    "                        \n",
    "                print(page.status_code)\n",
    "                tree = html.fromstring(page.content)\n",
    "                tree\n",
    "                s.close()\n",
    "        return   "
   ]
  },
  {
   "cell_type": "code",
   "execution_count": null,
   "metadata": {
    "collapsed": true
   },
   "outputs": [],
   "source": [
    "scraper = RentalListingScraper()"
   ]
  },
  {
   "cell_type": "code",
   "execution_count": null,
   "metadata": {
    "collapsed": false
   },
   "outputs": [],
   "source": [
    "scraper.run()"
   ]
  },
  {
   "cell_type": "code",
   "execution_count": null,
   "metadata": {
    "collapsed": true
   },
   "outputs": [],
   "source": []
  }
 ],
 "metadata": {
  "kernelspec": {
   "display_name": "Python [Root]",
   "language": "python",
   "name": "Python [Root]"
  },
  "language_info": {
   "codemirror_mode": {
    "name": "ipython",
    "version": 3
   },
   "file_extension": ".py",
   "mimetype": "text/x-python",
   "name": "python",
   "nbconvert_exporter": "python",
   "pygments_lexer": "ipython3",
   "version": "3.5.2"
  }
 },
 "nbformat": 4,
 "nbformat_minor": 0
}
